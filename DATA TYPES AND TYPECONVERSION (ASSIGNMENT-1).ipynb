{
 "cells": [
  {
   "cell_type": "markdown",
   "id": "4e36f651",
   "metadata": {},
   "source": [
    "# Data types in python \n",
    "- integer == int\n",
    "- float == float\n",
    "- string == str\n",
    "- boolen == bool\n",
    "- complex == complex"
   ]
  },
  {
   "cell_type": "markdown",
   "id": "e11aef10",
   "metadata": {},
   "source": [
    "$integer$"
   ]
  },
  {
   "cell_type": "code",
   "execution_count": 28,
   "id": "6cb1e285",
   "metadata": {},
   "outputs": [
    {
     "data": {
      "text/plain": [
       "int"
      ]
     },
     "execution_count": 28,
     "metadata": {},
     "output_type": "execute_result"
    }
   ],
   "source": [
    "varable=100\n",
    "type(varable)"
   ]
  },
  {
   "cell_type": "markdown",
   "id": "5d59ea64",
   "metadata": {},
   "source": [
    "Here there are other 3 in integer \n",
    "- binary\n",
    "- octal\n",
    "- hexa"
   ]
  },
  {
   "cell_type": "markdown",
   "id": "fabcb051",
   "metadata": {},
   "source": [
    "$Binary$"
   ]
  },
  {
   "cell_type": "markdown",
   "id": "ed1f0ee6",
   "metadata": {},
   "source": [
    "- here bin means two\n",
    "- so here we required two numbers ie(0,1)\n",
    "- EX == 0b0011 (OR) 0B0011"
   ]
  },
  {
   "cell_type": "code",
   "execution_count": 4,
   "id": "bbf541de",
   "metadata": {},
   "outputs": [
    {
     "data": {
      "text/plain": [
       "3"
      ]
     },
     "execution_count": 4,
     "metadata": {},
     "output_type": "execute_result"
    }
   ],
   "source": [
    "0b0011"
   ]
  },
  {
   "cell_type": "code",
   "execution_count": 5,
   "id": "d79e2130",
   "metadata": {},
   "outputs": [
    {
     "data": {
      "text/plain": [
       "10"
      ]
     },
     "execution_count": 5,
     "metadata": {},
     "output_type": "execute_result"
    }
   ],
   "source": [
    "0B1010"
   ]
  },
  {
   "cell_type": "markdown",
   "id": "8a6cd06c",
   "metadata": {},
   "source": [
    "$octal$"
   ]
  },
  {
   "cell_type": "markdown",
   "id": "266adc3e",
   "metadata": {},
   "source": [
    "- octal means 8\n",
    "- here we required 8 numbers\n",
    "- 0,1,2,3,4,5,6,7 TOtal=8\n",
    "- EX 0o126 (OR) 0O123"
   ]
  },
  {
   "cell_type": "code",
   "execution_count": 6,
   "id": "8a2f1704",
   "metadata": {},
   "outputs": [
    {
     "data": {
      "text/plain": [
       "86"
      ]
     },
     "execution_count": 6,
     "metadata": {},
     "output_type": "execute_result"
    }
   ],
   "source": [
    "0o126"
   ]
  },
  {
   "cell_type": "code",
   "execution_count": 7,
   "id": "768878c8",
   "metadata": {},
   "outputs": [
    {
     "data": {
      "text/plain": [
       "83"
      ]
     },
     "execution_count": 7,
     "metadata": {},
     "output_type": "execute_result"
    }
   ],
   "source": [
    "0O123"
   ]
  },
  {
   "cell_type": "code",
   "execution_count": 8,
   "id": "6bb4d4b8",
   "metadata": {},
   "outputs": [
    {
     "ename": "SyntaxError",
     "evalue": "invalid digit '8' in octal literal (4288546682.py, line 1)",
     "output_type": "error",
     "traceback": [
      "\u001b[1;36m  Cell \u001b[1;32mIn[8], line 1\u001b[1;36m\u001b[0m\n\u001b[1;33m    0o128\u001b[0m\n\u001b[1;37m        ^\u001b[0m\n\u001b[1;31mSyntaxError\u001b[0m\u001b[1;31m:\u001b[0m invalid digit '8' in octal literal\n"
     ]
    }
   ],
   "source": [
    "0o128 # error because in octal we are having numbers uptp 7...."
   ]
  },
  {
   "cell_type": "markdown",
   "id": "457e44f5",
   "metadata": {},
   "source": [
    "$hexa$"
   ]
  },
  {
   "cell_type": "markdown",
   "id": "cf4c712b",
   "metadata": {},
   "source": [
    "- hexa means 16\n",
    "- here we require 16 number\n",
    "- 0,1,2,3,4,5,6,7,8,9,A,B,C,D,F\n",
    "- EX 0X1af (or) 0x2fa"
   ]
  },
  {
   "cell_type": "code",
   "execution_count": 9,
   "id": "5fa84f9a",
   "metadata": {},
   "outputs": [
    {
     "data": {
      "text/plain": [
       "2749"
      ]
     },
     "execution_count": 9,
     "metadata": {},
     "output_type": "execute_result"
    }
   ],
   "source": [
    "0xabd"
   ]
  },
  {
   "cell_type": "code",
   "execution_count": 10,
   "id": "4e46c063",
   "metadata": {},
   "outputs": [
    {
     "data": {
      "text/plain": [
       "303"
      ]
     },
     "execution_count": 10,
     "metadata": {},
     "output_type": "execute_result"
    }
   ],
   "source": [
    "0X12f"
   ]
  },
  {
   "cell_type": "markdown",
   "id": "7e3fd60d",
   "metadata": {},
   "source": [
    "# Float "
   ]
  },
  {
   "cell_type": "code",
   "execution_count": 11,
   "id": "723aec24",
   "metadata": {},
   "outputs": [
    {
     "data": {
      "text/plain": [
       "float"
      ]
     },
     "execution_count": 11,
     "metadata": {},
     "output_type": "execute_result"
    }
   ],
   "source": [
    "varable1=1.01\n",
    "type(varable1)"
   ]
  },
  {
   "cell_type": "markdown",
   "id": "20ccf516",
   "metadata": {},
   "source": [
    "here also some other elements are there they are"
   ]
  },
  {
   "cell_type": "code",
   "execution_count": 12,
   "id": "31b7c48e",
   "metadata": {},
   "outputs": [
    {
     "data": {
      "text/plain": [
       "100.0"
      ]
     },
     "execution_count": 12,
     "metadata": {},
     "output_type": "execute_result"
    }
   ],
   "source": [
    "10e1 # 10 is multiplied with 10"
   ]
  },
  {
   "cell_type": "code",
   "execution_count": 13,
   "id": "3fe03b7e",
   "metadata": {},
   "outputs": [
    {
     "data": {
      "text/plain": [
       "100.0"
      ]
     },
     "execution_count": 13,
     "metadata": {},
     "output_type": "execute_result"
    }
   ],
   "source": [
    "10e+1 # both are same"
   ]
  },
  {
   "cell_type": "code",
   "execution_count": 14,
   "id": "81c1928a",
   "metadata": {},
   "outputs": [
    {
     "data": {
      "text/plain": [
       "1000.0"
      ]
     },
     "execution_count": 14,
     "metadata": {},
     "output_type": "execute_result"
    }
   ],
   "source": [
    "10e+2 # 10mul with 100"
   ]
  },
  {
   "cell_type": "code",
   "execution_count": 15,
   "id": "0f509b78",
   "metadata": {},
   "outputs": [
    {
     "data": {
      "text/plain": [
       "1.0"
      ]
     },
     "execution_count": 15,
     "metadata": {},
     "output_type": "execute_result"
    }
   ],
   "source": [
    "10e-1 # here 10 is div with 10"
   ]
  },
  {
   "cell_type": "code",
   "execution_count": 16,
   "id": "2ef750a0",
   "metadata": {},
   "outputs": [
    {
     "data": {
      "text/plain": [
       "0.1"
      ]
     },
     "execution_count": 16,
     "metadata": {},
     "output_type": "execute_result"
    }
   ],
   "source": [
    "10e-2 "
   ]
  },
  {
   "cell_type": "markdown",
   "id": "d75339e0",
   "metadata": {},
   "source": [
    "- here e1 (or) e+1 means (mul)\n",
    "- and e-1 means (div)"
   ]
  },
  {
   "cell_type": "markdown",
   "id": "f9382731",
   "metadata": {},
   "source": [
    "# String"
   ]
  },
  {
   "cell_type": "code",
   "execution_count": 26,
   "id": "faae1f20",
   "metadata": {},
   "outputs": [
    {
     "data": {
      "text/plain": [
       "str"
      ]
     },
     "execution_count": 26,
     "metadata": {},
     "output_type": "execute_result"
    }
   ],
   "source": [
    "varable2='string'\n",
    "type(varable2)\n"
   ]
  },
  {
   "cell_type": "code",
   "execution_count": 18,
   "id": "d059222e",
   "metadata": {},
   "outputs": [
    {
     "name": "stdout",
     "output_type": "stream",
     "text": [
      "string\n"
     ]
    }
   ],
   "source": [
    "print('string')"
   ]
  },
  {
   "cell_type": "code",
   "execution_count": 19,
   "id": "5d540a27",
   "metadata": {},
   "outputs": [
    {
     "name": "stdout",
     "output_type": "stream",
     "text": [
      "string \"strings\"\n"
     ]
    }
   ],
   "source": [
    "print('string \"strings\"') #when we want to helight inside"
   ]
  },
  {
   "cell_type": "markdown",
   "id": "ae374fea",
   "metadata": {},
   "source": [
    "- triple single or triple double quations are used to write story\n",
    "- are called docstring"
   ]
  },
  {
   "cell_type": "code",
   "execution_count": 20,
   "id": "0b71c217",
   "metadata": {},
   "outputs": [
    {
     "data": {
      "text/plain": [
       "'welcome to python classes'"
      ]
     },
     "execution_count": 20,
     "metadata": {},
     "output_type": "execute_result"
    }
   ],
   "source": [
    "'''welcome to python classes'''"
   ]
  },
  {
   "cell_type": "markdown",
   "id": "e63c825b",
   "metadata": {},
   "source": [
    "# Boolen"
   ]
  },
  {
   "cell_type": "code",
   "execution_count": 21,
   "id": "cc742b8c",
   "metadata": {},
   "outputs": [
    {
     "data": {
      "text/plain": [
       "bool"
      ]
     },
     "execution_count": 21,
     "metadata": {},
     "output_type": "execute_result"
    }
   ],
   "source": [
    "varable3=True\n",
    "type(varable3)"
   ]
  },
  {
   "cell_type": "code",
   "execution_count": 24,
   "id": "d21d8252",
   "metadata": {},
   "outputs": [
    {
     "data": {
      "text/plain": [
       "bool"
      ]
     },
     "execution_count": 24,
     "metadata": {},
     "output_type": "execute_result"
    }
   ],
   "source": [
    "varable4=False\n",
    "type(varable4)"
   ]
  },
  {
   "cell_type": "markdown",
   "id": "a40b8478",
   "metadata": {},
   "source": [
    "# Complex"
   ]
  },
  {
   "cell_type": "markdown",
   "id": "36c3389b",
   "metadata": {},
   "source": [
    "- complex numbers are a+bj\n",
    "- where a is real part and b is imag part\n",
    "- ex 2+3j"
   ]
  },
  {
   "cell_type": "code",
   "execution_count": 29,
   "id": "158ec09c",
   "metadata": {},
   "outputs": [
    {
     "data": {
      "text/plain": [
       "complex"
      ]
     },
     "execution_count": 29,
     "metadata": {},
     "output_type": "execute_result"
    }
   ],
   "source": [
    "varable5=(2+3j)\n",
    "type(varable5)"
   ]
  },
  {
   "cell_type": "code",
   "execution_count": 30,
   "id": "dd4fd020",
   "metadata": {},
   "outputs": [
    {
     "data": {
      "text/plain": [
       "['__abs__',\n",
       " '__add__',\n",
       " '__bool__',\n",
       " '__class__',\n",
       " '__complex__',\n",
       " '__delattr__',\n",
       " '__dir__',\n",
       " '__doc__',\n",
       " '__eq__',\n",
       " '__format__',\n",
       " '__ge__',\n",
       " '__getattribute__',\n",
       " '__getnewargs__',\n",
       " '__getstate__',\n",
       " '__gt__',\n",
       " '__hash__',\n",
       " '__init__',\n",
       " '__init_subclass__',\n",
       " '__le__',\n",
       " '__lt__',\n",
       " '__mul__',\n",
       " '__ne__',\n",
       " '__neg__',\n",
       " '__new__',\n",
       " '__pos__',\n",
       " '__pow__',\n",
       " '__radd__',\n",
       " '__reduce__',\n",
       " '__reduce_ex__',\n",
       " '__repr__',\n",
       " '__rmul__',\n",
       " '__rpow__',\n",
       " '__rsub__',\n",
       " '__rtruediv__',\n",
       " '__setattr__',\n",
       " '__sizeof__',\n",
       " '__str__',\n",
       " '__sub__',\n",
       " '__subclasshook__',\n",
       " '__truediv__',\n",
       " 'conjugate',\n",
       " 'imag',\n",
       " 'real']"
      ]
     },
     "execution_count": 30,
     "metadata": {},
     "output_type": "execute_result"
    }
   ],
   "source": [
    "dir(varable5)"
   ]
  },
  {
   "cell_type": "code",
   "execution_count": null,
   "id": "02c2c6f0",
   "metadata": {},
   "outputs": [],
   "source": [
    "- we know that "
   ]
  },
  {
   "cell_type": "code",
   "execution_count": 31,
   "id": "926d7ae6",
   "metadata": {},
   "outputs": [
    {
     "data": {
      "text/plain": [
       "(2-3j)"
      ]
     },
     "execution_count": 31,
     "metadata": {},
     "output_type": "execute_result"
    }
   ],
   "source": [
    "#<package_name>.<methodname>\n",
    "varable5.conjugate()"
   ]
  },
  {
   "cell_type": "code",
   "execution_count": null,
   "id": "9abeb33b",
   "metadata": {},
   "outputs": [],
   "source": [
    "# here to get the info move the curser to method and (shift+tab)"
   ]
  },
  {
   "cell_type": "code",
   "execution_count": 33,
   "id": "8e20e6af",
   "metadata": {},
   "outputs": [
    {
     "data": {
      "text/plain": [
       "3.0"
      ]
     },
     "execution_count": 33,
     "metadata": {},
     "output_type": "execute_result"
    }
   ],
   "source": [
    "varable5.imag"
   ]
  },
  {
   "cell_type": "code",
   "execution_count": 34,
   "id": "99f5074f",
   "metadata": {},
   "outputs": [
    {
     "data": {
      "text/plain": [
       "2.0"
      ]
     },
     "execution_count": 34,
     "metadata": {},
     "output_type": "execute_result"
    }
   ],
   "source": [
    "varable5.real"
   ]
  },
  {
   "cell_type": "code",
   "execution_count": null,
   "id": "0a3d9eaf",
   "metadata": {},
   "outputs": [],
   "source": [
    "# ==============================================================================================================="
   ]
  },
  {
   "cell_type": "markdown",
   "id": "fa56a811",
   "metadata": {},
   "source": [
    "# DATATYPE CONVERSION"
   ]
  },
  {
   "cell_type": "markdown",
   "id": "28ae4351",
   "metadata": {},
   "source": [
    "- the process of converting one DT to another DT is called TypeCasting\n",
    "- example 1 INT to others"
   ]
  },
  {
   "cell_type": "code",
   "execution_count": 35,
   "id": "25426a0a",
   "metadata": {},
   "outputs": [
    {
     "data": {
      "text/plain": [
       "int"
      ]
     },
     "execution_count": 35,
     "metadata": {},
     "output_type": "execute_result"
    }
   ],
   "source": [
    "var=100\n",
    "type(var)"
   ]
  },
  {
   "cell_type": "code",
   "execution_count": 38,
   "id": "a09cc034",
   "metadata": {},
   "outputs": [
    {
     "name": "stdout",
     "output_type": "stream",
     "text": [
      "100.0\n",
      "100\n",
      "True\n",
      "(100+0j)\n"
     ]
    }
   ],
   "source": [
    "print(float(var))\n",
    "print(str(var))\n",
    "print(bool(var))\n",
    "print(complex(var))"
   ]
  },
  {
   "cell_type": "code",
   "execution_count": 39,
   "id": "064510d6",
   "metadata": {},
   "outputs": [
    {
     "name": "stdout",
     "output_type": "stream",
     "text": [
      "12\n",
      "True\n",
      "12.0\n",
      "(12+0j)\n"
     ]
    }
   ],
   "source": [
    "# float to other \n",
    "print(int(12.0))\n",
    "print(bool(12.0))\n",
    "print(str(12.0))\n",
    "print(complex(12.0))"
   ]
  },
  {
   "cell_type": "code",
   "execution_count": 41,
   "id": "54cc3723",
   "metadata": {},
   "outputs": [
    {
     "name": "stdout",
     "output_type": "stream",
     "text": [
      "True\n"
     ]
    }
   ],
   "source": [
    "#str to other \n",
    "#print(int('python')) #error\n",
    "print(bool('python'))  \n",
    "#print(float('python')) # error\n",
    "#print(complex('python')) #error \n",
    "# error because we can't convert a str in text fromat to other"
   ]
  },
  {
   "cell_type": "code",
   "execution_count": null,
   "id": "fd49d235",
   "metadata": {},
   "outputs": [],
   "source": [
    "# also in boolen if 0 only Flase\n",
    "# all othe r True"
   ]
  },
  {
   "cell_type": "code",
   "execution_count": 42,
   "id": "4374ee93",
   "metadata": {},
   "outputs": [
    {
     "name": "stdout",
     "output_type": "stream",
     "text": [
      "12\n",
      "True\n",
      "12.0\n",
      "(12+0j)\n"
     ]
    }
   ],
   "source": [
    "#str to other\n",
    "print(int('12'))\n",
    "print(bool('12'))\n",
    "print(float('12'))\n",
    "print(complex('12'))"
   ]
  },
  {
   "cell_type": "code",
   "execution_count": 44,
   "id": "07b62ad4",
   "metadata": {},
   "outputs": [
    {
     "name": "stdout",
     "output_type": "stream",
     "text": [
      "True\n",
      "12.0\n",
      "(12+0j)\n"
     ]
    }
   ],
   "source": [
    "#str to other\n",
    "#print(int('12.0'))\n",
    "print(bool('12.0'))\n",
    "print(float('12.0'))\n",
    "print(complex('12.0'))"
   ]
  },
  {
   "cell_type": "code",
   "execution_count": null,
   "id": "64d6546e",
   "metadata": {},
   "outputs": [],
   "source": [
    "# here '12 can convert to int and float'\n",
    "# but '12.0' can't canvert to int\n",
    "# but can convert to Float\n"
   ]
  },
  {
   "cell_type": "markdown",
   "id": "85c9d579",
   "metadata": {},
   "source": [
    "#                                            THE END "
   ]
  },
  {
   "cell_type": "code",
   "execution_count": null,
   "id": "da81ec49",
   "metadata": {},
   "outputs": [],
   "source": []
  }
 ],
 "metadata": {
  "kernelspec": {
   "display_name": "Python 3 (ipykernel)",
   "language": "python",
   "name": "python3"
  },
  "language_info": {
   "codemirror_mode": {
    "name": "ipython",
    "version": 3
   },
   "file_extension": ".py",
   "mimetype": "text/x-python",
   "name": "python",
   "nbconvert_exporter": "python",
   "pygments_lexer": "ipython3",
   "version": "3.11.5"
  }
 },
 "nbformat": 4,
 "nbformat_minor": 5
}

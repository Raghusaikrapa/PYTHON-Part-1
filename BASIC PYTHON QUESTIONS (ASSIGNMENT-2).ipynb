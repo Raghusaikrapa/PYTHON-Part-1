{
 "cells": [
  {
   "cell_type": "markdown",
   "id": "de8d64e4",
   "metadata": {},
   "source": [
    "# QUESTION 1"
   ]
  },
  {
   "cell_type": "markdown",
   "id": "bd1e06a1",
   "metadata": {},
   "source": [
    "Print out the square of the number"
   ]
  },
  {
   "cell_type": "code",
   "execution_count": 1,
   "id": "f476647d",
   "metadata": {},
   "outputs": [
    {
     "name": "stdout",
     "output_type": "stream",
     "text": [
      "enter a number:2\n",
      "the square of the number is 4\n"
     ]
    }
   ],
   "source": [
    "var=(eval(input('enter a number:')))\n",
    "\n",
    "print(f'the square of the number is {var**2}')"
   ]
  },
  {
   "cell_type": "markdown",
   "id": "85d37f2f",
   "metadata": {},
   "source": [
    "# QUESTION 2"
   ]
  },
  {
   "cell_type": "markdown",
   "id": "575da8b0",
   "metadata": {},
   "source": [
    "Ask the user to enter a number x. print out x, 2x, 3x, 4x, and 5x,\n",
    "each separated by three dashes"
   ]
  },
  {
   "cell_type": "code",
   "execution_count": 6,
   "id": "5f3e4416",
   "metadata": {},
   "outputs": [
    {
     "name": "stdout",
     "output_type": "stream",
     "text": [
      "enter a number:5\n",
      "5---10---15---20---25\n"
     ]
    }
   ],
   "source": [
    "var1=(eval(input(\"enter a number:\")))\n",
    "print(var1*1,var1*2,var1*3,var1*4,var1*5,sep=\"---\")"
   ]
  },
  {
   "cell_type": "markdown",
   "id": "5450afad",
   "metadata": {},
   "source": [
    "# QUESTION 3"
   ]
  },
  {
   "cell_type": "markdown",
   "id": "8570d357",
   "metadata": {},
   "source": [
    "Write a program that asks the user for a weight in kilograms and\n",
    "converts it to pounds. There are 2.2 pounds in a kilogram."
   ]
  },
  {
   "cell_type": "code",
   "execution_count": 5,
   "id": "350b5a1a",
   "metadata": {},
   "outputs": [
    {
     "name": "stdout",
     "output_type": "stream",
     "text": [
      "enter the weight:100\n",
      "the pounds in kilogran is 220.00000000000003\n"
     ]
    }
   ],
   "source": [
    "kilogram=eval(input(\"enter the weight:\"))\n",
    "pounds=kilogram*2.2\n",
    "print(f\"the pounds in kilogran is {pounds}\")"
   ]
  },
  {
   "cell_type": "markdown",
   "id": "4c445b53",
   "metadata": {},
   "source": [
    "# QUESTION 4"
   ]
  },
  {
   "cell_type": "markdown",
   "id": "8d3ceefe",
   "metadata": {},
   "source": [
    "Write a program that asks the user to enter three numbers (use three\n",
    "separate input statements).Create variables called total and average\n",
    "that hold the sum and average of the three numbers and print out the\n",
    "values of total and average."
   ]
  },
  {
   "cell_type": "code",
   "execution_count": 4,
   "id": "95d0dcce",
   "metadata": {},
   "outputs": [
    {
     "name": "stdout",
     "output_type": "stream",
     "text": [
      "enter the number:10\n",
      "enter the number:20\n",
      "enter the number:30\n",
      "the sum of 10 20 30 is 60  and the avg is 20.0\n"
     ]
    }
   ],
   "source": [
    "a=eval(input(\"enter the number:\"))\n",
    "b=eval(input(\"enter the number:\"))\n",
    "c=eval(input(\"enter the number:\"))\n",
    "total=a+b+c\n",
    "average=(a+b+c)/3\n",
    "print(f\"the sum of {a} {b} {c} is {total}  and the avg is {average}\")"
   ]
  },
  {
   "cell_type": "markdown",
   "id": "b0489efa",
   "metadata": {},
   "source": [
    "# QUESTION 5"
   ]
  },
  {
   "cell_type": "markdown",
   "id": "fe6f33a9",
   "metadata": {},
   "source": [
    "A lot of cell phones have tip calculators. Write one. Ask the user for\n",
    "the price of the meal and the percent tip they want to leave. Then\n",
    "print both the tip amount and the total bill with the tip included."
   ]
  },
  {
   "cell_type": "code",
   "execution_count": 3,
   "id": "b762b48f",
   "metadata": {},
   "outputs": [
    {
     "name": "stdout",
     "output_type": "stream",
     "text": [
      "enter the meal price:100\n",
      "enter the percentage tip:10\n",
      "the tip is 100.0 and total amount is 110\n"
     ]
    }
   ],
   "source": [
    "price=eval(input('enter the meal price:'))\n",
    "tip=eval(input('enter the percentage tip:'))\n",
    "tipper=tip*price/1001\n",
    "\n",
    "totalprice=price+tip\n",
    "print(f'the tip is {tipper} and total amount is {totalprice}')"
   ]
  },
  {
   "cell_type": "markdown",
   "id": "21708e1c",
   "metadata": {},
   "source": [
    "# QUESTION 6"
   ]
  },
  {
   "cell_type": "markdown",
   "id": "b3b89fe0",
   "metadata": {},
   "source": [
    "Let’s create a story between Father and daughter , You need to\n",
    "create a story by using print and input keywords\n",
    "You need to develop a python code same like below steps\n",
    "The goal of this code is to understand python is step by step\n",
    "process"
   ]
  },
  {
   "cell_type": "code",
   "execution_count": 3,
   "id": "78b1d620",
   "metadata": {},
   "outputs": [
    {
     "name": "stdout",
     "output_type": "stream",
     "text": [
      "father:hey son\n",
      "son:yes dad\n",
      "father:i heared that resuls came\n",
      "son:yes dad\n",
      "father:ok,how much percentage did u get overall\n",
      "son:i dont know the percentage dad\n",
      "father:ok then\n",
      "son:i know only marks i got in each subject\n",
      "father:oh then calculate the over all percentage and say me\n",
      "son:ok dad give me 5mins\n",
      "enter the marks:70\n",
      "enter the marks:60\n",
      "enter the marks:90\n",
      "enter the marks:87\n",
      "enter the marks:78\n",
      "dad i got 77.0 % in overall grade\n"
     ]
    }
   ],
   "source": [
    "print(\"father:hey son\")\n",
    "print(\"son:yes dad\")\n",
    "print(\"father:i heared that resuls came\")\n",
    "print(\"son:yes dad\")\n",
    "print(\"father:ok,how much percentage did u get overall\")\n",
    "print(\"son:i dont know the percentage dad\")\n",
    "print(\"father:ok then\")\n",
    "print(\"son:i know only marks i got in each subject\")\n",
    "print(\"father:oh then calculate the over all percentage and say me\")\n",
    "print(\"son:ok dad give me 5mins\")\n",
    "telugu=eval(input('enter the marks:'))\n",
    "hindi=eval(input('enter the marks:'))\n",
    "maths=eval(input('enter the marks:'))\n",
    "sciencs=eval(input('enter the marks:'))\n",
    "social=eval(input('enter the marks:'))\n",
    "total_marks=telugu+hindi+maths+sciencs+social\n",
    "percentage=(total_marks/500)*100\n",
    "print(f'dad i got {percentage} % in overall grade')"
   ]
  },
  {
   "cell_type": "code",
   "execution_count": null,
   "id": "00b281d5",
   "metadata": {},
   "outputs": [],
   "source": []
  }
 ],
 "metadata": {
  "kernelspec": {
   "display_name": "Python 3 (ipykernel)",
   "language": "python",
   "name": "python3"
  },
  "language_info": {
   "codemirror_mode": {
    "name": "ipython",
    "version": 3
   },
   "file_extension": ".py",
   "mimetype": "text/x-python",
   "name": "python",
   "nbconvert_exporter": "python",
   "pygments_lexer": "ipython3",
   "version": "3.11.5"
  }
 },
 "nbformat": 4,
 "nbformat_minor": 5
}

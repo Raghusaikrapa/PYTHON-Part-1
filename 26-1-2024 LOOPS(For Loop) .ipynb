{
 "cells": [
  {
   "cell_type": "markdown",
   "id": "18fbd7bc",
   "metadata": {},
   "source": [
    "- Till now we completed\n",
    "- Varables\n",
    "- DataTypes&Type conservation\n",
    "- Print Statements&input\n",
    "- Condational statements(if,elif,else)\n",
    "- Exception handling(try,except)\n",
    "- Functions(def,functions without args,with args,default,return,local&global varables,functions in functions)\n"
   ]
  },
  {
   "cell_type": "markdown",
   "id": "c43c1926",
   "metadata": {},
   "source": [
    "# LOOPS (26-01-2024)"
   ]
  },
  {
   "cell_type": "markdown",
   "id": "f24be2cd",
   "metadata": {},
   "source": [
    "# FOR LOOP"
   ]
  },
  {
   "cell_type": "markdown",
   "id": "b71c35f5",
   "metadata": {},
   "source": [
    "- loop is for reapeated tasks\n",
    "- function is for code reuse (or) reduce the lenght of code"
   ]
  },
  {
   "cell_type": "code",
   "execution_count": 11,
   "id": "4dae4022",
   "metadata": {},
   "outputs": [],
   "source": [
    "# example if we wnat to calculate the tax of 100 members\n",
    "# here we need salary,tax,totaltax\n",
    "# now 3*100=300lines but by using function we can reduce to one line so here functions are user\n",
    "# in loop\n",
    "# again 1*100=100lines\n",
    "# to reduce this 100 to 1 we need loops"
   ]
  },
  {
   "cell_type": "code",
   "execution_count": 12,
   "id": "3e8d989a",
   "metadata": {},
   "outputs": [
    {
     "name": "stdout",
     "output_type": "stream",
     "text": [
      "0\n",
      "1\n",
      "2\n",
      "3\n",
      "4\n"
     ]
    }
   ],
   "source": [
    "#syntax\n",
    "for i in range(5):\n",
    "    print(i)"
   ]
  },
  {
   "cell_type": "code",
   "execution_count": null,
   "id": "eb265f38",
   "metadata": {},
   "outputs": [],
   "source": [
    "# for ====keyword\n",
    "# i=======varable\n",
    "# in =======operator\n",
    "# rangee ======math operator"
   ]
  },
  {
   "cell_type": "markdown",
   "id": "e737c30f",
   "metadata": {},
   "source": [
    "#to run any loop we required 3 thing\n",
    "- inital point(start loop)\n",
    "- increment(or)decrement(gap)\n",
    "- stop the loop\n",
    "- but in for loop we write all this in one line only"
   ]
  },
  {
   "cell_type": "markdown",
   "id": "bdd7267f",
   "metadata": {},
   "source": [
    "**PATTERN-1**"
   ]
  },
  {
   "cell_type": "markdown",
   "id": "112b2066",
   "metadata": {},
   "source": [
    "range(stop-1)  #example(1)\n",
    "- inital value is 0\n",
    "- in python index value starts with 0\n",
    "- by default it is increment only(also positive direction only)\n",
    "- lastvalue is (stop-1)\n",
    "\n"
   ]
  },
  {
   "cell_type": "code",
   "execution_count": 29,
   "id": "7254afb9",
   "metadata": {},
   "outputs": [
    {
     "name": "stdout",
     "output_type": "stream",
     "text": [
      "0\n",
      "1\n",
      "2\n",
      "3\n",
      "4\n"
     ]
    }
   ],
   "source": [
    "#example\n",
    "for i in range(5):\n",
    "    print(i)\n",
    "# here start=0,increment=1,stop=5-1=4"
   ]
  },
  {
   "cell_type": "code",
   "execution_count": 26,
   "id": "5eb712cf",
   "metadata": {},
   "outputs": [
    {
     "name": "stdout",
     "output_type": "stream",
     "text": [
      "0 1 2 3 4 "
     ]
    }
   ],
   "source": [
    "for i in range(5):\n",
    "    print(i,end=\" \")"
   ]
  },
  {
   "cell_type": "code",
   "execution_count": 17,
   "id": "9c4b1334",
   "metadata": {},
   "outputs": [
    {
     "name": "stdout",
     "output_type": "stream",
     "text": [
      "0 0\n",
      "1 1\n",
      "2 2\n",
      "3 3\n",
      "4 4\n"
     ]
    }
   ],
   "source": [
    "for i in range(5):\n",
    "    print(i,end=\" \")\n",
    "    print(i)"
   ]
  },
  {
   "cell_type": "code",
   "execution_count": 18,
   "id": "9abd1345",
   "metadata": {},
   "outputs": [
    {
     "name": "stdout",
     "output_type": "stream",
     "text": [
      "0 0\n",
      "1 1\n",
      "2 4\n",
      "3 9\n",
      "4 16\n"
     ]
    }
   ],
   "source": [
    "for i in range(5):\n",
    "    print(i,end=\" \")\n",
    "    print(i*i)"
   ]
  },
  {
   "cell_type": "code",
   "execution_count": 19,
   "id": "595d7579",
   "metadata": {},
   "outputs": [
    {
     "name": "stdout",
     "output_type": "stream",
     "text": [
      "0 0 1 1 2 4 3 9 4 16 "
     ]
    }
   ],
   "source": [
    "for i in range(5):\n",
    "    print(i,end=\" \")\n",
    "    print(i*i,end=\" \")"
   ]
  },
  {
   "cell_type": "code",
   "execution_count": 7,
   "id": "bdea91ce",
   "metadata": {},
   "outputs": [
    {
     "name": "stdout",
     "output_type": "stream",
     "text": [
      "0\n",
      "1\n",
      "2\n",
      "3\n",
      "4\n",
      "4\n"
     ]
    }
   ],
   "source": [
    "for i in range(5):  \n",
    "    print(i)\n",
    "print(i)     # when we print outside the loop we get last 1 value as output"
   ]
  },
  {
   "cell_type": "markdown",
   "id": "121729f4",
   "metadata": {},
   "source": [
    "**PATTERN-2**"
   ]
  },
  {
   "cell_type": "markdown",
   "id": "367dadbf",
   "metadata": {},
   "source": [
    "range(start,stop-1)\n",
    "- here start value is mentioned by us in range\n",
    "- increment by 1(in positive direction only)both are by default\n",
    "- lastvalue is stop-1\n",
    "    "
   ]
  },
  {
   "cell_type": "code",
   "execution_count": 28,
   "id": "338616bf",
   "metadata": {},
   "outputs": [
    {
     "name": "stdout",
     "output_type": "stream",
     "text": [
      "1 2 3 4 5 6 7 8 "
     ]
    }
   ],
   "source": [
    "#example\n",
    "for i in range(1,9):\n",
    "    print(i,end=\" \")\n",
    "# here start=1,increment=1,stop=9-1=8"
   ]
  },
  {
   "cell_type": "markdown",
   "id": "1b4f6e85",
   "metadata": {},
   "source": [
    "**PATTERN-3**"
   ]
  },
  {
   "cell_type": "markdown",
   "id": "8846ef1f",
   "metadata": {},
   "source": [
    "range(start,stop,step)\n",
    "- start=startvalue\n",
    "- stepvalue(how much gap u need)\n",
    "  - if step value is positive then postive direction the loop moves\n",
    "  - if step value is negative then negative direction the loop moves\n",
    "- stop value\n",
    "  - if step value is positive then (stop-1)==last value\n",
    "  - if step value is negative then (stop+1)== lat value"
   ]
  },
  {
   "cell_type": "code",
   "execution_count": 1,
   "id": "eb03d90b",
   "metadata": {},
   "outputs": [
    {
     "name": "stdout",
     "output_type": "stream",
     "text": [
      "2 4 6 8 10 12 "
     ]
    }
   ],
   "source": [
    "#example\n",
    "for i in range(2,13,2):\n",
    "    print(i,end=\" \")\n",
    "# here start====2\n",
    "#      stop=====13(step value is postive so 13-1=12)\n",
    "#      step=====2(+ve so move positive & give 1 unit gap)\n",
    "# expected o/p is 2,4,6,8,10,12...... "
   ]
  },
  {
   "cell_type": "code",
   "execution_count": 2,
   "id": "5f0bfaa3",
   "metadata": {},
   "outputs": [],
   "source": [
    "#example\n",
    "for i in range(2,9,-3):\n",
    "    print(i,end=\" \")\n",
    "    #here start=2\n",
    "    #stop=9(step is -ve so stop+1==(9+1=10))\n",
    "    #step=-3(so -ve direction)\n",
    "    #here 2 and 9 are in postive direction but step is back word so not possible and no o/p"
   ]
  },
  {
   "cell_type": "code",
   "execution_count": 3,
   "id": "d7c690e7",
   "metadata": {},
   "outputs": [],
   "source": [
    "for i in range(3,-15,3):\n",
    "    print(i,end=\" \")\n",
    "    #start=3\n",
    "    #stop=-15(stepvalue is 3 ie(+ve) so stop-1==-15+1=-14)\n",
    "    #step=3(+ve direction)\n",
    "    #3 is postive and stop=-14(-ve) &direction is +ve\n",
    "    # so not possible and no error"
   ]
  },
  {
   "cell_type": "code",
   "execution_count": null,
   "id": "01d68df3",
   "metadata": {},
   "outputs": [],
   "source": [
    "range(5,15,3) # possible\n",
    "range(5,15,-3) # not possible\n",
    "range(5,-15,-3) # possible\n",
    "range(-5,-15,-3) # possible\n",
    "range(5,-15,3) # not possible\n",
    "range(-5,-15,3) # notpossible\n",
    "range(-5,15,-3) #not possible\n",
    "range(-5,15,3) # possible\n",
    "range(5,15) # possible\n",
    "range(-5,15) # possible\n",
    "range(-5,-15) # notpossible\n",
    "range(15,5) # notpossible\n",
    "range(-15,5) # possible\n",
    "range(15,-5) # notpossible"
   ]
  },
  {
   "cell_type": "code",
   "execution_count": 2,
   "id": "f88e0b1c",
   "metadata": {},
   "outputs": [
    {
     "name": "stdout",
     "output_type": "stream",
     "text": [
      "the square of 5 is 25\n",
      "the square of 6 is 36\n",
      "the square of 7 is 49\n",
      "the square of 8 is 64\n",
      "the square of 9 is 81\n",
      "the square of 10 is 100\n"
     ]
    }
   ],
   "source": [
    "# WAP ask the user print square of the numbers between 5 to 10\n",
    "# print(the square of 5 is 25)\n",
    "for i in range(5,11):\n",
    "    print(f\"the square of {i} is {i*i}\")"
   ]
  },
  {
   "cell_type": "code",
   "execution_count": 6,
   "id": "8dbd9236",
   "metadata": {},
   "outputs": [
    {
     "name": "stdout",
     "output_type": "stream",
     "text": [
      "9 x 1 = 9\n",
      "9 x 2 = 18\n",
      "9 x 3 = 27\n",
      "9 x 4 = 36\n",
      "9 x 5 = 45\n",
      "9 x 6 = 54\n",
      "9 x 7 = 63\n",
      "9 x 8 = 72\n",
      "9 x 9 = 81\n",
      "9 x 10 = 90\n"
     ]
    }
   ],
   "source": [
    "#print 9th table by using for loop\n",
    "for x in range(1,11):\n",
    "    print(f\"9 x {x} = {9*x}\")\n",
    "    # here x=1,2,3,4,5,6,7,8,9,10\n",
    "    # here 9*x gives 9,18,27,36,45,54,63,72,61,100"
   ]
  },
  {
   "cell_type": "code",
   "execution_count": 12,
   "id": "4c479c32",
   "metadata": {},
   "outputs": [
    {
     "name": "stdout",
     "output_type": "stream",
     "text": [
      "enter the table number:2\n",
      "2 x 1 = 2\n",
      "2 x 2 = 4\n",
      "2 x 3 = 6\n",
      "2 x 4 = 8\n",
      "2 x 5 = 10\n",
      "2 x 6 = 12\n",
      "2 x 7 = 14\n",
      "2 x 8 = 16\n",
      "2 x 9 = 18\n",
      "2 x 10 = 20\n"
     ]
    }
   ],
   "source": [
    "# wap take user input and if user enter the table number that table should display\n",
    "table=eval(input(\"enter the table number:\"))\n",
    "for x in range(1,11):\n",
    "    print(f\"{table} x {x} = {table*x}\")"
   ]
  },
  {
   "cell_type": "code",
   "execution_count": null,
   "id": "ef40d315",
   "metadata": {},
   "outputs": [],
   "source": [
    "# WAP ask the user get 5 random numbers between 5 to 50\n",
    "# and print the square of those number\n",
    "# 5 random numbers means : loop shoud run 5 times\n",
    "# to get random number we need to use random package\n",
    "# random.randint we need to keep inside the for loop"
   ]
  },
  {
   "cell_type": "code",
   "execution_count": 16,
   "id": "b8cf2777",
   "metadata": {},
   "outputs": [
    {
     "name": "stdout",
     "output_type": "stream",
     "text": [
      "The suqare of 7 is 49\n",
      "The suqare of 21 is 441\n",
      "The suqare of 7 is 49\n",
      "The suqare of 28 is 784\n",
      "The suqare of 5 is 25\n"
     ]
    }
   ],
   "source": [
    "import random\n",
    "for i in range(5):\n",
    "    rand=random.randint(5,50)\n",
    "    print(f\"The suqare of {rand} is {rand*rand}\")"
   ]
  },
  {
   "cell_type": "code",
   "execution_count": 25,
   "id": "7e4d7c8f",
   "metadata": {},
   "outputs": [
    {
     "name": "stdout",
     "output_type": "stream",
     "text": [
      "The suqare of 13 is 169\n",
      "The suqare of 13 is 169\n",
      "The suqare of 13 is 169\n",
      "The suqare of 13 is 169\n",
      "The suqare of 13 is 169\n"
     ]
    }
   ],
   "source": [
    "# when we put randomnumber outside the loop its takes 1 random number and runs the samenumber 5 times \n",
    "num=random.randint(5,50)\n",
    "for i in range(5):\n",
    "    print(f\"The suqare of {num} is {num*num}\")"
   ]
  },
  {
   "cell_type": "code",
   "execution_count": 27,
   "id": "2f260692",
   "metadata": {},
   "outputs": [
    {
     "name": "stdout",
     "output_type": "stream",
     "text": [
      "hello sir\n",
      "hello sir\n",
      "hello sir\n"
     ]
    }
   ],
   "source": [
    "#example \n",
    "for i in range(3):# here how much value we give that many times the loop runs\n",
    "    print('hello sir')"
   ]
  },
  {
   "cell_type": "code",
   "execution_count": null,
   "id": "4a85a2f2",
   "metadata": {},
   "outputs": [],
   "source": [
    "# WAP ask the user print it is even number or odd number\n",
    "# between 5 to 10\n",
    "#==========================================================\n",
    "# WAP ask ther user enter a number and print it is even or odd\n",
    "# ask the user to enter a number 5 times\n",
    "#==========================================================\n",
    "# WAP ask the user get a 5 random numbers between 5,50\n",
    "# print it is a even or odd"
   ]
  },
  {
   "cell_type": "code",
   "execution_count": 29,
   "id": "446609c8",
   "metadata": {},
   "outputs": [
    {
     "name": "stdout",
     "output_type": "stream",
     "text": [
      "5 is odd number\n",
      "6 is even number\n",
      "7 is odd number\n",
      "8 is even number\n",
      "9 is odd number\n",
      "10 is even number\n"
     ]
    }
   ],
   "source": [
    "#example=1\n",
    "for x in range(5,11):\n",
    "    if x%2==0:\n",
    "        print(f\"{x} is even number\")\n",
    "    else:\n",
    "        print(f\"{x} is odd number\")"
   ]
  },
  {
   "cell_type": "code",
   "execution_count": 30,
   "id": "fe370d5c",
   "metadata": {},
   "outputs": [
    {
     "name": "stdout",
     "output_type": "stream",
     "text": [
      "enter a number sir:2\n",
      "2 is even number\n",
      "enter a number sir:3\n",
      "3 is odd number\n",
      "enter a number sir:5\n",
      "5 is odd number\n",
      "enter a number sir:3\n",
      "3 is odd number\n",
      "enter a number sir:7\n",
      "7 is odd number\n"
     ]
    }
   ],
   "source": [
    "#example-2\n",
    "for x in range(5):\n",
    "    num=eval(input(\"enter a number sir:\"))\n",
    "    if num%2==0:\n",
    "        print(f\"{num} is even number\")\n",
    "    else:\n",
    "        print(f\"{num} is odd number\")"
   ]
  },
  {
   "cell_type": "code",
   "execution_count": 31,
   "id": "df4d26d5",
   "metadata": {},
   "outputs": [
    {
     "name": "stdout",
     "output_type": "stream",
     "text": [
      "5 is odd number\n",
      "9 is odd number\n",
      "10 is even number\n",
      "13 is odd number\n",
      "7 is odd number\n"
     ]
    }
   ],
   "source": [
    "#example-3\n",
    "import random\n",
    "for x in range(5):\n",
    "    rand=random.randint(5,20)\n",
    "    if rand%2==0:\n",
    "        print(f\"{rand} is even number\")\n",
    "    else:\n",
    "         print(f\"{rand} is odd number\")"
   ]
  },
  {
   "cell_type": "code",
   "execution_count": null,
   "id": "c83041bd",
   "metadata": {},
   "outputs": [],
   "source": [
    "# Improvise the above code\n",
    "# Find out how many even numbers are there\n",
    "# how many odd numbers are there\n",
    "# counter program"
   ]
  },
  {
   "cell_type": "code",
   "execution_count": 39,
   "id": "bea1b0e2",
   "metadata": {},
   "outputs": [
    {
     "name": "stdout",
     "output_type": "stream",
     "text": [
      "16 is even number\n",
      "12 is even number\n",
      "19 is odd number\n",
      "9 is odd number\n",
      "6 is even number\n",
      "the number os even numbers are 3\n",
      "the number os odd numbers are 2\n"
     ]
    }
   ],
   "source": [
    "#counter program\n",
    "import random\n",
    "even_count=0 #we have to instialize the value =0\n",
    "odd_count=0 #same here also==0\n",
    "for x in range(5):\n",
    "    rand=random.randint(5,20)\n",
    "    if rand%2==0:\n",
    "        print(f\"{rand} is even number\")\n",
    "        even_count=even_count+1\n",
    "    else:\n",
    "        print(f\"{rand} is odd number\")\n",
    "        odd_count=odd_count+1\n",
    "print(f\"the number os even numbers are {even_count}\")\n",
    "print(f\"the number os odd numbers are {odd_count}\")"
   ]
  },
  {
   "cell_type": "markdown",
   "id": "b4d26c88",
   "metadata": {},
   "source": [
    "# 29-01-2024(MONDAY)"
   ]
  },
  {
   "cell_type": "code",
   "execution_count": 44,
   "id": "6aa1d1cd",
   "metadata": {},
   "outputs": [
    {
     "name": "stdout",
     "output_type": "stream",
     "text": [
      "5\n"
     ]
    }
   ],
   "source": [
    "count=0\n",
    "for x in range(5):\n",
    "    count=count+1\n",
    "print(count)\n",
    "# here we know loop runs 5time so count is 5 but internally\n",
    "# initally x=1,count=0+1=1\n",
    "# next x=2,count=1+1=2\n",
    "#next x=3,count=2+1=3\n",
    "# next x=4,count=3+1=4\n",
    "# last x=5,count=4+1=5\n",
    "#thats the answer bro"
   ]
  },
  {
   "cell_type": "code",
   "execution_count": 47,
   "id": "72f65b01",
   "metadata": {},
   "outputs": [
    {
     "name": "stdout",
     "output_type": "stream",
     "text": [
      "55\n"
     ]
    }
   ],
   "source": [
    "# i want to get some of 10 numbers\n",
    "summ=0\n",
    "for x in range(1,11):\n",
    "    summ=summ+x\n",
    "print(summ)\n",
    "#here initally sum=0 and i=1 summ=1\n",
    "# next sum=1 and i=2 summ=3\n",
    "# sum=3 and i =3 summ=6\n",
    "# at last summ=45 and i=10 ie summ=55"
   ]
  },
  {
   "cell_type": "code",
   "execution_count": 53,
   "id": "4568ca8b",
   "metadata": {},
   "outputs": [
    {
     "name": "stdout",
     "output_type": "stream",
     "text": [
      "enter a number:20\n",
      "1 is diviser of 20\n",
      "2 is diviser of 20\n",
      "4 is diviser of 20\n",
      "5 is diviser of 20\n",
      "10 is diviser of 20\n",
      "There are total 5 of divisers for 20\n"
     ]
    }
   ],
   "source": [
    "# WAP ask the user to find the divisors of a given number\n",
    "# I want to know divisors of 10\n",
    "# how many times you need to run the loop\n",
    "# also count how many number of divisers are their\n",
    "# step-1: choose your start and stop\n",
    "# step-2: iterate through loop\n",
    "# step-3: if num%i==0:\n",
    "# step-5: print(i)\n",
    "count=0\n",
    "num=eval(input(\"enter a number:\"))\n",
    "for i in range(1,20):\n",
    "    if num%i==0:\n",
    "        print(f\"{i} is diviser of {num}\") \n",
    "        count=count+1\n",
    "print(f\"There are total {count} of divisers for {num}\")\n",
    "\n",
    "\n",
    "        \n",
    "    "
   ]
  },
  {
   "cell_type": "code",
   "execution_count": 77,
   "id": "cc49917d",
   "metadata": {},
   "outputs": [
    {
     "name": "stdout",
     "output_type": "stream",
     "text": [
      "1 is divesior of 10\n",
      "2 is divesior of 10\n",
      "5 is divesior of 10\n",
      "10 is divesior of 10\n",
      "the total number of divisors are 4\n"
     ]
    }
   ],
   "source": [
    "# Create a function for above code\n",
    "# num as argument\n",
    "# count as return\n",
    "def diverisors(num):\n",
    "    count=0\n",
    "    for x in range(1,20):\n",
    "        if num%x==0:\n",
    "            print(f\"{x} is divesior of {num}\")\n",
    "            count=count+1\n",
    "    return count\n",
    "count=diverisors(10)\n",
    "print(\"the total number of divisors are\",count)"
   ]
  },
  {
   "cell_type": "code",
   "execution_count": 72,
   "id": "bc686f3a",
   "metadata": {},
   "outputs": [
    {
     "name": "stdout",
     "output_type": "stream",
     "text": [
      "1 is divesior of 5\n",
      "5 is divesior of 5\n",
      "the total number of divisors are 2\n"
     ]
    }
   ],
   "source": [
    "# same program by using global keyword\n",
    "def diverisors(num):\n",
    "    global count\n",
    "    count=0\n",
    "    for x in range(1,20):\n",
    "        if num%x==0:\n",
    "            print(f\"{x} is divesior of {num}\")\n",
    "            count=count+1\n",
    "diverisors(5)\n",
    "print(\"the total number of divisors are\",count)"
   ]
  },
  {
   "cell_type": "code",
   "execution_count": null,
   "id": "54332ad8",
   "metadata": {},
   "outputs": [],
   "source": [
    "# WAP ask the user get a random number 1,10\n",
    "# ask the user enter a number\n",
    "# if both are matching print you won\n",
    "# else print you lost\n",
    "# give 3 chances\n",
    "# step-1: import <>\n",
    "# step-2: random_num=random.randint()\n",
    "# step-3: user_num=eval()\n",
    "# step-4: if <>: print(won)\n",
    "# step-5: else: print(lost)\n"
   ]
  },
  {
   "cell_type": "code",
   "execution_count": 79,
   "id": "e7d8b210",
   "metadata": {},
   "outputs": [
    {
     "name": "stdout",
     "output_type": "stream",
     "text": [
      "enter a number b/w 1 to 10:2\n",
      "u lost\n",
      "enter a number b/w 1 to 10:3\n",
      "u lost\n",
      "enter a number b/w 1 to 10:4\n",
      "u lost\n"
     ]
    }
   ],
   "source": [
    "import random\n",
    "for x in range(3):\n",
    "    rand=random.randint(1,10)\n",
    "    num=eval(input(\"enter a number b/w 1 to 10:\"))\n",
    "    if rand==num:\n",
    "        print(f\"{rand} is {num} u won bro\")\n",
    "    else:\n",
    "        print(\"u lost\")\n"
   ]
  },
  {
   "cell_type": "code",
   "execution_count": null,
   "id": "36218039",
   "metadata": {},
   "outputs": [],
   "source": [
    "# The problem: if you guess correct or wrong, it is asking again\n",
    "# we need to avoid that\n",
    "# improvise above code\n",
    "# when you guess correct number code should stop\n",
    "# the guess the number prompt shoud come whenever you out"
   ]
  },
  {
   "cell_type": "code",
   "execution_count": 85,
   "id": "0510e73a",
   "metadata": {},
   "outputs": [
    {
     "name": "stdout",
     "output_type": "stream",
     "text": [
      "entera number:3\n",
      "u lost sir\n",
      "entera number:4\n",
      "u lost sir\n",
      "entera number:5\n",
      "u lost sir\n"
     ]
    }
   ],
   "source": [
    "# here if we won the game then it should stop the asking so keep break\n",
    "import random\n",
    "for i in range(3):\n",
    "    rand=random.randint(1,10)\n",
    "    num=eval(input('entera number:'))\n",
    "    if num==rand:\n",
    "        print(f\"{rand} equal to {num} u won\")\n",
    "        break\n",
    "    else:\n",
    "        print(\"u lost sir\")"
   ]
  },
  {
   "cell_type": "code",
   "execution_count": null,
   "id": "b833407d",
   "metadata": {},
   "outputs": [],
   "source": [
    "# Improvise the above code , to communicate the user\n",
    "# about number of chances left\n",
    "# whenever he failed to guess a number, which means he already lost one chan\n",
    "# you need to display, number of chances left is"
   ]
  },
  {
   "cell_type": "code",
   "execution_count": 92,
   "id": "452c694a",
   "metadata": {},
   "outputs": [
    {
     "name": "stdout",
     "output_type": "stream",
     "text": [
      "entera number:2\n",
      "u lost sir\n",
      "u have 2 chances left\n",
      "entera number:3\n",
      "u lost sir\n",
      "u have 1 chances left\n",
      "entera number:4\n",
      "u lost sir\n",
      "u have 0 chances left\n"
     ]
    }
   ],
   "source": [
    "import random\n",
    "chances=3\n",
    "for i in range(3):\n",
    "    rand=random.randint(1,10)\n",
    "    num=eval(input('entera number:'))\n",
    "    if num==rand:\n",
    "        print(f\"{rand} equal to {num} u won\")\n",
    "        break\n",
    "    else:\n",
    "        print(\"u lost sir\")\n",
    "        print(f\"u have {chances-i-1} chances left\")"
   ]
  },
  {
   "cell_type": "code",
   "execution_count": null,
   "id": "8f97bbd8",
   "metadata": {},
   "outputs": [],
   "source": [
    "# improvise above code\n",
    "# when user lost all the chances ,\n",
    "# your all chances are over, pls try after 30 mins"
   ]
  },
  {
   "cell_type": "code",
   "execution_count": 100,
   "id": "2e344b87",
   "metadata": {},
   "outputs": [
    {
     "name": "stdout",
     "output_type": "stream",
     "text": [
      "enter the number of chances u need5\n",
      "enter a number b/w 1 to 10:3\n",
      "u lost\n",
      "u have 4 chances left\n",
      "enter a number b/w 1 to 10:4\n",
      "u lost\n",
      "u have 3 chances left\n",
      "enter a number b/w 1 to 10:4\n",
      "u lost\n",
      "u have 2 chances left\n",
      "enter a number b/w 1 to 10:4\n",
      "u lost\n",
      "u have 1 chances left\n",
      "enter a number b/w 1 to 10:5\n",
      "u lost\n",
      "u have 0 chances left\n",
      "you have lost all the chances plz try after some time\n"
     ]
    }
   ],
   "source": [
    "import random\n",
    "chances=eval(input(\"enter the number of chances u need\"))\n",
    "for i in range(chances): # here we used same chances as loop also\n",
    "    rand=random.randint(1,50)\n",
    "    num=eval(input(\"enter a number b/w 1 to 10:\"))\n",
    "    if num==rand:\n",
    "        print(f\"{rand} is {num} u won\")\n",
    "        break\n",
    "    else:\n",
    "        print(\"u lost\")\n",
    "        print(f\"u have {chances-i-1} chances left\")\n",
    "        if chances-i-1==0:\n",
    "            print(\"you have lost all the chances plz try after some time\")\n"
   ]
  },
  {
   "cell_type": "code",
   "execution_count": null,
   "id": "a7f59027",
   "metadata": {},
   "outputs": [],
   "source": [
    "# same "
   ]
  },
  {
   "cell_type": "code",
   "execution_count": null,
   "id": "1f14fece",
   "metadata": {},
   "outputs": [],
   "source": [
    "import random\n",
    "for x in range(3):\n",
    "    rand=random.randint(1,10)\n",
    "    num=eval(input(\"enter a number b/w 1 to 10:\"))\n",
    "    if rand==num:\n",
    "        print(f\"{rand} is {num} u won bro\")\n",
    "    else:\n",
    "        print(\"u lost\")\n",
    "#=============================================================================================\n",
    "#=============================================================================================\n",
    "import random\n",
    "for i in range(3):\n",
    "    rand=random.randint(1,10)\n",
    "    num=eval(input('entera number:'))\n",
    "    if num==rand:\n",
    "        print(f\"{rand} equal to {num} u won\")\n",
    "        break\n",
    "    else:\n",
    "        print(\"u lost sir\")\n",
    "#===============================================================================================\n",
    "#===============================================================================================\n",
    "import random\n",
    "chances=3\n",
    "for i in range(3):\n",
    "    rand=random.randint(1,10)\n",
    "    num=eval(input('entera number:'))\n",
    "    if num==rand:\n",
    "        print(f\"{rand} equal to {num} u won\")\n",
    "        break\n",
    "    else:\n",
    "        print(\"u lost sir\")\n",
    "        print(f\"u have {chances-i-1} chances left\")\n",
    "#====================================================================================================\n",
    "#====================================================================================================\n",
    "import random\n",
    "chances=eval(input(\"enter the number of chances u need\"))\n",
    "for i in range(chances): # here we used same chances as loop also\n",
    "    rand=random.randint(1,50)\n",
    "    num=eval(input(\"enter a number b/w 1 to 10:\"))\n",
    "    if num==rand:\n",
    "        print(f\"{rand} is {num} u won\")\n",
    "        break\n",
    "    else:\n",
    "        print(\"u lost\")\n",
    "        print(f\"u have {chances-i-1} chances left\")\n",
    "        if chances-i-1==0:\n",
    "            print(\"you have lost all the chances plz try after some time\")\n"
   ]
  },
  {
   "cell_type": "code",
   "execution_count": 113,
   "id": "e460311a",
   "metadata": {},
   "outputs": [
    {
     "name": "stdout",
     "output_type": "stream",
     "text": [
      "entera number3\n",
      "14 not equal to 3 u lost the game\n",
      "you have 2 chances left\n",
      "entera number4\n",
      "12 not equal to 4 u lost the game\n",
      "you have 1 chances left\n",
      "entera number5\n",
      "13 not equal to 5 u lost the game\n",
      "you have 0 chances left\n",
      "you have lost all the chnace see u after 5mins bro\n"
     ]
    }
   ],
   "source": [
    "# same program by using function \n",
    "import random\n",
    "def game(chances):\n",
    "    for x in range(chances):\n",
    "        rand=random.randint(10,15)\n",
    "        num=int(input(\"entera number\"))\n",
    "        if num==rand:\n",
    "            print(f\"{num} is equal to {rand} u won the game\")\n",
    "            break\n",
    "        else:\n",
    "            print(f\"{rand} not equal to {num} u lost the game\")\n",
    "            print(f\"you have {chances-x-1} chances left\")\n",
    "            if chances-x-1==0:\n",
    "                print(\"you have lost all the chnace see u after 5mins bro\")\n",
    "game(3)\n"
   ]
  },
  {
   "cell_type": "markdown",
   "id": "4db977cc",
   "metadata": {},
   "source": [
    "**LETS GO TO WHILE LOOP**"
   ]
  },
  {
   "cell_type": "code",
   "execution_count": null,
   "id": "a414955f",
   "metadata": {},
   "outputs": [],
   "source": []
  },
  {
   "cell_type": "code",
   "execution_count": null,
   "id": "909226ea",
   "metadata": {},
   "outputs": [],
   "source": []
  },
  {
   "cell_type": "code",
   "execution_count": null,
   "id": "572229ab",
   "metadata": {},
   "outputs": [],
   "source": []
  },
  {
   "cell_type": "code",
   "execution_count": null,
   "id": "1d8708ca",
   "metadata": {},
   "outputs": [],
   "source": []
  },
  {
   "cell_type": "code",
   "execution_count": null,
   "id": "52c0bea1",
   "metadata": {},
   "outputs": [],
   "source": []
  },
  {
   "cell_type": "code",
   "execution_count": null,
   "id": "aed43d22",
   "metadata": {},
   "outputs": [],
   "source": []
  },
  {
   "cell_type": "code",
   "execution_count": null,
   "id": "c3b24fc8",
   "metadata": {},
   "outputs": [],
   "source": []
  },
  {
   "cell_type": "code",
   "execution_count": null,
   "id": "1cedf6b4",
   "metadata": {},
   "outputs": [],
   "source": []
  },
  {
   "cell_type": "code",
   "execution_count": null,
   "id": "906c7512",
   "metadata": {},
   "outputs": [],
   "source": []
  },
  {
   "cell_type": "code",
   "execution_count": null,
   "id": "4045b071",
   "metadata": {},
   "outputs": [],
   "source": []
  },
  {
   "cell_type": "code",
   "execution_count": null,
   "id": "c2e0151a",
   "metadata": {},
   "outputs": [],
   "source": []
  },
  {
   "cell_type": "code",
   "execution_count": null,
   "id": "dafb5b80",
   "metadata": {},
   "outputs": [],
   "source": []
  },
  {
   "cell_type": "code",
   "execution_count": null,
   "id": "1ce9d47d",
   "metadata": {},
   "outputs": [],
   "source": []
  },
  {
   "cell_type": "code",
   "execution_count": null,
   "id": "2658802c",
   "metadata": {},
   "outputs": [],
   "source": []
  },
  {
   "cell_type": "code",
   "execution_count": null,
   "id": "80a3f12c",
   "metadata": {},
   "outputs": [],
   "source": []
  },
  {
   "cell_type": "code",
   "execution_count": null,
   "id": "279f5d5f",
   "metadata": {},
   "outputs": [],
   "source": []
  },
  {
   "cell_type": "code",
   "execution_count": null,
   "id": "072e04e8",
   "metadata": {},
   "outputs": [],
   "source": []
  },
  {
   "cell_type": "code",
   "execution_count": null,
   "id": "90c830ea",
   "metadata": {},
   "outputs": [],
   "source": []
  },
  {
   "cell_type": "code",
   "execution_count": null,
   "id": "a00a571b",
   "metadata": {},
   "outputs": [],
   "source": [
    "for i in range(11):\n",
    "    print(i,end=\" \")\n",
    "    print(i+i)"
   ]
  },
  {
   "cell_type": "code",
   "execution_count": null,
   "id": "7c19c606",
   "metadata": {},
   "outputs": [],
   "source": [
    "for i in range(2,10,-1):\n",
    "    print(i,end=\" \")"
   ]
  },
  {
   "cell_type": "code",
   "execution_count": null,
   "id": "47404e7a",
   "metadata": {},
   "outputs": [],
   "source": [
    "for x in range(15,-5):\n",
    "    print(x)"
   ]
  },
  {
   "cell_type": "code",
   "execution_count": null,
   "id": "9aa0d55b",
   "metadata": {},
   "outputs": [],
   "source": [
    "for i in range(1,11):\n",
    "    print(f\"9 X {i} = {9*i}\")\n",
    "    "
   ]
  },
  {
   "cell_type": "code",
   "execution_count": null,
   "id": "811bb3b8",
   "metadata": {},
   "outputs": [],
   "source": [
    "import random\n",
    "num=random.randint(5,50)\n",
    "for i in range(5):\n",
    "    print(f\"the{num} is {num*i}\")"
   ]
  },
  {
   "cell_type": "code",
   "execution_count": null,
   "id": "1e3e4520",
   "metadata": {},
   "outputs": [],
   "source": [
    "for i in range(5,11):\n",
    "    if i%2==0:\n",
    "        print(f\"{i} its even\")\n",
    "    else:\n",
    "        print(f\"{i} its odd\")\n",
    "    "
   ]
  },
  {
   "cell_type": "code",
   "execution_count": null,
   "id": "977857ed",
   "metadata": {},
   "outputs": [],
   "source": [
    "for i in range(5):\n",
    "    num=eval(input(\"enter number:\"))\n",
    "    if num%2==0:\n",
    "        print(\"its even\")\n",
    "    else:\n",
    "        print(\"its odd\")"
   ]
  },
  {
   "cell_type": "markdown",
   "id": "38e86c35",
   "metadata": {},
   "source": [
    "### "
   ]
  }
 ],
 "metadata": {
  "kernelspec": {
   "display_name": "Python 3 (ipykernel)",
   "language": "python",
   "name": "python3"
  },
  "language_info": {
   "codemirror_mode": {
    "name": "ipython",
    "version": 3
   },
   "file_extension": ".py",
   "mimetype": "text/x-python",
   "name": "python",
   "nbconvert_exporter": "python",
   "pygments_lexer": "ipython3",
   "version": "3.11.5"
  }
 },
 "nbformat": 4,
 "nbformat_minor": 5
}

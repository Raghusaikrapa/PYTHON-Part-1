{
 "cells": [
  {
   "cell_type": "markdown",
   "id": "cd7bcdbe",
   "metadata": {},
   "source": [
    "1.Write a program that asks the user to enter a length in centimetres. If the user enters\n",
    "a negative length, the program should tell the user that the entry is invalid. Otherwise,\n",
    "the program should convert the length to inches and print out the result. There are\n",
    "2.54 centimetres in an inch."
   ]
  },
  {
   "cell_type": "code",
   "execution_count": 4,
   "id": "7d271ec2",
   "metadata": {},
   "outputs": [
    {
     "name": "stdout",
     "output_type": "stream",
     "text": [
      "enter the length in centimeters:2.5\n",
      "the lengh in inches is: 1\n"
     ]
    }
   ],
   "source": [
    "incm=eval(input(\"enter the length in centimeters:\"))\n",
    "if incm<0:\n",
    "    print(\"The enter is invalid\")\n",
    "else:\n",
    "    cmto_inch=incm*0.394\n",
    "    print(\"the lengh in inches is:\",round(cmto_inch))"
   ]
  },
  {
   "cell_type": "markdown",
   "id": "33de6315",
   "metadata": {},
   "source": [
    "2.Ask the user for a temperature. Then ask them what units, Celsius or Fahrenheit, the\n",
    "temperature is in. Your program should convert the temperature to the other unit. The\n",
    "conversions are F = 9 5 C +32 and C = 5 9 (F − 32)."
   ]
  },
  {
   "cell_type": "code",
   "execution_count": 11,
   "id": "f2c1ace6",
   "metadata": {},
   "outputs": [
    {
     "name": "stdout",
     "output_type": "stream",
     "text": [
      "enter the temperature:50\n",
      "enter the units:Fahrenheit\n",
      "the total temperature in celsius is 10.0\n"
     ]
    }
   ],
   "source": [
    "temp=eval(input(\"enter the temperature:\"))#50\n",
    "units=(input(\"enter the units:\"))#c or f         \n",
    "if units==\"celsius\":\n",
    "    Fahrenheit=(temp* 9/5) + 32\n",
    "    print(\"the total temperature in Fahrenheit is\",Fahrenheit)\n",
    "elif units==\"Fahrenheit\":\n",
    "    celsius= (temp- 32) * 5/9\n",
    "    print(\"the total temperature in celsius is\",celsius)\n",
    "else:\n",
    "    print(\"enter correct temprature\")"
   ]
  },
  {
   "cell_type": "markdown",
   "id": "8ed9bd8d",
   "metadata": {},
   "source": [
    "3.Ask the user to enter a temperature in Celsius. The program should print a\n",
    "message based on the temperature: \n",
    "• If the temperature is less than -273.15, print that the temperature is invalid because it is\n",
    "below absolute zero. \n",
    "• If it is exactly -273.15, print that the temperature is absolute 0. \n",
    "• If the temperature is between -273.15 and 0, print that the temperature is below\n",
    "freezing. • If it is 0, print that the temperature is at the freezing point. \n",
    "• If it is between 0 and 100, print that the temperature is in the normal\n",
    "range. • If it is 100, print that the temperature is at the boiling point. \n",
    "• If it is above 100, print that the temperature is above the boiling point."
   ]
  },
  {
   "cell_type": "code",
   "execution_count": 34,
   "id": "23936c76",
   "metadata": {},
   "outputs": [
    {
     "name": "stdout",
     "output_type": "stream",
     "text": [
      " enter a temperature in Celsius:0\n",
      "that the temperature is at the freezing point.\n"
     ]
    }
   ],
   "source": [
    "temperature=eval(input(\" enter a temperature in Celsius:\"))\n",
    "if temperature < -273.15:\n",
    "    print(\"the temperature is invalid because it is below absolute zero.\")\n",
    "elif temperature == -273.15:\n",
    "    print(\"the temperature is absolute 0.\")\n",
    "elif -273.15 < temperature < 0:\n",
    "    print(\"the temperature is below freezing\")\n",
    "elif temperature==0:\n",
    "    print(\"that the temperature is at the freezing point.\")\n",
    "elif 0 < temperature < 100:\n",
    "    print(\"the temperature is in the normal\")\n",
    "elif temperature==100:\n",
    "    print(\"that the temperature is at the boiling point.\")\n",
    "elif temperature>100:\n",
    "    print(\"the temperature is above the boiling point.\")\n",
    "else:\n",
    "    print(\"enter valid temprature\")"
   ]
  },
  {
   "cell_type": "markdown",
   "id": "095fa177",
   "metadata": {},
   "source": [
    "4.Write a program that asks the user how many credits they have taken. If they have taken 23 or\n",
    "less, print that the student is a freshman. If they have taken between 24 and 53, print that they\n",
    "are asophomore. The range for juniors is 54 to 83, and for seniors it is 84 and over."
   ]
  },
  {
   "cell_type": "code",
   "execution_count": 46,
   "id": "fcee9087",
   "metadata": {},
   "outputs": [
    {
     "name": "stdout",
     "output_type": "stream",
     "text": [
      "enter how many credits they have taken:90\n",
      "seniors\n"
     ]
    }
   ],
   "source": [
    "credits=eval(input(\"enter how many credits they have taken:\"))\n",
    "if credits<=23:\n",
    "    print(\"the student is a freshman\")\n",
    "elif 24<= credits <=53:\n",
    "    print(\" they are asophomore\")\n",
    "elif 54<= credits <=83:\n",
    "    print(\" juniors\")\n",
    "elif credits>=84:\n",
    "    print(\"seniors\")\n"
   ]
  },
  {
   "cell_type": "markdown",
   "id": "f059ff88",
   "metadata": {},
   "source": [
    "5.Generate a random number between 1 and 10. Ask the user to guess the number and print a\n",
    "message based on whether they get it right or not."
   ]
  },
  {
   "cell_type": "code",
   "execution_count": 51,
   "id": "9e8e460b",
   "metadata": {},
   "outputs": [
    {
     "name": "stdout",
     "output_type": "stream",
     "text": [
      "guess the random number:5\n",
      "no you are wrong\n"
     ]
    }
   ],
   "source": [
    "import random\n",
    "randomnumber=random.randint(1,10)\n",
    "number=eval(input(\"guess the random number:\"))\n",
    "if randomnumber==number:\n",
    "    print(\"yes u are right\")\n",
    "else:\n",
    "    print(\"no you are wrong\")"
   ]
  },
  {
   "cell_type": "markdown",
   "id": "86673757",
   "metadata": {},
   "source": [
    "6.A store charges $12 per item if you buy less than 10 items. If you buy between 10\n",
    "and 99 items, the cost is $10 per item. If you buy 100 or more items, the cost is $7\n",
    "per item. Write a program that asks the user how many items they are buying and\n",
    "prints the total cost."
   ]
  },
  {
   "cell_type": "code",
   "execution_count": 54,
   "id": "94e66bd1",
   "metadata": {},
   "outputs": [
    {
     "name": "stdout",
     "output_type": "stream",
     "text": [
      "enter the number of items:30\n",
      "the charge per 30 items is 300 dollers\n"
     ]
    }
   ],
   "source": [
    "items=eval(input(\"enter the number of items:\"))\n",
    "if items<10:\n",
    "    print(f\"the charge per {items} items is {items*12} dollers\")\n",
    "elif 10<= items <=99:\n",
    "    print(f\"the charge per {items} items is {items*10} dollers\")\n",
    "elif items>100:\n",
    "    print(f\"the charge per {items} items is {items*7} dollers\")\n",
    "else:\n",
    "    print(\"enter vailid details\")           "
   ]
  },
  {
   "cell_type": "markdown",
   "id": "7bf17368",
   "metadata": {},
   "source": [
    "7.Write a program that asks the user for two numbers and prints Close if the\n",
    "numbers are within .001of each other and Not close otherwise."
   ]
  },
  {
   "cell_type": "code",
   "execution_count": 68,
   "id": "c3e1434e",
   "metadata": {},
   "outputs": [
    {
     "name": "stdout",
     "output_type": "stream",
     "text": [
      "enter the number0\n",
      "enter the number0\n",
      "close\n"
     ]
    }
   ],
   "source": [
    "number1=eval(input(\"enter the number\"))\n",
    "number2=eval(input(\"enter the number\"))\n",
    "if abs(number1-number2)<.001:\n",
    "    print(\"close\")\n",
    "else:\n",
    "    print(\"not close\")"
   ]
  },
  {
   "cell_type": "markdown",
   "id": "c473202f",
   "metadata": {},
   "source": [
    "8.A year is a leap year if it is divisible by 4, except that years divisible by 100 are not leap years unless\n",
    "they are also divisible by 400. Write a program that asks the user for a year and prints out whether\n",
    "it is a leap year or not."
   ]
  },
  {
   "cell_type": "code",
   "execution_count": 70,
   "id": "8a683086",
   "metadata": {},
   "outputs": [
    {
     "name": "stdout",
     "output_type": "stream",
     "text": [
      "enter the year:2001\n",
      "2001its not leapyear\n"
     ]
    }
   ],
   "source": [
    "leap_year=eval(input(\"enter the year:\"))\n",
    "if (leap_year%4==0 and leap_year%100!=0) or (leap_year%400==0):\n",
    "    print(f'{leap_year} is leap year')\n",
    "else:\n",
    "    print(f\"{leap_year} is not leapyear\")\n"
   ]
  },
  {
   "cell_type": "markdown",
   "id": "ac3517ce",
   "metadata": {},
   "source": [
    "9.Write a program that asks the user to enter a number and prints out all the divisors of that\n",
    "number. [Hint: the % operator is used to tell if a number is divisible by something."
   ]
  },
  {
   "cell_type": "code",
   "execution_count": 76,
   "id": "e120bb31",
   "metadata": {},
   "outputs": [
    {
     "name": "stdout",
     "output_type": "stream",
     "text": [
      "entera number:20\n",
      "the divisers of 20 are 1\n",
      "the divisers of 20 are 2\n",
      "the divisers of 20 are 4\n",
      "the divisers of 20 are 5\n"
     ]
    }
   ],
   "source": [
    "num=eval(input(\"entera number:\"))\n",
    "for i in range(1,10):\n",
    "    if num%i==0:\n",
    "        print(f\"the divisers of {num} are {i}\")"
   ]
  },
  {
   "cell_type": "markdown",
   "id": "61c67cdc",
   "metadata": {},
   "source": [
    "10.Write a program that asks the user for an hour between 1 and 12, asks them to\n",
    "enter am or pm, and asks them how many hours into the future they want to go. \n",
    "Print out what the hour will be that many hours into the future, printing am or pm as\n",
    "appropriate. \n",
    "- An example is shown below.Enter hour: 8 \n",
    "- am (1) or pm (2)? 1 \n",
    "- How many hours ahead? 5 \n",
    "- New hour: 1 pm"
   ]
  },
  {
   "cell_type": "code",
   "execution_count": 13,
   "id": "07d1ecb7",
   "metadata": {},
   "outputs": [
    {
     "name": "stdout",
     "output_type": "stream",
     "text": [
      "enter the current time in hours:3\n",
      "enter the am(1) or pm(2):1\n",
      "enter the hours u want to go to future:2\n",
      "newhour:5 am\n"
     ]
    }
   ],
   "source": [
    "hours=eval(input(\"enter the current time in hours:\"))\n",
    "am_or_pm=eval(input(\"enter the am(1) or pm(2):\"))\n",
    "to_future=eval(input(\"enter the hours u want to go to future:\"))\n",
    "\n",
    "total_hours=hour+to_future\n",
    "\n",
    "if am_or_pm==1:\n",
    "    if total_hours<=12:\n",
    "        new_hour=total_hours\n",
    "        new_am_pm=1\n",
    "    else:\n",
    "        new_hour=total_hours-12\n",
    "        new_am_pm=2\n",
    "        \n",
    "elif am_or_pm==2:\n",
    "    if total_hours<=12:\n",
    "        new_hour=total_hours\n",
    "        new_am_pm=2\n",
    "    else:\n",
    "        new_hour=total_hours-12\n",
    "        new_am_pm=1\n",
    "        \n",
    "else:\n",
    "    print('enter valid details also check am=1 and pm=2')\n",
    "    exit() \n",
    "\n",
    "print(f\"newhour:{new_hour} {'am' if new_am_pm==1 else 'pm'}\")\n"
   ]
  },
  {
   "cell_type": "code",
   "execution_count": null,
   "id": "15e529d2",
   "metadata": {},
   "outputs": [],
   "source": []
  },
  {
   "cell_type": "code",
   "execution_count": null,
   "id": "7d48bfdd",
   "metadata": {},
   "outputs": [],
   "source": []
  },
  {
   "cell_type": "code",
   "execution_count": null,
   "id": "5e67dbe2",
   "metadata": {},
   "outputs": [],
   "source": []
  },
  {
   "cell_type": "code",
   "execution_count": null,
   "id": "cd9d94d7",
   "metadata": {},
   "outputs": [],
   "source": []
  },
  {
   "cell_type": "code",
   "execution_count": null,
   "id": "d64fe81d",
   "metadata": {},
   "outputs": [],
   "source": []
  },
  {
   "cell_type": "code",
   "execution_count": null,
   "id": "f62177ee",
   "metadata": {},
   "outputs": [],
   "source": []
  },
  {
   "cell_type": "code",
   "execution_count": null,
   "id": "ff57da91",
   "metadata": {},
   "outputs": [],
   "source": []
  },
  {
   "cell_type": "code",
   "execution_count": null,
   "id": "7812cd9d",
   "metadata": {},
   "outputs": [],
   "source": []
  },
  {
   "cell_type": "code",
   "execution_count": null,
   "id": "12192c71",
   "metadata": {},
   "outputs": [],
   "source": []
  },
  {
   "cell_type": "code",
   "execution_count": null,
   "id": "315d87e1",
   "metadata": {},
   "outputs": [],
   "source": []
  },
  {
   "cell_type": "code",
   "execution_count": null,
   "id": "2b1ac53b",
   "metadata": {},
   "outputs": [],
   "source": []
  },
  {
   "cell_type": "code",
   "execution_count": null,
   "id": "6d75566d",
   "metadata": {},
   "outputs": [],
   "source": []
  }
 ],
 "metadata": {
  "kernelspec": {
   "display_name": "Python 3 (ipykernel)",
   "language": "python",
   "name": "python3"
  },
  "language_info": {
   "codemirror_mode": {
    "name": "ipython",
    "version": 3
   },
   "file_extension": ".py",
   "mimetype": "text/x-python",
   "name": "python",
   "nbconvert_exporter": "python",
   "pygments_lexer": "ipython3",
   "version": "3.11.5"
  }
 },
 "nbformat": 4,
 "nbformat_minor": 5
}

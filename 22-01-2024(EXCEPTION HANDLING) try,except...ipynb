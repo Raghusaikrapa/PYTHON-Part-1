{
 "cells": [
  {
   "cell_type": "markdown",
   "id": "fc7c6318",
   "metadata": {},
   "source": [
    "# EXCEPTION HANDLING"
   ]
  },
  {
   "cell_type": "markdown",
   "id": "8d572ecf",
   "metadata": {},
   "source": [
    "try and except blocks"
   ]
  },
  {
   "cell_type": "code",
   "execution_count": 3,
   "id": "ae5e7002",
   "metadata": {},
   "outputs": [
    {
     "name": "stdout",
     "output_type": "stream",
     "text": [
      "enter the number:python\n"
     ]
    },
    {
     "ename": "NameError",
     "evalue": "name 'python' is not defined",
     "output_type": "error",
     "traceback": [
      "\u001b[1;31m---------------------------------------------------------------------------\u001b[0m",
      "\u001b[1;31mNameError\u001b[0m                                 Traceback (most recent call last)",
      "Cell \u001b[1;32mIn[3], line 2\u001b[0m\n\u001b[0;32m      1\u001b[0m \u001b[38;5;66;03m#example\u001b[39;00m\n\u001b[1;32m----> 2\u001b[0m a\u001b[38;5;241m=\u001b[39m\u001b[38;5;28meval\u001b[39m(\u001b[38;5;28minput\u001b[39m(\u001b[38;5;124m\"\u001b[39m\u001b[38;5;124menter the number:\u001b[39m\u001b[38;5;124m\"\u001b[39m))\n\u001b[0;32m      3\u001b[0m b\u001b[38;5;241m=\u001b[39m\u001b[38;5;28meval\u001b[39m(\u001b[38;5;28minput\u001b[39m(\u001b[38;5;124m\"\u001b[39m\u001b[38;5;124menter the number:\u001b[39m\u001b[38;5;124m\"\u001b[39m))\n\u001b[0;32m      4\u001b[0m \u001b[38;5;28mprint\u001b[39m(a\u001b[38;5;241m+\u001b[39mb)\n",
      "File \u001b[1;32m<string>:1\u001b[0m\n",
      "\u001b[1;31mNameError\u001b[0m: name 'python' is not defined"
     ]
    }
   ],
   "source": [
    "#example\n",
    "a=eval(input(\"enter the number:\"))\n",
    "b=eval(input(\"enter the number:\"))\n",
    "print(a+b)"
   ]
  },
  {
   "cell_type": "markdown",
   "id": "85440c28",
   "metadata": {},
   "source": [
    "$types of errors$\n",
    "- nameerror\n",
    "- syntaxerror\n",
    "- undefined\n",
    "- zerodivisionerror"
   ]
  },
  {
   "cell_type": "code",
   "execution_count": null,
   "id": "6c735025",
   "metadata": {},
   "outputs": [],
   "source": [
    "#here the error was displayed as \"nameerror\" as (python is not defined) \n",
    "#so to over come this we use exception handling (try,except)etc.......\n",
    "#now keep the code in try and except blocks"
   ]
  },
  {
   "cell_type": "markdown",
   "id": "6c40fb4c",
   "metadata": {},
   "source": [
    "- try:\n",
    "    -write the code here \n",
    "- except:\n",
    "    -when ever we get error in try block then\n",
    "    ,we comes to except block"
   ]
  },
  {
   "cell_type": "code",
   "execution_count": 4,
   "id": "12d3c7ae",
   "metadata": {},
   "outputs": [
    {
     "name": "stdout",
     "output_type": "stream",
     "text": [
      "enter the number:10\n",
      "enter the number:python\n",
      "name error\n"
     ]
    }
   ],
   "source": [
    "try:\n",
    "    a=eval(input(\"enter the number:\"))\n",
    "    b=eval(input(\"enter the number:\"))\n",
    "    print(a+b)\n",
    "except:\n",
    "    print(\"name error\")"
   ]
  },
  {
   "cell_type": "code",
   "execution_count": 7,
   "id": "ade265c3",
   "metadata": {},
   "outputs": [
    {
     "name": "stdout",
     "output_type": "stream",
     "text": [
      "enter the number:20\n",
      "enter the number:0\n"
     ]
    },
    {
     "ename": "ZeroDivisionError",
     "evalue": "division by zero",
     "output_type": "error",
     "traceback": [
      "\u001b[1;31m---------------------------------------------------------------------------\u001b[0m",
      "\u001b[1;31mZeroDivisionError\u001b[0m                         Traceback (most recent call last)",
      "Cell \u001b[1;32mIn[7], line 3\u001b[0m\n\u001b[0;32m      1\u001b[0m a\u001b[38;5;241m=\u001b[39m\u001b[38;5;28meval\u001b[39m(\u001b[38;5;28minput\u001b[39m(\u001b[38;5;124m\"\u001b[39m\u001b[38;5;124menter the number:\u001b[39m\u001b[38;5;124m\"\u001b[39m))\n\u001b[0;32m      2\u001b[0m b\u001b[38;5;241m=\u001b[39m\u001b[38;5;28meval\u001b[39m(\u001b[38;5;28minput\u001b[39m(\u001b[38;5;124m\"\u001b[39m\u001b[38;5;124menter the number:\u001b[39m\u001b[38;5;124m\"\u001b[39m))\n\u001b[1;32m----> 3\u001b[0m \u001b[38;5;28mprint\u001b[39m(a\u001b[38;5;241m/\u001b[39mb)\n",
      "\u001b[1;31mZeroDivisionError\u001b[0m: division by zero"
     ]
    }
   ],
   "source": [
    "a=eval(input(\"enter the number:\"))\n",
    "b=eval(input(\"enter the number:\"))\n",
    "print(a/b)"
   ]
  },
  {
   "cell_type": "code",
   "execution_count": 8,
   "id": "010470ca",
   "metadata": {},
   "outputs": [
    {
     "name": "stdout",
     "output_type": "stream",
     "text": [
      "enter the number:10\n",
      "enter the number:0\n",
      "zerodivision error\n"
     ]
    }
   ],
   "source": [
    "try:\n",
    "    a=eval(input(\"enter the number:\"))\n",
    "    b=eval(input(\"enter the number:\"))\n",
    "    print(a/b)\n",
    "except:\n",
    "    print(\"zerodivision error\")\n",
    "    "
   ]
  },
  {
   "cell_type": "markdown",
   "id": "76b5ebb3",
   "metadata": {},
   "source": [
    "- now wap of adding two numbers"
   ]
  },
  {
   "cell_type": "code",
   "execution_count": 10,
   "id": "8b8fe180",
   "metadata": {},
   "outputs": [
    {
     "name": "stdout",
     "output_type": "stream",
     "text": [
      "enter the number:python\n",
      "zerodivision error\n"
     ]
    }
   ],
   "source": [
    "try:\n",
    "    a=eval(input(\"enter the number:\"))\n",
    "    b=eval(input(\"enter the number:\"))\n",
    "    print(a+b)\n",
    "except:\n",
    "    print(\"zerodivision error\")\n",
    "    #here we are getting zerodivisionerror but we need to get \"nameerror\" so now......"
   ]
  },
  {
   "cell_type": "markdown",
   "id": "1fdde784",
   "metadata": {},
   "source": [
    "**now here comes in except block write Exception as e then print(e)**"
   ]
  },
  {
   "cell_type": "code",
   "execution_count": 12,
   "id": "bbda94a4",
   "metadata": {},
   "outputs": [
    {
     "name": "stdout",
     "output_type": "stream",
     "text": [
      "enter the number:10\n",
      "enter the number:python\n",
      "name 'python' is not defined\n"
     ]
    }
   ],
   "source": [
    "#now example==1\n",
    "try:\n",
    "    a=eval(input(\"enter the number:\"))\n",
    "    b=eval(input(\"enter the number:\"))\n",
    "    print(a+b)\n",
    "except Exception as e:\n",
    "    print(e)"
   ]
  },
  {
   "cell_type": "code",
   "execution_count": 13,
   "id": "4558455e",
   "metadata": {},
   "outputs": [
    {
     "name": "stdout",
     "output_type": "stream",
     "text": [
      "enter the number:10\n",
      "enter the number:0\n",
      "division by zero\n"
     ]
    }
   ],
   "source": [
    "# example==2\n",
    "try:\n",
    "    a=eval(input(\"enter the number:\"))\n",
    "    b=eval(input(\"enter the number:\"))\n",
    "    print(a/b)\n",
    "except Exception as e:\n",
    "    print(e)"
   ]
  },
  {
   "cell_type": "markdown",
   "id": "cc7def1c",
   "metadata": {},
   "source": [
    "- also we can write some codes as"
   ]
  },
  {
   "cell_type": "code",
   "execution_count": 15,
   "id": "1fdfbb65",
   "metadata": {},
   "outputs": [
    {
     "name": "stdout",
     "output_type": "stream",
     "text": [
      "raghu\n",
      "1\n",
      "zero divisin error\n",
      "u came to except block\n",
      "30\n",
      "done\n",
      "bye\n"
     ]
    }
   ],
   "source": [
    "print(\"raghu\")\n",
    "print(1)\n",
    "try:\n",
    "    a=10\n",
    "    b=0\n",
    "    print(a/b)\n",
    "    print(20)\n",
    "except:\n",
    "    print(\"zero divisin error\")\n",
    "    print(\"u came to except block\")\n",
    "    a=10\n",
    "    b=20\n",
    "    print(a+b)\n",
    "    print(\"done\")\n",
    "print(\"bye\")"
   ]
  },
  {
   "cell_type": "markdown",
   "id": "ad3e540c",
   "metadata": {},
   "source": [
    "# Now lets implement some codes by using try and except blocks"
   ]
  },
  {
   "cell_type": "code",
   "execution_count": 20,
   "id": "a615f10a",
   "metadata": {},
   "outputs": [
    {
     "name": "stdout",
     "output_type": "stream",
     "text": [
      "enter a number:python\n",
      "name 'python' is not defined\n"
     ]
    }
   ],
   "source": [
    "# findling even r odd\n",
    "try:\n",
    "    num=eval(input(\"enter a number:\"))\n",
    "    if num%2==0:\n",
    "        print(f\"{num} is even number\")    #enter a number:12  #12 is even number\n",
    "    else:\n",
    "        print(f\"{num} is odd number\")         #enter a number:13  #13 is odd number\n",
    "except Exception as e:\n",
    "    print(e)\n",
    "    "
   ]
  },
  {
   "cell_type": "code",
   "execution_count": 23,
   "id": "4fe800d0",
   "metadata": {},
   "outputs": [
    {
     "name": "stdout",
     "output_type": "stream",
     "text": [
      "enter anumber:0\n",
      "zero\n"
     ]
    }
   ],
   "source": [
    "try:\n",
    "    number=eval(input(\"enter anumber:\"))\n",
    "    if number==0:                 #zero\n",
    "        print(\"zero\")\n",
    "    elif number==1:               #one    \n",
    "        print(\"one\")\n",
    "    elif number==2:               #two\n",
    "        print(\"two\")\n",
    "    else:\n",
    "        print(\"its greaterthan 2\")   #greater than 2\n",
    "except Exception as e:\n",
    "    print(e)"
   ]
  },
  {
   "cell_type": "markdown",
   "id": "5d22b912",
   "metadata": {},
   "source": [
    "OK****"
   ]
  },
  {
   "cell_type": "code",
   "execution_count": null,
   "id": "8d099639",
   "metadata": {},
   "outputs": [],
   "source": []
  }
 ],
 "metadata": {
  "kernelspec": {
   "display_name": "Python 3 (ipykernel)",
   "language": "python",
   "name": "python3"
  },
  "language_info": {
   "codemirror_mode": {
    "name": "ipython",
    "version": 3
   },
   "file_extension": ".py",
   "mimetype": "text/x-python",
   "name": "python",
   "nbconvert_exporter": "python",
   "pygments_lexer": "ipython3",
   "version": "3.11.5"
  }
 },
 "nbformat": 4,
 "nbformat_minor": 5
}

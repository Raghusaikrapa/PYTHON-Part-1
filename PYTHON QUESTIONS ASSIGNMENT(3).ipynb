{
 "cells": [
  {
   "cell_type": "markdown",
   "id": "794a57d8",
   "metadata": {},
   "source": [
    "1.Ramesh’s basic salary is input through the keyboard. His dearness allowance is 40% of basic salary,\n",
    "and house rent allowance is 20% of basic salary. Write a program to calculate his gross salary."
   ]
  },
  {
   "cell_type": "code",
   "execution_count": 3,
   "id": "6dbcd964",
   "metadata": {},
   "outputs": [
    {
     "name": "stdout",
     "output_type": "stream",
     "text": [
      "enter the salary:1000\n",
      "400.0\n",
      "200.0\n",
      "ramesh's gross salary is 1600.0\n"
     ]
    }
   ],
   "source": [
    "try:\n",
    "    basic_salary=eval(input(\"enter the salary:\"))\n",
    "    dearness_allowance=0.4*basic_salary\n",
    "    print(dearness_allowance)\n",
    "    house_rent=0.2*basic_salary\n",
    "    print(house_rent)\n",
    "    gross_salary=(basic_salary+dearness_allowance+house_rent)\n",
    "    print(f\"ramesh's gross salary is {gross_salary}\")\n",
    "except Exception as e:\n",
    "    print(e)"
   ]
  },
  {
   "cell_type": "markdown",
   "id": "45e14ce6",
   "metadata": {},
   "source": [
    "2. The distance between two cities (in km.) is input through the keyboard. Write a program to convert\n",
    "and print this distance in meters, feet, inches and centimeters."
   ]
  },
  {
   "cell_type": "code",
   "execution_count": 7,
   "id": "7244cb68",
   "metadata": {},
   "outputs": [
    {
     "name": "stdout",
     "output_type": "stream",
     "text": [
      "The distance between two cities is:100\n",
      "The distance between two cities in 100000 \n",
      "The distance between two cities in 328084.0 \n",
      "The distance between two cities in 3937008.0 \n",
      "The distance between two cities in 10000000.32 \n"
     ]
    }
   ],
   "source": [
    "try:\n",
    "    km=eval(input(\"The distance between two cities is:\"))\n",
    "    meters=(km*1000)\n",
    "    feet=(km*3280.84)\n",
    "    inches=(km*39370.08)\n",
    "    centimeters=(km*100000.0032)\n",
    "    print(f\"The distance between two cities in {meters} \")\n",
    "    print(f\"The distance between two cities in {feet} \")\n",
    "    print(f\"The distance between two cities in {inches} \")\n",
    "    print(f\"The distance between two cities in {centimeters} \")\n",
    "except Exception as e:\n",
    "    print(e)"
   ]
  },
  {
   "cell_type": "markdown",
   "id": "40faeffd",
   "metadata": {},
   "source": [
    "3. If the marks obtained by a student in five different subjects are input through the keyboard, find out\n",
    "the aggregate marks and percentage marks obtained by the student. Assume that the maximum\n",
    "marks that can be obtained by a student in each subject is 100."
   ]
  },
  {
   "cell_type": "code",
   "execution_count": 8,
   "id": "1709e525",
   "metadata": {},
   "outputs": [
    {
     "name": "stdout",
     "output_type": "stream",
     "text": [
      "enter the marks in telugu:50\n",
      "enter the marks in hindi:50\n",
      "enter the marks in englsih:50\n",
      "enter the marks in maths:50\n",
      "enter the marks in science:50\n",
      "enter the marks in social:50\n",
      "Total aggregatemarks optained are 300\n",
      "Total pergentage he got is 50.0\n"
     ]
    }
   ],
   "source": [
    "# constants\n",
    "TOTAL_SUBJECTS=6\n",
    "MAXMARKSEACH_SUBJECT=100\n",
    "try:\n",
    "    sub1=eval(input(\"enter the marks in telugu:\"))\n",
    "    sub2=eval(input(\"enter the marks in hindi:\"))\n",
    "    sub3=eval(input(\"enter the marks in englsih:\"))\n",
    "    sub4=eval(input(\"enter the marks in maths:\"))\n",
    "    sub5=eval(input(\"enter the marks in science:\"))\n",
    "    sub6=eval(input(\"enter the marks in social:\"))\n",
    "    aggregate_marks=sub1+sub2+sub3+sub4+sub5+sub6               #####50+50+50+50+50+50+50\n",
    "    maxtotal_marks=TOTAL_SUBJECTS*MAXMARKSEACH_SUBJECT          #####6*100=600\n",
    "    total_percentage=(aggregate_marks/maxtotal_marks)*100       #percentage (300/600)*100\n",
    "    print(f\"Total aggregatemarks optained are {aggregate_marks}\")\n",
    "    print(f\"Total pergentage he got is {total_percentage}\")\n",
    "except Exception as e:\n",
    "    print(e)"
   ]
  },
  {
   "cell_type": "markdown",
   "id": "c23a1b42",
   "metadata": {},
   "source": [
    "4. Temperature of a city in Fahrenheit degrees is input through the keyboard. Write a program to convert\n",
    "this temperature into Centigrade degrees."
   ]
  },
  {
   "cell_type": "code",
   "execution_count": null,
   "id": "1890697f",
   "metadata": {},
   "outputs": [],
   "source": [
    "try:\n",
    "    Fahrenheit=eval(input(\"Enter the TEMP in fahrenheit deggries:\"))\n",
    "    centigrade=(Fahrenheit-32)*5/9     #formula to convert fahrenheit to centigrade....\n",
    "    print(f\"The temp in centigrade {centigrade}\")\n",
    "except Exception as e:\n",
    "    print(e)\n",
    "\n"
   ]
  },
  {
   "cell_type": "markdown",
   "id": "9787ff89",
   "metadata": {},
   "source": [
    " 5. The length &amp; breadth of a rectangle and radius of a circle are input through the keyboard. Write a\n",
    " program to calculate the area &amp; perimeter of the rectangle, and the area &amp; circumference of the circle."
   ]
  },
  {
   "cell_type": "code",
   "execution_count": 21,
   "id": "a9e791e8",
   "metadata": {},
   "outputs": [
    {
     "name": "stdout",
     "output_type": "stream",
     "text": [
      "enter the length of rectangle:10\n",
      "enter the breadth of rectangle:10\n",
      "enter the radius of cicle:2\n",
      "the area and perimeter of rectangle is 100 40\n",
      "the area and circumference of circle is 12.566370614359172 12.566370614359172\n"
     ]
    }
   ],
   "source": [
    "import math\n",
    "try:\n",
    "    length=eval(input(\"enter the length of rectangle:\"))\n",
    "    breadth=eval(input(\"enter the breadth of rectangle:\")) #width and breadth are same\n",
    "    radius=eval(input(\"enter the radius of cicle:\"))\n",
    "    area=length*breadth\n",
    "    perimeter=(length+breadth)*2\n",
    "    areaofcircle=math.pi*radius**2\n",
    "    circumference=2*math.pi*radius\n",
    "    print(f\"the area and perimeter of rectangle is {area}  and  {perimeter}\")\n",
    "    print(f\"the area and circumference of circle is {areaofcircle}  and  {circumference}\")\n",
    "except Exception as e:\n",
    "    print(e)"
   ]
  },
  {
   "cell_type": "markdown",
   "id": "c235e6b2",
   "metadata": {},
   "source": [
    "6.Two numbers are input through the keyboard into two locations C and D. Write a program to\n",
    "interchange the contents of C and D."
   ]
  },
  {
   "cell_type": "code",
   "execution_count": 11,
   "id": "554994d5",
   "metadata": {},
   "outputs": [
    {
     "name": "stdout",
     "output_type": "stream",
     "text": [
      "enter a number:10\n",
      "enter a number:20\n",
      "Before swaping the values 10\n",
      "Before swaping the values 20\n",
      "after swaping the values 20\n",
      "after swaping the values 10\n"
     ]
    }
   ],
   "source": [
    "try:\n",
    "    c=eval(input(\"enter a number:\"))\n",
    "    d=eval(input(\"enter a number:\"))\n",
    "    #before swaping the values are\n",
    "    print(f\"Before swaping the values\",c)\n",
    "    print(f\"Before swaping the values\",d)\n",
    "    c,d=d,c\n",
    "    #after swaping the values are\n",
    "    print(f\"after swaping the values\",c)\n",
    "    print(f\"after swaping the values\",d)\n",
    "except Exception as e:\n",
    "    print(e)"
   ]
  },
  {
   "cell_type": "markdown",
   "id": "448bcd80",
   "metadata": {},
   "source": [
    "7. If a five-digit number is input through the keyboard, write a program to reverse the number."
   ]
  },
  {
   "cell_type": "code",
   "execution_count": 105,
   "id": "d4bb6316",
   "metadata": {},
   "outputs": [
    {
     "name": "stdout",
     "output_type": "stream",
     "text": [
      "enter a five digite number:12345\n",
      "the reverse of your number is 54321\n"
     ]
    }
   ],
   "source": [
    "try:\n",
    "    number=eval(input(\"enter a five digite number:\"))\n",
    "    if number<10000 or number>99999:\n",
    "        print(\"enter a vaild 5 digit number\")\n",
    "    else:\n",
    "        number1=number%10\n",
    "        number//=10\n",
    "        number2=number%10\n",
    "        number//=10\n",
    "        number3=number%10\n",
    "        number//=10\n",
    "        number4=number%10\n",
    "        number//=10\n",
    "        number5=number%10\n",
    "        number//=10\n",
    "    reverse=number1*10000+number2*1000+number3*100+number4*10+number5\n",
    "    print(f\"the reverse of your number is {reverse}\")\n",
    "except Exception as e:\n",
    "    print(e)"
   ]
  },
  {
   "cell_type": "markdown",
   "id": "9e756b2a",
   "metadata": {},
   "source": [
    "8.If a four-digit number is input through the keyboard, write a program to obtain the sum of the first and\n",
    "last digit of this number."
   ]
  },
  {
   "cell_type": "code",
   "execution_count": 123,
   "id": "c0edc49a",
   "metadata": {},
   "outputs": [
    {
     "name": "stdout",
     "output_type": "stream",
     "text": [
      "enter a 4 digit number:8797\n",
      "the sum of 8 and 7 is 15\n"
     ]
    }
   ],
   "source": [
    "try:\n",
    "    num4=eval(input(\"enter a 4 digit number:\"))\n",
    "    #to get first number\n",
    "    first_number=num4//1000\n",
    "    #to get last number\n",
    "    last_number=num4%10\n",
    "    # sum of first and last digits are\n",
    "    summ=first_number+last_number\n",
    "    print(f\"the sum of {first_number} and {last_number} is {summ}\")\n",
    "except Exception as e:\n",
    "    print(e)"
   ]
  },
  {
   "cell_type": "markdown",
   "id": "07b3c0af",
   "metadata": {},
   "source": [
    "8.In a town, the percentage of men is 52. The percentage of total literacy is 48. If total percentage of\n",
    "literate men is 35 of the total population, write a program to find the total number of illiterate men\n",
    "and women if the population of the town is 80,000."
   ]
  },
  {
   "cell_type": "code",
   "execution_count": 20,
   "id": "a68a2563",
   "metadata": {},
   "outputs": [
    {
     "name": "stdout",
     "output_type": "stream",
     "text": [
      "total men populatoin is: 41600.0\n",
      "total men literact is 14560.0\n",
      "the total women illerate in %: 13\n",
      "total women illerate in munbers are: 10400.0\n",
      "THE TOTAL ILLITERATE MEN ARE 14560.0 AND WOMEN ARE 10400.0\n"
     ]
    }
   ],
   "source": [
    "# in a town\n",
    "town_population=80000\n",
    "men_percentage=52 #in%\n",
    "total_literacy=48 #in%\n",
    "total_men_literacy=35 #in%\n",
    "try:\n",
    "    #to find total men population given 52\n",
    "    totalmen_population=town_population*men_percentage/100\n",
    "    print(\"total men populatoin is:\",totalmen_population)\n",
    "    totalmen_literacy=totalmen_population*total_men_literacy/100\n",
    "    print(\"total men literact is\",totalmen_literacy)\n",
    "    # to find women illitrate in percentage\n",
    "    total_women_illerate=(total_literacy-total_men_literacy)\n",
    "    print(\"the total women illerate in %:\",total_women_illerate)\n",
    "    #to find total women illearte in numbers\n",
    "    total_women_illerate_in_population=town_population*total_women_illerate/100\n",
    "    print(\"total women illerate in munbers are:\",total_women_illerate_in_population)\n",
    "    print(f\"THE TOTAL ILLITERATE MEN ARE {totalmen_literacy} AND WOMEN ARE {total_women_illerate_in_population}\")\n",
    "except Exception as e:\n",
    "    print(e)"
   ]
  },
  {
   "cell_type": "markdown",
   "id": "1c18c9c9",
   "metadata": {},
   "source": [
    "10.A cashier has currency notes of denominations 10, 50 and 100. If the amount to be withdrawn is\n",
    "input through the keyboard in hundreds, find the total number of currency notes of each\n",
    "denomination the cashier will have to give to the withdrawer."
   ]
  },
  {
   "cell_type": "code",
   "execution_count": 60,
   "id": "8a786767",
   "metadata": {},
   "outputs": [
    {
     "name": "stdout",
     "output_type": "stream",
     "text": [
      "Enter the amount to be withdrawn in hundreds: 8.60\n",
      "Number of 100s:  8.0\n",
      "Number of 50s:  1.0\n",
      "Number of 10s:  1.0\n"
     ]
    }
   ],
   "source": [
    "try:\n",
    "    amount_in_hundreds = eval(input(\"Enter the amount to be withdrawn in hundreds: \"))\n",
    "\n",
    "    # Convert the amount to actual value\n",
    "    amount = amount_in_hundreds * 100\n",
    "\n",
    "    # Initialize the count of each denomination to zero\n",
    "    notes_100 = 0\n",
    "    notes_50 = 0\n",
    "    notes_10 = 0\n",
    "\n",
    "    # Calculate the number of 100s\n",
    "    notes_100 = amount // 100\n",
    "    amount %= 100\n",
    "    notes_50 = amount // 50\n",
    "    amount %= 50\n",
    "    # Calculate the number of 10s\n",
    "    notes_10 = amount // 10\n",
    "    amount %= 10\n",
    "\n",
    "    # Print the results\n",
    "    print(\"Number of 100s: \", notes_100)\n",
    "    print(\"Number of 50s: \", notes_50)\n",
    "    print(\"Number of 10s: \", notes_10)\n",
    "except Exception as e:\n",
    "    print(e)"
   ]
  },
  {
   "cell_type": "code",
   "execution_count": null,
   "id": "fd629050",
   "metadata": {},
   "outputs": [],
   "source": []
  }
 ],
 "metadata": {
  "kernelspec": {
   "display_name": "Python 3 (ipykernel)",
   "language": "python",
   "name": "python3"
  },
  "language_info": {
   "codemirror_mode": {
    "name": "ipython",
    "version": 3
   },
   "file_extension": ".py",
   "mimetype": "text/x-python",
   "name": "python",
   "nbconvert_exporter": "python",
   "pygments_lexer": "ipython3",
   "version": "3.11.5"
  }
 },
 "nbformat": 4,
 "nbformat_minor": 5
}

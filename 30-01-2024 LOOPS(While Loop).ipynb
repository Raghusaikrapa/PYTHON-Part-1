{
 "cells": [
  {
   "cell_type": "markdown",
   "id": "7cd0b021",
   "metadata": {},
   "source": [
    "# WHILE LOOPS"
   ]
  },
  {
   "cell_type": "markdown",
   "id": "e5c6e6e5",
   "metadata": {},
   "source": [
    "- in forloop the start point,endpoint,step(increment or decrement)\n",
    "- all are at one line \n",
    "  - as for x in range(start,stop,step):"
   ]
  },
  {
   "cell_type": "code",
   "execution_count": null,
   "id": "f326c080",
   "metadata": {},
   "outputs": [],
   "source": [
    " for x in range(3,10,2):\n",
    "            print(x)"
   ]
  },
  {
   "cell_type": "code",
   "execution_count": null,
   "id": "8564a7fb",
   "metadata": {},
   "outputs": [],
   "source": [
    "# but in while loop \n",
    "# i=0 ## startpoint\n",
    "# while <condition>:\n",
    "# i=i+1(step value) or ((increment(or)decrement))\n",
    "# here 3 lines are present"
   ]
  },
  {
   "cell_type": "code",
   "execution_count": null,
   "id": "688a85db",
   "metadata": {},
   "outputs": [],
   "source": [
    "#example in for loop\n",
    "for x in range(1,11):\n",
    "    print(x,end=\" \")\n",
    "#=============================\n",
    "#same in while loop\n",
    "x=1\n",
    "while x<11:\n",
    "    print(x,end=\" \")\n",
    "    i=i+1\n",
    "    #here initally step-1==> i=1 step-2==> x<11=1<11(True) \n",
    "    # step-3==> 1 will print step-4==>i=1+1 now i=2\n",
    "    #=============================================================\n",
    "    #again repeat the loop as\n",
    "    # now i=2 and 2<11(true) and will print 2 then i=i+1==2+1 now i=3\n",
    "    #==============================================================\n",
    "    #at last i=11 then condition fails and loop stops thats it"
   ]
  },
  {
   "cell_type": "code",
   "execution_count": null,
   "id": "d0649386",
   "metadata": {},
   "outputs": [],
   "source": [
    "# print(1,2,3,4,5,6,7,8,9,10 by using variors conditions)\n",
    "x=1\n",
    "while x<11:\n",
    "    print(x,end=\" \")\n",
    "    i=i+1\n",
    "#=========================================================================\n",
    "x=0\n",
    "while x<=10:\n",
    "    print(x,end=\" \")\n",
    "    x=x+1\n",
    "#=========================================================================\n",
    "x=0\n",
    "while x!=11:\n",
    "    print(x,end=\" \")\n",
    "    x=x+1\n",
    "#=========================================================================\n",
    "#infint loop\n",
    "x=0\n",
    "while x>=0:\n",
    "    print(x,end=\" \")\n",
    "    x=x+1\n",
    "#=========================================================================\n",
    "#infite loop\n",
    "x=1\n",
    "while True:\n",
    "    print(x)\n",
    "    x=x+1"
   ]
  },
  {
   "cell_type": "code",
   "execution_count": 5,
   "id": "a1b9b101",
   "metadata": {},
   "outputs": [
    {
     "name": "stdout",
     "output_type": "stream",
     "text": [
      "good morning\n",
      "good morning\n",
      "good morning\n"
     ]
    }
   ],
   "source": [
    "x=False#======0\n",
    "while x<3:\n",
    "    print(\"good morning\") #every thing is for loop only just syntax change\n",
    "    x=x+1"
   ]
  },
  {
   "cell_type": "code",
   "execution_count": null,
   "id": "a80af0d1",
   "metadata": {},
   "outputs": [],
   "source": [
    "x=True#======1\n",
    "while x<3:\n",
    "    print(\"good morning\") #every thing is for loop only just syntax change\n",
    "    x=x+1"
   ]
  },
  {
   "cell_type": "code",
   "execution_count": 10,
   "id": "1cc952a6",
   "metadata": {},
   "outputs": [
    {
     "name": "stdout",
     "output_type": "stream",
     "text": [
      "0 1 2 3 4 5 6 7 8 9 "
     ]
    }
   ],
   "source": [
    "x=0\n",
    "while x>=0:\n",
    "    print(x,end=\" \")\n",
    "    x=x+1\n",
    "    if x==10:\n",
    "        break"
   ]
  },
  {
   "cell_type": "code",
   "execution_count": 16,
   "id": "2f74503b",
   "metadata": {},
   "outputs": [
    {
     "name": "stdout",
     "output_type": "stream",
     "text": [
      "the square of 1 is 1\n",
      "the square of 2 is 4\n",
      "the square of 3 is 9\n",
      "the square of 4 is 16\n",
      "the square of 5 is 25\n"
     ]
    }
   ],
   "source": [
    "#WAP ask the user print the square of 1 to 5 numbers using while loop\n",
    "# For loop\n",
    "x=1\n",
    "while x<=5:\n",
    "    print(f\"the square of {x} is {x*x}\")\n",
    "    x=x+1"
   ]
  },
  {
   "cell_type": "code",
   "execution_count": 22,
   "id": "7ed6027b",
   "metadata": {},
   "outputs": [
    {
     "name": "stdout",
     "output_type": "stream",
     "text": [
      "the squaere of 3 is 9\n",
      "the squaere of 2 is 4\n",
      "the squaere of 2 is 4\n",
      "the squaere of 8 is 64\n",
      "the squaere of 3 is 9\n"
     ]
    }
   ],
   "source": [
    "# wap ask the user get 5 random numbers\n",
    "# and print the square of the numbers using while loop\n",
    "import random\n",
    "x=0\n",
    "while x<5:\n",
    "    rand=random.randint(1,10)\n",
    "    print(f\"the squaere of {rand} is {rand*rand}\")\n",
    "    x=x+1"
   ]
  },
  {
   "cell_type": "code",
   "execution_count": 25,
   "id": "490a6af9",
   "metadata": {},
   "outputs": [
    {
     "name": "stdout",
     "output_type": "stream",
     "text": [
      "55\n"
     ]
    }
   ],
   "source": [
    "# WAP print sum of first 10 natural numbers\n",
    "summ=0\n",
    "x=0\n",
    "while x<=10:\n",
    "    summ=summ+x\n",
    "    x=x+1\n",
    "print(summ)"
   ]
  },
  {
   "cell_type": "code",
   "execution_count": null,
   "id": "ac559028",
   "metadata": {},
   "outputs": [],
   "source": [
    "# WAP find the number of divsiors of a given number using while loop\n",
    "# num 10 divisors loop 10 times"
   ]
  },
  {
   "cell_type": "code",
   "execution_count": 27,
   "id": "0b6bc413",
   "metadata": {},
   "outputs": [
    {
     "name": "stdout",
     "output_type": "stream",
     "text": [
      "1 is diviser of 10\n",
      "2 is diviser of 10\n",
      "5 is diviser of 10\n",
      "10 is diviser of 10\n"
     ]
    }
   ],
   "source": [
    "x=1\n",
    "while x<=10:\n",
    "    num=10\n",
    "    if num%x==0:\n",
    "        print(f\"{x} is diviser of {num}\")\n",
    "    x=x+1"
   ]
  },
  {
   "cell_type": "code",
   "execution_count": 32,
   "id": "d66fb48d",
   "metadata": {},
   "outputs": [
    {
     "name": "stdout",
     "output_type": "stream",
     "text": [
      "1 is diviser of 10\n",
      "2 is diviser of 10\n",
      "5 is diviser of 10\n",
      "10 is diviser of 10\n",
      "the total number of divisers are 4\n"
     ]
    }
   ],
   "source": [
    "#same program by using count of numbers\n",
    "x=1\n",
    "count=0\n",
    "while x<=10:\n",
    "    num=10\n",
    "    if num%x==0:\n",
    "        print(f\"{x} is diviser of {num}\")\n",
    "        count=count+1\n",
    "    x=x+1\n",
    "print(f\"the total number of divisers are {count}\")"
   ]
  },
  {
   "cell_type": "code",
   "execution_count": null,
   "id": "53060b59",
   "metadata": {},
   "outputs": [],
   "source": [
    "# WAP ask the get a random number\n",
    "# ask the user get a number\n",
    "# if usernumber==Random number print (won)\n",
    "# else: print(lost)\n",
    "# give 3 chances use while loop"
   ]
  },
  {
   "cell_type": "code",
   "execution_count": 45,
   "id": "8cd735bc",
   "metadata": {},
   "outputs": [
    {
     "name": "stdout",
     "output_type": "stream",
     "text": [
      "enter the number b/w 1 to 10: 2\n",
      "u lost\n",
      "u have 2 chances left \n",
      "enter the number b/w 1 to 10: 3\n",
      "u lost\n",
      "u have 1 chances left \n",
      "enter the number b/w 1 to 10: 4\n",
      "u lost\n",
      "u have 0 chances left \n"
     ]
    }
   ],
   "source": [
    "import random\n",
    "i=0\n",
    "while i<3:\n",
    "    rand=random.randint(1,10)\n",
    "    num=eval(input(\"enter the number b/w 1 to 10: \"))\n",
    "    if num==rand:\n",
    "        print(f\"{rand} is equal to {num} , u won\")\n",
    "        break\n",
    "    else:\n",
    "        print(\"u lost\")\n",
    "    i=i+1"
   ]
  },
  {
   "cell_type": "code",
   "execution_count": null,
   "id": "48964167",
   "metadata": {},
   "outputs": [],
   "source": [
    "# counter program\n",
    "import random\n",
    "won_count=0\n",
    "lost_count=0\n",
    "i=0\n",
    "while i<5:\n",
    "    rand=random.randint(1,10)\n",
    "    num=eval(input('enter a number bwtween 1 to 10:'))\n",
    "    if rand==num:\n",
    "        print(f\"{rand}u won\")\n",
    "        won_count=won_count+1\n",
    "    else:\n",
    "        print(f\"{rand}u lost\")\n",
    "        lost_count=lost_count+1\n",
    "    i=i+1\n",
    "print(won_count)\n",
    "print(lost_count)"
   ]
  },
  {
   "cell_type": "code",
   "execution_count": 48,
   "id": "0a485900",
   "metadata": {},
   "outputs": [
    {
     "name": "stdout",
     "output_type": "stream",
     "text": [
      "enter the number b/w 1 to 10: 2\n",
      "u lost\n",
      "u have 2 chances left \n",
      "enter the number b/w 1 to 10: 3\n",
      "u lost\n",
      "u have 1 chances left \n",
      "enter the number b/w 1 to 10: 3\n",
      "u lost\n",
      "u have 0 chances left \n"
     ]
    }
   ],
   "source": [
    "# get the user how many chances left (chances-i-1)LOGIC\n",
    "import random\n",
    "chances=3\n",
    "i=0\n",
    "while i<3:\n",
    "    rand=random.randint(1,10)\n",
    "    num=eval(input(\"enter the number b/w 1 to 10: \"))\n",
    "    if num==rand:\n",
    "        print(f\"{rand} is equal to {num} , u won\")\n",
    "        break\n",
    "    else:\n",
    "        print(\"u lost\")\n",
    "        print(f\"u have {chances-i-1} chances left \")\n",
    "    i=i+1\n"
   ]
  },
  {
   "cell_type": "code",
   "execution_count": 54,
   "id": "49ba8f18",
   "metadata": {},
   "outputs": [
    {
     "name": "stdout",
     "output_type": "stream",
     "text": [
      "enter the number b/w 1 to 10: 3\n",
      "u lost\n",
      "u have 2 chances left \n",
      "enter the number b/w 1 to 10: 3\n",
      "u lost\n",
      "u have 1 chances left \n",
      "enter the number b/w 1 to 10: 4\n",
      "u lost\n",
      "u have 0 chances left \n",
      "you have lost all the chance please try later sir\n"
     ]
    }
   ],
   "source": [
    "# if all chances are over display u have all chances over print(\"try after some time\")\n",
    "import random\n",
    "chances=3\n",
    "i=0\n",
    "while i<3:\n",
    "    rand=random.randint(1,10)\n",
    "    num=eval(input(\"enter the number b/w 1 to 10: \"))\n",
    "    if num==rand:\n",
    "        print(f\"{rand} is equal to {num} , u won\")\n",
    "        break\n",
    "    else:\n",
    "        print(\"u lost\")\n",
    "        print(f\"u have {chances-i-1} chances left \")\n",
    "        if chances-i-1==0:\n",
    "            print(\"you have lost all the chance please try later sir\")\n",
    "    i=i+1\n"
   ]
  },
  {
   "cell_type": "code",
   "execution_count": null,
   "id": "3620ef1f",
   "metadata": {},
   "outputs": [],
   "source": [
    "# QUESTION"
   ]
  },
  {
   "cell_type": "markdown",
   "id": "44a4e851",
   "metadata": {},
   "source": [
    "Suppose that a player wants to play a game which requires him Rs. 1,000 to start. If the\n",
    "current balance in his account is less than Rs. 1,000 he needs to withdraw the extra money\n",
    "from his e-wallet.\n",
    "Note that if the sum of money in his courrent account and the amount withdrawn is greater\n",
    "than or equal to Rs. 1,000 then he can start playing the game. However if the sum is less\n",
    "than Rs. 1,000 then the program should keep displaying the user the message “You still do\n",
    "not have enough money to start playing.” and keep prompting the user to withdraw money\n",
    "unless it crosses Rs. 1,000. Once ready, i.e. if his current account balance crosses Rs.\n",
    "1,000, it will display a message “Now, you are ready to play the game.” Your program should\n",
    "also display the account balance and the current amount in the e-wallet.\n",
    "(consider: initial account balance is Rs. 200 and money in the e-wallet is Rs. 5,000)\n",
    "(Do further improvement by checking if the e-wallet balance becomes NIL, etc.)"
   ]
  },
  {
   "cell_type": "code",
   "execution_count": null,
   "id": "5c075a0c",
   "metadata": {},
   "outputs": [],
   "source": [
    "Current_Balance=eval(input(\"enter the banance u want to add:\"))\n",
    "e_wallet_balance=5000\n",
    "inital_amount=1000\n",
    "\n",
    "if Current_Balance>=1000:\n",
    "    print(\"Now, you are ready to play the game.\")\n",
    "else:\n",
    "    while Current_Balance<1000:\n",
    "        print(\"needs to withdraw the extra money from his e-wallet.\")\n",
    "        "
   ]
  },
  {
   "cell_type": "code",
   "execution_count": null,
   "id": "729fe4d6",
   "metadata": {},
   "outputs": [],
   "source": []
  }
 ],
 "metadata": {
  "kernelspec": {
   "display_name": "Python 3 (ipykernel)",
   "language": "python",
   "name": "python3"
  },
  "language_info": {
   "codemirror_mode": {
    "name": "ipython",
    "version": 3
   },
   "file_extension": ".py",
   "mimetype": "text/x-python",
   "name": "python",
   "nbconvert_exporter": "python",
   "pygments_lexer": "ipython3",
   "version": "3.11.5"
  }
 },
 "nbformat": 4,
 "nbformat_minor": 5
}

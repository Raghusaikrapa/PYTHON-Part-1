{
 "cells": [
  {
   "cell_type": "markdown",
   "id": "f0febee8",
   "metadata": {},
   "source": [
    "# FUNCTIONS\n",
    "# 22-01-2024(MONDAY)"
   ]
  },
  {
   "cell_type": "code",
   "execution_count": null,
   "id": "11622a9e",
   "metadata": {},
   "outputs": [],
   "source": [
    "variables\n",
    "Data types\n",
    "type casting\n",
    "print\n",
    "Basic codes\n",
    "eval\n",
    "input\n",
    "if-else conditions\n",
    "try-except"
   ]
  },
  {
   "cell_type": "markdown",
   "id": "5b24d551",
   "metadata": {},
   "source": [
    "Function is reusing the same code (or) code Reusability .\n",
    "- example\n",
    "- wish u happybdy\n",
    "- wish u pongal\n",
    "- wish u happynew year\n",
    "- here (wish u is reusable code)"
   ]
  },
  {
   "cell_type": "code",
   "execution_count": null,
   "id": "93512a93",
   "metadata": {},
   "outputs": [],
   "source": [
    "#SYNTAX is def <functonname>():\n",
    "               # write our code"
   ]
  },
  {
   "cell_type": "markdown",
   "id": "5543f42c",
   "metadata": {},
   "source": [
    "# EXAMPLES"
   ]
  },
  {
   "cell_type": "markdown",
   "id": "9982d176",
   "metadata": {},
   "source": [
    "- addition program by using function"
   ]
  },
  {
   "cell_type": "code",
   "execution_count": 5,
   "id": "7f366ebb",
   "metadata": {},
   "outputs": [
    {
     "name": "stdout",
     "output_type": "stream",
     "text": [
      "enter a number10\n",
      "enter a number:20\n",
      "30\n"
     ]
    }
   ],
   "source": [
    "def addition():\n",
    "    num1=eval(input(\"enter a number\"))\n",
    "    num2=eval(input(\"enter a number:\"))\n",
    "    summ=num1+num2\n",
    "    print(summ)\n",
    "addition()     # calling part"
   ]
  },
  {
   "cell_type": "code",
   "execution_count": null,
   "id": "5ad16a72",
   "metadata": {},
   "outputs": [],
   "source": [
    "# finding avg prohram by using function"
   ]
  },
  {
   "cell_type": "code",
   "execution_count": 7,
   "id": "c2fa3b80",
   "metadata": {},
   "outputs": [
    {
     "name": "stdout",
     "output_type": "stream",
     "text": [
      "enter the number:486\n",
      "enter the number:7\n",
      "enter the number:9\n",
      "the avg of 486 7 9 is 167.33333333333334\n"
     ]
    }
   ],
   "source": [
    "def average():\n",
    "    a=eval(input(\"enter the number:\"))\n",
    "    b=eval(input(\"enter the number:\"))\n",
    "    c=eval(input(\"enter the number:\"))\n",
    "    average=(a+b+c)/3                #or also round((a+b+c)/3,2)\n",
    "    output=round(average,2)          #here 2 is how many .after digits we required\n",
    "    print(f\"the avg of {a} {b} {c} is {average}\")\n",
    "average()"
   ]
  },
  {
   "cell_type": "code",
   "execution_count": 10,
   "id": "8854d32a",
   "metadata": {},
   "outputs": [],
   "source": [
    "def average():\n",
    "    a=eval(input(\"enter the number:\"))\n",
    "    b=eval(input(\"enter the number:\"))\n",
    "    c=eval(input(\"enter the number:\"))\n",
    "    average=(a+b+c)/3                #or also round((a+b+c)/3,2)\n",
    "    output=round(averag,2)          #here 2 is how many .after digits we required\n",
    "    print(f\"the avg of {a} {b} {c} is {average}\")"
   ]
  },
  {
   "cell_type": "code",
   "execution_count": 11,
   "id": "ae5f9922",
   "metadata": {},
   "outputs": [
    {
     "name": "stdout",
     "output_type": "stream",
     "text": [
      "enter the number:10\n",
      "enter the number:20\n",
      "enter the number:30\n"
     ]
    },
    {
     "ename": "NameError",
     "evalue": "name 'averag' is not defined",
     "output_type": "error",
     "traceback": [
      "\u001b[1;31m---------------------------------------------------------------------------\u001b[0m",
      "\u001b[1;31mNameError\u001b[0m                                 Traceback (most recent call last)",
      "Cell \u001b[1;32mIn[11], line 1\u001b[0m\n\u001b[1;32m----> 1\u001b[0m average()\n",
      "Cell \u001b[1;32mIn[10], line 6\u001b[0m, in \u001b[0;36maverage\u001b[1;34m()\u001b[0m\n\u001b[0;32m      4\u001b[0m c\u001b[38;5;241m=\u001b[39m\u001b[38;5;28meval\u001b[39m(\u001b[38;5;28minput\u001b[39m(\u001b[38;5;124m\"\u001b[39m\u001b[38;5;124menter the number:\u001b[39m\u001b[38;5;124m\"\u001b[39m))\n\u001b[0;32m      5\u001b[0m average\u001b[38;5;241m=\u001b[39m(a\u001b[38;5;241m+\u001b[39mb\u001b[38;5;241m+\u001b[39mc)\u001b[38;5;241m/\u001b[39m\u001b[38;5;241m3\u001b[39m                \u001b[38;5;66;03m#or also round((a+b+c)/3,2)\u001b[39;00m\n\u001b[1;32m----> 6\u001b[0m output\u001b[38;5;241m=\u001b[39m\u001b[38;5;28mround\u001b[39m(averag,\u001b[38;5;241m2\u001b[39m)          \u001b[38;5;66;03m#here 2 is how many .after digits we required\u001b[39;00m\n\u001b[0;32m      7\u001b[0m \u001b[38;5;28mprint\u001b[39m(\u001b[38;5;124mf\u001b[39m\u001b[38;5;124m\"\u001b[39m\u001b[38;5;124mthe avg of \u001b[39m\u001b[38;5;132;01m{\u001b[39;00ma\u001b[38;5;132;01m}\u001b[39;00m\u001b[38;5;124m \u001b[39m\u001b[38;5;132;01m{\u001b[39;00mb\u001b[38;5;132;01m}\u001b[39;00m\u001b[38;5;124m \u001b[39m\u001b[38;5;132;01m{\u001b[39;00mc\u001b[38;5;132;01m}\u001b[39;00m\u001b[38;5;124m is \u001b[39m\u001b[38;5;132;01m{\u001b[39;00maverage\u001b[38;5;132;01m}\u001b[39;00m\u001b[38;5;124m\"\u001b[39m)\n",
      "\u001b[1;31mNameError\u001b[0m: name 'averag' is not defined"
     ]
    }
   ],
   "source": [
    "average()"
   ]
  },
  {
   "cell_type": "markdown",
   "id": "2bc0d7ae",
   "metadata": {},
   "source": [
    "- here main point is \n",
    "- when we defining a function in onecell and calling part in another cell and when we run the function it will not show any error(if present)\n",
    "- unless we call the function\n",
    "- when we run a function it only shows the ((\"syntax error\")) if any other error it will show only when we call the function\n",
    "- just try as above (average) example\n"
   ]
  },
  {
   "cell_type": "markdown",
   "id": "98ff602b",
   "metadata": {},
   "source": [
    "write a program\n",
    "- ask user to enter the bill amount\n",
    "- ask the user to enter the tip in %\n",
    "- now cal the tip%\n",
    "- now calculate total bill amount"
   ]
  },
  {
   "cell_type": "code",
   "execution_count": null,
   "id": "5581fa4b",
   "metadata": {},
   "outputs": [],
   "source": [
    "def resto():\n",
    "    bill=eval(input(\"enter the bill:\"))\n",
    "    tip=eval(input('enter the tip %:'))\n",
    "    totaltip=bill*tip/100            ##percentage promula is bill*tip/100\n",
    "    totalbill=bill+totaltip           #then we get tip now tip+totalbill.............\n",
    "    print(F\"the total bill is {totalbill}\")\n",
    "resto()"
   ]
  },
  {
   "cell_type": "code",
   "execution_count": 12,
   "id": "24df2d97",
   "metadata": {},
   "outputs": [
    {
     "data": {
      "text/plain": [
       "<function __main__.resto()>"
      ]
     },
     "execution_count": 12,
     "metadata": {},
     "output_type": "execute_result"
    }
   ],
   "source": [
    "def resto():\n",
    "    bill=eval(input(\"enter the bill:\"))\n",
    "    tip=eval(input('enter the tip %:'))\n",
    "    totaltip=bill*tip/100            ##percentage promula is bill*tip/100\n",
    "    totalbill=bill+totaltip           #then we get tip now tip+totalbill.............\n",
    "    print(F\"the total bill is {totalbill}\")\n",
    "resto     #when we not given the bracket its shows to keep () because its function"
   ]
  },
  {
   "cell_type": "markdown",
   "id": "4193d7a2",
   "metadata": {},
   "source": [
    "Note: Functions-methods both are same"
   ]
  },
  {
   "cell_type": "code",
   "execution_count": null,
   "id": "2d4f6d04",
   "metadata": {},
   "outputs": [],
   "source": [
    "#just simple ideas"
   ]
  },
  {
   "cell_type": "code",
   "execution_count": 13,
   "id": "f67572e3",
   "metadata": {},
   "outputs": [
    {
     "name": "stdout",
     "output_type": "stream",
     "text": [
      "hello\n",
      "1\n",
      "ima out\n",
      "30\n",
      "iam in\n",
      "byeeeee...\n"
     ]
    }
   ],
   "source": [
    "print(\"hello\")            #here first hello will print                             \n",
    "print(1)                  # then 1                      \n",
    "def addition():           #then iamout\n",
    "    a=10                  #then we are calling function so 10+20=30 willprint\n",
    "    b=20\n",
    "    print(a+b)\n",
    "    print(\"iam in\")       #next iamin will print\n",
    "print(\"ima out\")\n",
    "addition()\n",
    "print(\"byeeeee...\")       #at last \"bye.....\" will print\n",
    "                          # lest see ouput guys(CORRECT***)\n",
    "    ### BECAUSE PYTHON IS STEP-BY-STEP EXICUATION WE KNOW THAT  ########"
   ]
  },
  {
   "cell_type": "markdown",
   "id": "dc8cf869",
   "metadata": {},
   "source": [
    "- now exception blocks such as try and except should be inside the function only (example)\n",
    "- this program is using function and exception blocks and if and else blocks"
   ]
  },
  {
   "cell_type": "code",
   "execution_count": 44,
   "id": "88ab0763",
   "metadata": {},
   "outputs": [
    {
     "name": "stdout",
     "output_type": "stream",
     "text": [
      "enter a number:qdd\n",
      "name 'qdd' is not defined\n"
     ]
    }
   ],
   "source": [
    "def even_odd():\n",
    "    try:\n",
    "        num=eval(input(\"enter a number:\"))\n",
    "        if num%2==0:\n",
    "            print(\"its even number\")\n",
    "        else:\n",
    "            print('its odd number')\n",
    "    except Exception as e:\n",
    "        print(e)\n",
    "even_odd()"
   ]
  },
  {
   "cell_type": "markdown",
   "id": "01e1c327",
   "metadata": {},
   "source": [
    "- implementing the same code by using random\n",
    "- always remember packages should at top only"
   ]
  },
  {
   "cell_type": "markdown",
   "id": "041a58b6",
   "metadata": {},
   "source": [
    "# 23-01-2023(TUESDAY)"
   ]
  },
  {
   "cell_type": "code",
   "execution_count": 49,
   "id": "363b0eec",
   "metadata": {},
   "outputs": [
    {
     "name": "stdout",
     "output_type": "stream",
     "text": [
      "15 its odd number\n"
     ]
    }
   ],
   "source": [
    "import random\n",
    "def evenodd():\n",
    "    try:\n",
    "        num=random.randint(10,20)\n",
    "        if num%2==0:\n",
    "            print(f\"{num} its even number\")\n",
    "        else:\n",
    "            print(f\"{num} its odd number\")\n",
    "    except Exception as e:\n",
    "        print(e)\n",
    "evenodd()"
   ]
  },
  {
   "cell_type": "markdown",
   "id": "15925c8a",
   "metadata": {},
   "source": [
    "- wap ask the user get a random number num1\n",
    "- ask the user to enter a number from keybord num2\n",
    "- if num1==num2 \n",
    "- print(in)\n",
    "- else\n",
    "- print(out)"
   ]
  },
  {
   "cell_type": "code",
   "execution_count": 37,
   "id": "5b4b9ae2",
   "metadata": {},
   "outputs": [
    {
     "name": "stdout",
     "output_type": "stream",
     "text": [
      "enter a number from 1 to 5:2\n",
      "2 in\n"
     ]
    }
   ],
   "source": [
    "def inout():\n",
    "    num1=random.randint(1,5)\n",
    "    num2=eval(input(\"enter a number from 1 to 5:\"))\n",
    "    if num1==num2:\n",
    "        print(f\"{num1} in\")\n",
    "    else:\n",
    "        print(f'{num1} out')\n",
    "inout()"
   ]
  },
  {
   "cell_type": "markdown",
   "id": "1b6e31f3",
   "metadata": {},
   "source": [
    "# FUNCTIONS WITHOUT ARGUMENTS"
   ]
  },
  {
   "cell_type": "code",
   "execution_count": 52,
   "id": "906d18cb",
   "metadata": {},
   "outputs": [],
   "source": [
    "# now lets take all function and exicute at once \n",
    "def addition():#no args\n",
    "    print(\"its addition program\")\n",
    "    num1=eval(input(\"enter a number\"))\n",
    "    num2=eval(input(\"enter a number:\"))\n",
    "    summ=num1+num2\n",
    "    print(summ)\n",
    "######################################################################################\n",
    "def average():# no args\n",
    "    print(\"its average program\")\n",
    "    a=eval(input(\"enter the number:\"))\n",
    "    b=eval(input(\"enter the number:\"))\n",
    "    c=eval(input(\"enter the number:\"))\n",
    "    average=(a+b+c)/3                #or also round((a+b+c)/3,2)\n",
    "    output=round(average,2)          #here 2 is how many .after digits we required\n",
    "    print(f\"the avg of {a} {b} {c} is {average}\")\n",
    "######################################################################################\n",
    "def resto(): #args\n",
    "    print(\"its restorent program\")\n",
    "    bill=eval(input(\"enter the bill:\"))\n",
    "    tip=eval(input('enter the tip %:'))\n",
    "    totaltip=bill*tip/100            ##percentage promula is bill*tip/100\n",
    "    totalbill=bill+totaltip           #then we get tip now tip+totalbill.............\n",
    "    print(F\"the total bill is {totalbill}\")"
   ]
  },
  {
   "cell_type": "code",
   "execution_count": 53,
   "id": "a2046447",
   "metadata": {},
   "outputs": [
    {
     "name": "stdout",
     "output_type": "stream",
     "text": [
      "its addition program\n",
      "enter a number100\n",
      "enter a number:200\n",
      "300\n",
      "=============================================================\n",
      "its average program\n",
      "enter the number:20\n",
      "enter the number:10\n",
      "enter the number:30\n",
      "the avg of 20 10 30 is 20.0\n",
      "============================================================\n",
      "its restorent program\n",
      "enter the bill:1000\n",
      "enter the tip %:10\n",
      "the total bill is 1100.0\n"
     ]
    }
   ],
   "source": [
    "addition()\n",
    "print(\"=============================================================\")\n",
    "average()\n",
    "print(\"============================================================\")\n",
    "resto()"
   ]
  },
  {
   "cell_type": "markdown",
   "id": "144fb43a",
   "metadata": {},
   "source": [
    "- till now we developed some functions\n",
    "- functions without arguments\n",
    "- ie inside brackets no values\n",
    "- when ever we write some thing in brackets are called as \"\"ARGUMENTS (or) PARAMETERS\"\"\n",
    "- EXAMPLES"
   ]
  },
  {
   "cell_type": "markdown",
   "id": "9325496e",
   "metadata": {},
   "source": [
    "# FUNCTIONS WITH ARGUMENTS"
   ]
  },
  {
   "cell_type": "code",
   "execution_count": 55,
   "id": "64ff1f55",
   "metadata": {},
   "outputs": [
    {
     "name": "stdout",
     "output_type": "stream",
     "text": [
      "30\n"
     ]
    }
   ],
   "source": [
    "# now \n",
    "def addition():\n",
    "    a=10\n",
    "    b=20\n",
    "    add=a+b\n",
    "    print(add)\n",
    "addition()\n",
    "# in above program we have 3 varables (a,b,add)\n",
    "# and also 2 input varables(a,b)\n",
    "# and also 1 output varable ie (add)\n"
   ]
  },
  {
   "cell_type": "code",
   "execution_count": 56,
   "id": "e547311e",
   "metadata": {},
   "outputs": [
    {
     "name": "stdout",
     "output_type": "stream",
     "text": [
      "30\n"
     ]
    }
   ],
   "source": [
    "# now same program\n",
    "def addition(a,b):\n",
    "    add=a+b\n",
    "    print(add)\n",
    "addition(10,20)   \n",
    "# here inside the brackets we have passed the arguments IE input varables\n",
    "# then we should passs the values in callpart of function"
   ]
  },
  {
   "cell_type": "code",
   "execution_count": 58,
   "id": "7c989d8d",
   "metadata": {},
   "outputs": [
    {
     "name": "stdout",
     "output_type": "stream",
     "text": [
      "entera number:5\n",
      "entera number:9\n",
      "enter a number:6\n",
      "6.667\n"
     ]
    }
   ],
   "source": [
    "#ex=2\n",
    "def avg():\n",
    "    n1=eval(input(\"entera number:\"))\n",
    "    n2=eval(input(\"entera number:\"))\n",
    "    n3=eval(input(\"enter a number:\"))\n",
    "    average=(n1+n2+n3)/3              #formula is sum of numbers/total numbers\n",
    "    print(round(average,3))\n",
    "avg()"
   ]
  },
  {
   "cell_type": "code",
   "execution_count": 59,
   "id": "f57d89de",
   "metadata": {},
   "outputs": [
    {
     "name": "stdout",
     "output_type": "stream",
     "text": [
      "20.0\n"
     ]
    }
   ],
   "source": [
    "# same avg program with using implementing arguments\n",
    "def avg(n1,n2,n3):          #here pass the varables \n",
    "    average=(n1+n2+n3)/3\n",
    "    print(average)\n",
    "avg(10,20,30) #### here pass the values thats it its called as function with arguments"
   ]
  },
  {
   "cell_type": "code",
   "execution_count": 66,
   "id": "527e8c4c",
   "metadata": {},
   "outputs": [
    {
     "name": "stdout",
     "output_type": "stream",
     "text": [
      "a: 10\n",
      "b: 20\n",
      "30\n"
     ]
    }
   ],
   "source": [
    "#ex\n",
    "def addi(num1,num2):\n",
    "    print('a:',num1)\n",
    "    print('b:',num2)\n",
    "    add=num1+num2\n",
    "    print(add)\n",
    "addi(10,20)"
   ]
  },
  {
   "cell_type": "code",
   "execution_count": 3,
   "id": "1a7dd734",
   "metadata": {},
   "outputs": [
    {
     "name": "stdout",
     "output_type": "stream",
     "text": [
      "2050\n"
     ]
    }
   ],
   "source": [
    "num1=500\n",
    "#################################\n",
    "def summ(num1,num2):\n",
    "    num1=2000\n",
    "    add=num1+num2\n",
    "    print(add)\n",
    "####################################\n",
    "num1=1000\n",
    "summ(150,50)\n",
    "# first num1=500,then num1=1000,then num1=150,then num1=2000\n",
    "# then add 2000+50=2050"
   ]
  },
  {
   "cell_type": "code",
   "execution_count": 76,
   "id": "d4e04e04",
   "metadata": {},
   "outputs": [
    {
     "name": "stdout",
     "output_type": "stream",
     "text": [
      "450\n"
     ]
    }
   ],
   "source": [
    "#example\n",
    "num1=500\n",
    "#################################\n",
    "def summ(num1,num2):\n",
    "    num1=2000;num1=400\n",
    "    add=num1+num2\n",
    "    print(add)\n",
    "####################################\n",
    "num1=1000\n",
    "summ(150,50)"
   ]
  },
  {
   "cell_type": "code",
   "execution_count": 78,
   "id": "de417078",
   "metadata": {},
   "outputs": [
    {
     "name": "stdout",
     "output_type": "stream",
     "text": [
      "100\n",
      "500\n"
     ]
    }
   ],
   "source": [
    "#example\n",
    "num1=200\n",
    "num2=300\n",
    "def addition(num1,num2):\n",
    "    num1=20\n",
    "    num2=50\n",
    "    num1=num2\n",
    "    add=num1+num2\n",
    "    print(add)\n",
    "num1=num2         #300\n",
    "num2=num1         #300\n",
    "addition(10,20)        \n",
    "add=num1+num2\n",
    "print(add)\n",
    "# function will not return any values \n",
    "# untill we use return keyword only\n",
    "#when we print any outside the function it takes the last values which are outside the function"
   ]
  },
  {
   "cell_type": "code",
   "execution_count": 79,
   "id": "87967393",
   "metadata": {},
   "outputs": [
    {
     "name": "stdout",
     "output_type": "stream",
     "text": [
      "enter the bill:1000\n",
      "enter the tip in%:10\n",
      "1100.0\n"
     ]
    }
   ],
   "source": [
    "#restorent tip program \n",
    "def resto_tip():\n",
    "    bill=eval(input(\"enter the bill:\"))\n",
    "    tip=eval(input(\"enter the tip in%:\"))\n",
    "    tip_given=bill*tip/100\n",
    "    totalbill=bill+tip_given\n",
    "    print(totalbill)\n",
    "resto_tip()"
   ]
  },
  {
   "cell_type": "code",
   "execution_count": 80,
   "id": "a20738f0",
   "metadata": {},
   "outputs": [
    {
     "name": "stdout",
     "output_type": "stream",
     "text": [
      "1100.0\n"
     ]
    }
   ],
   "source": [
    "#same program by args\n",
    "def resto_tip(bill,tip):\n",
    "    tip_given=bill*tip/100\n",
    "    totalbill=bill+tip_given\n",
    "    print(totalbill)\n",
    "resto_tip(1000,10)# same same    "
   ]
  },
  {
   "cell_type": "markdown",
   "id": "12bb51bc",
   "metadata": {},
   "source": [
    "also we can write like this as "
   ]
  },
  {
   "cell_type": "code",
   "execution_count": 83,
   "id": "81692640",
   "metadata": {},
   "outputs": [
    {
     "name": "stdout",
     "output_type": "stream",
     "text": [
      "enter bll:1000\n",
      "enter tip:20\n",
      "1200.0\n"
     ]
    }
   ],
   "source": [
    "def resto_tip(bill,tip):\n",
    "    tip_given=bill*tip/100\n",
    "    totalbill=bill+tip_given\n",
    "    print(totalbill)\n",
    "resto_tip(\n",
    "          eval(input('enter bll:')),\n",
    "          eval(input('enter tip:'))\n",
    "         )"
   ]
  },
  {
   "cell_type": "code",
   "execution_count": 84,
   "id": "b79bb10e",
   "metadata": {},
   "outputs": [
    {
     "name": "stdout",
     "output_type": "stream",
     "text": [
      "entera number:2\n",
      "even\n"
     ]
    }
   ],
   "source": [
    "#example evenodd\n",
    "def even_odd():\n",
    "    num=eval(input(\"entera number:\"))\n",
    "    if num%2==0:\n",
    "        print('even')\n",
    "    else:\n",
    "        print(\"odd\")\n",
    "even_odd()"
   ]
  },
  {
   "cell_type": "code",
   "execution_count": 88,
   "id": "e679eaec",
   "metadata": {},
   "outputs": [
    {
     "name": "stdout",
     "output_type": "stream",
     "text": [
      "even\n"
     ]
    }
   ],
   "source": [
    "#same prog with args\n",
    "def even_odd(num):\n",
    "    if num%2==0:\n",
    "        print('even')\n",
    "    else:\n",
    "        print(\"odd\")\n",
    "even_odd(32)"
   ]
  },
  {
   "cell_type": "code",
   "execution_count": null,
   "id": "38bb06b3",
   "metadata": {},
   "outputs": [],
   "source": [
    "- Function with out arguments\n",
    "- Function with arguments\n",
    "- Default arguments\n",
    "- Local vs global\n",
    "- return\n",
    "- function in function\n"
   ]
  },
  {
   "cell_type": "markdown",
   "id": "aea7e195",
   "metadata": {},
   "source": [
    "# 24-01-2024(WEDNESDAY)"
   ]
  },
  {
   "cell_type": "code",
   "execution_count": 93,
   "id": "71d46e9f",
   "metadata": {},
   "outputs": [
    {
     "name": "stdout",
     "output_type": "stream",
     "text": [
      "20.0\n"
     ]
    }
   ],
   "source": [
    "# till yesterday we discussed functions without args and eith args\n",
    "#Example\n",
    "\"\"\"without args\"\"\"\n",
    "def average():\n",
    "    num1=10\n",
    "    num2=20\n",
    "    num3=30\n",
    "    avg=(num1+num2+num3)/3\n",
    "    print(avg)\n",
    "average()"
   ]
  },
  {
   "cell_type": "code",
   "execution_count": 94,
   "id": "d3f8e7f4",
   "metadata": {},
   "outputs": [
    {
     "name": "stdout",
     "output_type": "stream",
     "text": [
      "20.0\n"
     ]
    }
   ],
   "source": [
    "\"\"\"with args\"\"\"\n",
    "def average(num1,num2,num3):\n",
    "    avg=(num1+num2+num3)/3\n",
    "    print(avg)\n",
    "average(10,20,30)"
   ]
  },
  {
   "cell_type": "markdown",
   "id": "636165f2",
   "metadata": {},
   "source": [
    "# Default Arguments"
   ]
  },
  {
   "cell_type": "markdown",
   "id": "5fff2538",
   "metadata": {},
   "source": [
    "- we can fix the argument values is called as Default args"
   ]
  },
  {
   "cell_type": "code",
   "execution_count": 96,
   "id": "b415d5bd",
   "metadata": {},
   "outputs": [
    {
     "name": "stdout",
     "output_type": "stream",
     "text": [
      "205\n"
     ]
    }
   ],
   "source": [
    "#examples\n",
    "def addition(a,b=100):\n",
    "    add=(a+b)\n",
    "    print(add)\n",
    "addition(5)\n",
    "# a=4 and b=100\n",
    "# b is default here"
   ]
  },
  {
   "cell_type": "code",
   "execution_count": 97,
   "id": "c542481e",
   "metadata": {},
   "outputs": [
    {
     "name": "stdout",
     "output_type": "stream",
     "text": [
      "200\n"
     ]
    }
   ],
   "source": [
    "#ex-2\n",
    "def addition(a=100,b=100):\n",
    "    add=(a+b)\n",
    "    print(add)\n",
    "addition()\n",
    "# a=100 and b=100\n",
    "# a and b is default here"
   ]
  },
  {
   "cell_type": "code",
   "execution_count": 98,
   "id": "d7209008",
   "metadata": {},
   "outputs": [
    {
     "ename": "SyntaxError",
     "evalue": "non-default argument follows default argument (158079050.py, line 1)",
     "output_type": "error",
     "traceback": [
      "\u001b[1;36m  Cell \u001b[1;32mIn[98], line 1\u001b[1;36m\u001b[0m\n\u001b[1;33m    def addition(a=100,b):\u001b[0m\n\u001b[1;37m                       ^\u001b[0m\n\u001b[1;31mSyntaxError\u001b[0m\u001b[1;31m:\u001b[0m non-default argument follows default argument\n"
     ]
    }
   ],
   "source": [
    "def addition(a=100,b):\n",
    "    add=(a+b)\n",
    "    print(add)\n",
    "addition(20)\n",
    "    # error because default values should be always last"
   ]
  },
  {
   "cell_type": "markdown",
   "id": "80bdef52",
   "metadata": {},
   "source": [
    "**NOTE:** Default values should be always last"
   ]
  },
  {
   "cell_type": "code",
   "execution_count": null,
   "id": "b9ea3533",
   "metadata": {},
   "outputs": [],
   "source": [
    "#Some cases"
   ]
  },
  {
   "cell_type": "code",
   "execution_count": null,
   "id": "b23b374c",
   "metadata": {},
   "outputs": [],
   "source": [
    "add=(a=100,b=100,c) #FAILS\n",
    "add=(a=100,b,c=100) #FAILS Becaues b is not assigned\n",
    "add=(a=100,b=100,c=100) #PASS\n",
    "add=(a,b=100,c=100) #PASS\n",
    "add=(a,b=100,c) #FAIL\n",
    "add=(a,b,c=100) #PASS\n",
    "add=(a=100,b,c) #FAIL\n",
    "#LETS CHECK"
   ]
  },
  {
   "cell_type": "code",
   "execution_count": 99,
   "id": "23d8e7b3",
   "metadata": {},
   "outputs": [
    {
     "ename": "SyntaxError",
     "evalue": "non-default argument follows default argument (273984319.py, line 1)",
     "output_type": "error",
     "traceback": [
      "\u001b[1;36m  Cell \u001b[1;32mIn[99], line 1\u001b[1;36m\u001b[0m\n\u001b[1;33m    def addition(a=100,b=100,c):\u001b[0m\n\u001b[1;37m                             ^\u001b[0m\n\u001b[1;31mSyntaxError\u001b[0m\u001b[1;31m:\u001b[0m non-default argument follows default argument\n"
     ]
    }
   ],
   "source": [
    "# 1\n",
    "def addition(a=100,b=100,c):\n",
    "    add=(a+b+c)\n",
    "    print(add)\n",
    "addition(100)"
   ]
  },
  {
   "cell_type": "code",
   "execution_count": 100,
   "id": "569455f1",
   "metadata": {},
   "outputs": [
    {
     "ename": "SyntaxError",
     "evalue": "non-default argument follows default argument (3449150354.py, line 2)",
     "output_type": "error",
     "traceback": [
      "\u001b[1;36m  Cell \u001b[1;32mIn[100], line 2\u001b[1;36m\u001b[0m\n\u001b[1;33m    def addition(a=100,b,c=100):\u001b[0m\n\u001b[1;37m                       ^\u001b[0m\n\u001b[1;31mSyntaxError\u001b[0m\u001b[1;31m:\u001b[0m non-default argument follows default argument\n"
     ]
    }
   ],
   "source": [
    "# 2\n",
    "def addition(a=100,b,c=100):\n",
    "    add=(a+b+c)\n",
    "    print(add)\n",
    "addition(100)"
   ]
  },
  {
   "cell_type": "code",
   "execution_count": 102,
   "id": "bc33242f",
   "metadata": {},
   "outputs": [
    {
     "name": "stdout",
     "output_type": "stream",
     "text": [
      "300\n"
     ]
    }
   ],
   "source": [
    "# 3\n",
    "def addition(a=100,b=100,c=100):\n",
    "    add=(a+b+c)\n",
    "    print(add)\n",
    "addition()"
   ]
  },
  {
   "cell_type": "code",
   "execution_count": 103,
   "id": "0bf6a3e3",
   "metadata": {},
   "outputs": [
    {
     "name": "stdout",
     "output_type": "stream",
     "text": [
      "300\n"
     ]
    }
   ],
   "source": [
    "# 4\n",
    "def addition(a=100,b=100,c=100):\n",
    "    add=(a+b+c)\n",
    "    print(add)\n",
    "addition()\n",
    "# like thsi check others also"
   ]
  },
  {
   "cell_type": "code",
   "execution_count": 106,
   "id": "a3a748f9",
   "metadata": {},
   "outputs": [
    {
     "name": "stdout",
     "output_type": "stream",
     "text": [
      "1000\n"
     ]
    }
   ],
   "source": [
    "#example \n",
    "def addition(a=100,b=100,c=100):\n",
    "    add=(a+b+c)\n",
    "    print(add)\n",
    "addition(200,300,500)#here default values will override with new values"
   ]
  },
  {
   "cell_type": "code",
   "execution_count": 107,
   "id": "36fb13fb",
   "metadata": {},
   "outputs": [
    {
     "name": "stdout",
     "output_type": "stream",
     "text": [
      "500\n"
     ]
    }
   ],
   "source": [
    "#example \n",
    "def addition(a=100,b=100,c=100):\n",
    "    add=(a+b+c)\n",
    "    print(add)\n",
    "addition(a=100,c=300)#like this also we can provide"
   ]
  },
  {
   "cell_type": "code",
   "execution_count": 108,
   "id": "d0996851",
   "metadata": {},
   "outputs": [
    {
     "name": "stdout",
     "output_type": "stream",
     "text": [
      "1200\n"
     ]
    }
   ],
   "source": [
    "def summ(num1,num2=100):#default num2=100\n",
    "    num2=1000         #then before adding only num2=1000\n",
    "    add=num1+num2     #so num1=1200+num2=1000=1200\n",
    "    print(add)\n",
    "summ(num1=200) "
   ]
  },
  {
   "cell_type": "code",
   "execution_count": 111,
   "id": "f2b8030a",
   "metadata": {},
   "outputs": [
    {
     "name": "stdout",
     "output_type": "stream",
     "text": [
      "4200\n",
      "1300\n"
     ]
    }
   ],
   "source": [
    "#example\n",
    "a=1000\n",
    "b=2000\n",
    "def addition(a,b=300):\n",
    "    a=200\n",
    "    b=4000\n",
    "    print(a+b)\n",
    "b=300\n",
    "addition(20,30) \n",
    "add=(a+b)\n",
    "print(add) "
   ]
  },
  {
   "cell_type": "markdown",
   "id": "47a3a68a",
   "metadata": {},
   "source": [
    "**NOTE**: When we are printing outside the function outside values only print because we are not using RETURN KEYWORD  "
   ]
  },
  {
   "cell_type": "code",
   "execution_count": 155,
   "id": "de850e7a",
   "metadata": {},
   "outputs": [
    {
     "name": "stdout",
     "output_type": "stream",
     "text": [
      "4200\n"
     ]
    },
    {
     "data": {
      "text/plain": [
       "7000"
      ]
     },
     "execution_count": 155,
     "metadata": {},
     "output_type": "execute_result"
    }
   ],
   "source": [
    "#example\n",
    "num2=5000\n",
    "num1=10000\n",
    "def summ(num1,num2=3000):\n",
    "    num2=4000\n",
    "    add=num1+num2\n",
    "    print(add)\n",
    "num2=7000\n",
    "summ(num1=200,num2=2000)\n",
    "num2"
   ]
  },
  {
   "cell_type": "markdown",
   "id": "80980c85",
   "metadata": {},
   "source": [
    "# Tillnow completed\n",
    "- functions without args\n",
    "- functions with args\n",
    "- default args"
   ]
  },
  {
   "cell_type": "code",
   "execution_count": 115,
   "id": "fdfe9c4d",
   "metadata": {},
   "outputs": [
    {
     "name": "stdout",
     "output_type": "stream",
     "text": [
      "300\n",
      "30\n",
      "300\n"
     ]
    }
   ],
   "source": [
    "#examples\n",
    "def addition1():\n",
    "    num1=100;num2=200\n",
    "    summ=(num1+num2)\n",
    "    print(summ)\n",
    "addition1()\n",
    "#################################################################\n",
    "def addition2(num1,num2):\n",
    "    summ=(num1+num2)\n",
    "    print(summ)\n",
    "addition2(10,20)\n",
    "#################################################################\n",
    "def addition3(num1,num2=100):\n",
    "    summ=(num1+num2)\n",
    "    print(summ)\n",
    "addition3(200)"
   ]
  },
  {
   "cell_type": "code",
   "execution_count": null,
   "id": "5c6c53f5",
   "metadata": {},
   "outputs": [],
   "source": [
    "# wap ask the user enter salary: 100000\n",
    "# ask the user enter tax per : 10\n",
    "# calculate tax\n",
    "# Implement functio with out argument\n",
    "# function with argument\n",
    "# function default argument : tax_per=10"
   ]
  },
  {
   "cell_type": "code",
   "execution_count": 117,
   "id": "c7b0b19d",
   "metadata": {},
   "outputs": [
    {
     "name": "stdout",
     "output_type": "stream",
     "text": [
      "enter the salaray:1000\n",
      "enter the tax:10\n",
      "100.0\n"
     ]
    }
   ],
   "source": [
    "def salary_tax():\n",
    "    salary=eval(input(\"enter the salaray:\"))\n",
    "    tax=eval(input(\"enter the tax:\"))\n",
    "    totaltax=(salary*tax)/100\n",
    "    print(totaltax)\n",
    "salary_tax()"
   ]
  },
  {
   "cell_type": "code",
   "execution_count": 118,
   "id": "8b9c6a7f",
   "metadata": {},
   "outputs": [
    {
     "name": "stdout",
     "output_type": "stream",
     "text": [
      "100.0\n"
     ]
    }
   ],
   "source": [
    "def salary_tax(salary,tax):\n",
    "    totaltax=(salary*tax)/100\n",
    "    print(totaltax)\n",
    "salary_tax(1000,10)"
   ]
  },
  {
   "cell_type": "code",
   "execution_count": 121,
   "id": "aa7fce56",
   "metadata": {},
   "outputs": [
    {
     "name": "stdout",
     "output_type": "stream",
     "text": [
      "200.0\n"
     ]
    }
   ],
   "source": [
    "def salary_tax(salary,tax=10):\n",
    "    # salary=1000 here also we can provide\n",
    "    totaltax=(salary*tax)/100\n",
    "    print(totaltax)\n",
    "salary_tax(1000)"
   ]
  },
  {
   "cell_type": "markdown",
   "id": "fc2298eb",
   "metadata": {},
   "source": [
    "# RETURN"
   ]
  },
  {
   "cell_type": "code",
   "execution_count": null,
   "id": "29e91d82",
   "metadata": {},
   "outputs": [],
   "source": [
    "def salary_tax(salary,tax=10):\n",
    "    # salary=1000 here also we can provide\n",
    "    totaltax=(salary*tax)/100\n",
    "    print(totaltax)\n",
    "salary_tax(1000)"
   ]
  },
  {
   "cell_type": "code",
   "execution_count": null,
   "id": "3d5c257b",
   "metadata": {},
   "outputs": [],
   "source": [
    "- in above ex TOTALTAX we are getting inside the function\n",
    "- to axcess (or) to use outside use RETURN"
   ]
  },
  {
   "cell_type": "code",
   "execution_count": 156,
   "id": "1871dee0",
   "metadata": {},
   "outputs": [
    {
     "name": "stdout",
     "output_type": "stream",
     "text": [
      "100.0\n"
     ]
    }
   ],
   "source": [
    "#example\n",
    "def salary_tax(salary,tax=10):\n",
    "    totaltax=(salary*tax)/100\n",
    "    return (totaltax)\n",
    "totaltax=salary_tax(1000)\n",
    "print(totaltax)"
   ]
  },
  {
   "cell_type": "markdown",
   "id": "e72ba7d7",
   "metadata": {},
   "source": [
    "- here to get outside we should provide a varable to calling part .(varable may be samename or use diff name max use same name to aviod confustion)\n",
    "- such as totaltax=salary_tax(1000)\n",
    "- now print the totaltax"
   ]
  },
  {
   "cell_type": "code",
   "execution_count": 158,
   "id": "3fd8d0a8",
   "metadata": {},
   "outputs": [
    {
     "name": "stdout",
     "output_type": "stream",
     "text": [
      "(100.0, 1000, 10)\n"
     ]
    }
   ],
   "source": [
    "def salary_tax(salary,tax=10):\n",
    "    totaltax=(salary*tax)/100\n",
    "    return totaltax,salary,tax #here we are returning 3varables\n",
    "totaltax=salary_tax(1000)   #here we can give 3varables or 1 its our wish\n",
    "print(totaltax)"
   ]
  },
  {
   "cell_type": "markdown",
   "id": "0109acb8",
   "metadata": {},
   "source": [
    "- if we return(a,b,c)\n",
    "- we can give one varable 0r 3varales\n",
    "- if we use one varable we get ouput as (1,2,3)"
   ]
  },
  {
   "cell_type": "code",
   "execution_count": 161,
   "id": "c012148b",
   "metadata": {},
   "outputs": [
    {
     "name": "stdout",
     "output_type": "stream",
     "text": [
      "100.0\n",
      "1000\n",
      "10\n"
     ]
    }
   ],
   "source": [
    "def salary_tax(salary,tax=10):\n",
    "    totaltax=(salary*tax)/100\n",
    "    return (totaltax,salary,tax)\n",
    "totaltax,salary,tax=salary_tax(1000) #here like this we should 3 varables and print them\n",
    "print(totaltax)\n",
    "print(salary)\n",
    "print(tax)"
   ]
  },
  {
   "cell_type": "markdown",
   "id": "5f1280a9",
   "metadata": {},
   "source": [
    "**NOTE**: Here how many we will return that many varables we should give to callingpart (or) give one\n",
    "- should not give 2 varables when we return 3"
   ]
  },
  {
   "cell_type": "code",
   "execution_count": 166,
   "id": "36cd92bc",
   "metadata": {},
   "outputs": [
    {
     "name": "stdout",
     "output_type": "stream",
     "text": [
      "10\n"
     ]
    }
   ],
   "source": [
    "#case 1\n",
    "add=10\n",
    "def addition(a,b):\n",
    "    add=(a+b)\n",
    "    return add\n",
    "addition(10,20)\n",
    "print(add)"
   ]
  },
  {
   "cell_type": "code",
   "execution_count": 168,
   "id": "f906c556",
   "metadata": {},
   "outputs": [
    {
     "name": "stdout",
     "output_type": "stream",
     "text": [
      "30\n"
     ]
    }
   ],
   "source": [
    "#case 2\n",
    "add=10\n",
    "def addition(a,b):\n",
    "    add=(a+b)\n",
    "    return add\n",
    "add=addition(10,20)\n",
    "print(add)"
   ]
  },
  {
   "cell_type": "code",
   "execution_count": 169,
   "id": "ba448480",
   "metadata": {},
   "outputs": [
    {
     "name": "stdout",
     "output_type": "stream",
     "text": [
      "(30, 10, 20)\n"
     ]
    }
   ],
   "source": [
    "# case 3\n",
    "add=10\n",
    "def addition(a,b):\n",
    "    add=(a+b)\n",
    "    return add,a,b\n",
    "add=addition(10,20)\n",
    "print(add)"
   ]
  },
  {
   "cell_type": "code",
   "execution_count": 179,
   "id": "ae9f02fa",
   "metadata": {},
   "outputs": [
    {
     "ename": "ValueError",
     "evalue": "too many values to unpack (expected 2)",
     "output_type": "error",
     "traceback": [
      "\u001b[1;31m---------------------------------------------------------------------------\u001b[0m",
      "\u001b[1;31mValueError\u001b[0m                                Traceback (most recent call last)",
      "Cell \u001b[1;32mIn[179], line 5\u001b[0m\n\u001b[0;32m      3\u001b[0m     add\u001b[38;5;241m=\u001b[39m(a\u001b[38;5;241m+\u001b[39mb)\n\u001b[0;32m      4\u001b[0m     \u001b[38;5;28;01mreturn\u001b[39;00m add,a,b\n\u001b[1;32m----> 5\u001b[0m add,a,\u001b[38;5;241m=\u001b[39maddition(\u001b[38;5;241m10\u001b[39m,\u001b[38;5;241m20\u001b[39m) \u001b[38;5;66;03m#error because we have return 3 and assigned only 2varables in calling part\u001b[39;00m\n\u001b[0;32m      6\u001b[0m \u001b[38;5;28mprint\u001b[39m(add)\n\u001b[0;32m      7\u001b[0m \u001b[38;5;28mprint\u001b[39m(a)\n",
      "\u001b[1;31mValueError\u001b[0m: too many values to unpack (expected 2)"
     ]
    }
   ],
   "source": [
    "# case 4\n",
    "add=10\n",
    "def addition(a,b):\n",
    "    add=(a+b)\n",
    "    return add,a,b\n",
    "add,a,=addition(10,20) #error because we have return 3 and assigned only 2varables in calling part\n",
    "print(add)\n",
    "print(a)\n",
    "print(b)"
   ]
  },
  {
   "cell_type": "code",
   "execution_count": 181,
   "id": "79df3371",
   "metadata": {},
   "outputs": [
    {
     "name": "stdout",
     "output_type": "stream",
     "text": [
      "30\n",
      "10\n",
      "20\n"
     ]
    }
   ],
   "source": [
    "case 5\n",
    "add=10\n",
    "def addition(a,b):\n",
    "    add=(a+b)\n",
    "    return add,a,b\n",
    "add,a,b=addition(10,20) \n",
    "print(add)\n",
    "print(a)\n",
    "print(b)"
   ]
  },
  {
   "cell_type": "markdown",
   "id": "1c961c0b",
   "metadata": {},
   "source": [
    "- Functions with out arguments\n",
    "- Function with arguments\n",
    "- Function with default argument\n",
    "- return\n",
    "- global local function in function"
   ]
  },
  {
   "cell_type": "markdown",
   "id": "c11587df",
   "metadata": {},
   "source": [
    "# 25-01-2024(THURSDAY)"
   ]
  },
  {
   "cell_type": "code",
   "execution_count": null,
   "id": "08007d01",
   "metadata": {},
   "outputs": [],
   "source": [
    "#wap take one input var and one random varable\n",
    "# if num1==num2 ,print('u won')\n",
    "# else u lost\n",
    "# same program by"
   ]
  },
  {
   "cell_type": "markdown",
   "id": "86082f4c",
   "metadata": {},
   "source": [
    "- without args\n",
    "- with args \n",
    "- default args \n",
    "- using return "
   ]
  },
  {
   "cell_type": "code",
   "execution_count": 1,
   "id": "ce6caae0",
   "metadata": {},
   "outputs": [
    {
     "name": "stdout",
     "output_type": "stream",
     "text": [
      "enter a number b/w 1 to 5:2\n",
      "u won\n"
     ]
    }
   ],
   "source": [
    "#ex FUNCTION WITHOUT ARGS\n",
    "import random\n",
    "def game():\n",
    "    num1=random.randint(1,5)\n",
    "    num2=eval(input(\"enter a number b/w 1 to 5:\"))\n",
    "    if num1==num2:\n",
    "        print(\"u won\")\n",
    "    else:\n",
    "        print(\"u lost\")\n",
    "game()"
   ]
  },
  {
   "cell_type": "code",
   "execution_count": 8,
   "id": "0c2f9f5b",
   "metadata": {},
   "outputs": [
    {
     "name": "stdout",
     "output_type": "stream",
     "text": [
      "u lost\n"
     ]
    }
   ],
   "source": [
    "#ex FUNCTION WITH ARGS\n",
    "import random\n",
    "def game1(num2):\n",
    "    num1=random.randint(1,5) #this random we cant write in args so write here\n",
    "    if num1==num2:\n",
    "        print(\"u won\")\n",
    "    else:\n",
    "        print(\"u lost\")\n",
    "game1(5)"
   ]
  },
  {
   "cell_type": "code",
   "execution_count": 24,
   "id": "b1aef8a5",
   "metadata": {},
   "outputs": [
    {
     "name": "stdout",
     "output_type": "stream",
     "text": [
      "u lost\n"
     ]
    }
   ],
   "source": [
    "# ex by default args\n",
    "import random\n",
    "def game3(num1=2):\n",
    "    num2=random.randint(1,4)\n",
    "    if num1==num2:\n",
    "        print(\"u won\")\n",
    "    else:\n",
    "        print(\"u lost\")\n",
    "game3()"
   ]
  },
  {
   "cell_type": "code",
   "execution_count": 45,
   "id": "5ef517ce",
   "metadata": {},
   "outputs": [
    {
     "name": "stdout",
     "output_type": "stream",
     "text": [
      "u won\n",
      "10000\n",
      "price\n"
     ]
    }
   ],
   "source": [
    "# by using return keyword()\n",
    "import random\n",
    "def game4(num1):\n",
    "    num2=random.randint(1,4)\n",
    "    if num1==num2:\n",
    "        print(\"u won\")\n",
    "        return (10000,\"price\")\n",
    "    else:\n",
    "        print(\"u lost\")\n",
    "        return (0,\"lost bhai\")\n",
    "amount,qute=game4(2)\n",
    "print(amount)\n",
    "print(qute)"
   ]
  },
  {
   "cell_type": "markdown",
   "id": "c06dc35d",
   "metadata": {},
   "source": [
    "# LOCAL AND GLOBAL VARABLES"
   ]
  },
  {
   "cell_type": "markdown",
   "id": "df1ad2ef",
   "metadata": {},
   "source": [
    "**LocalVarables**: Varables which are inside the function are called as local varables"
   ]
  },
  {
   "cell_type": "code",
   "execution_count": 46,
   "id": "34a3d8d9",
   "metadata": {},
   "outputs": [
    {
     "name": "stdout",
     "output_type": "stream",
     "text": [
      "60\n"
     ]
    }
   ],
   "source": [
    "#examples\n",
    "def addition5():\n",
    "    num1=20\n",
    "    num2=40\n",
    "    print(num1+num2)\n",
    "addition5()\n",
    "# in above function there are total 2 varables \n",
    "# which are inside the function so they are local varables\n",
    "# thats it simple"
   ]
  },
  {
   "cell_type": "markdown",
   "id": "4a5f1fdb",
   "metadata": {},
   "source": [
    "# GLOBAL VARABLES"
   ]
  },
  {
   "cell_type": "markdown",
   "id": "3dc96769",
   "metadata": {},
   "source": [
    "**GlobalVarables**: The varables which are outside the function are called as Global varables(PAN INDIA FILM(we can relese every where same here we can use this every were.......!!!!!!))"
   ]
  },
  {
   "cell_type": "code",
   "execution_count": 49,
   "id": "8c7e7d2d",
   "metadata": {},
   "outputs": [
    {
     "name": "stdout",
     "output_type": "stream",
     "text": [
      "enter a number:20\n",
      "enter a number:30\n",
      "50\n",
      "20\n",
      "30\n"
     ]
    }
   ],
   "source": [
    "#Examples\n",
    "num1=eval(input(\"enter a number:\"))\n",
    "num2=eval(input(\"enter a number:\"))\n",
    "def addition6():\n",
    "    add=num1+num2\n",
    "    print(add)\n",
    "addition6()\n",
    "print(num1)\n",
    "print(num2)          # as this are global varables we can axcess every where>>>>..........!!!!!!!\n"
   ]
  },
  {
   "cell_type": "code",
   "execution_count": 54,
   "id": "6aad48b9",
   "metadata": {},
   "outputs": [
    {
     "name": "stdout",
     "output_type": "stream",
     "text": [
      "enter anumber10\n",
      "15\n",
      "5\n"
     ]
    },
    {
     "ename": "NameError",
     "evalue": "name 'numm2' is not defined",
     "output_type": "error",
     "traceback": [
      "\u001b[1;31m---------------------------------------------------------------------------\u001b[0m",
      "\u001b[1;31mNameError\u001b[0m                                 Traceback (most recent call last)",
      "Cell \u001b[1;32mIn[54], line 10\u001b[0m\n\u001b[0;32m      8\u001b[0m summ()\n\u001b[0;32m      9\u001b[0m \u001b[38;5;28mprint\u001b[39m(numm1)\n\u001b[1;32m---> 10\u001b[0m \u001b[38;5;28mprint\u001b[39m(numm2)\n",
      "\u001b[1;31mNameError\u001b[0m: name 'numm2' is not defined"
     ]
    }
   ],
   "source": [
    "#example\n",
    "import random\n",
    "numm1=random.randint(1,5)  #GLOBAL varable\n",
    "def summ():\n",
    "    numm2=eval(input(\"enter anumber\")) #LOCAL varable\n",
    "    add=numm1+numm2\n",
    "    print(add)\n",
    "summ()\n",
    "print(numm1)\n",
    "print(numm2)\n",
    "# step1: here random value is stored in numm1\n",
    "# step-2: when we call the function then numm2 will exicute\n",
    "# step-3: when we print numm1 outside then function it will print(because) its GLOBAL\n",
    "# step-4: but numm2 will not print because its local"
   ]
  },
  {
   "cell_type": "code",
   "execution_count": 8,
   "id": "87bae25d",
   "metadata": {},
   "outputs": [
    {
     "name": "stdout",
     "output_type": "stream",
     "text": [
      "16\n"
     ]
    }
   ],
   "source": [
    "#example\n",
    "def addition(n1):\n",
    "    a=n1+n2 #n1=localvarable\n",
    "    print(a)\n",
    "n2=8 #global varable\n",
    "addition(8)"
   ]
  },
  {
   "cell_type": "code",
   "execution_count": 9,
   "id": "16fe6906",
   "metadata": {},
   "outputs": [
    {
     "ename": "NameError",
     "evalue": "name 'n4' is not defined",
     "output_type": "error",
     "traceback": [
      "\u001b[1;31m---------------------------------------------------------------------------\u001b[0m",
      "\u001b[1;31mNameError\u001b[0m                                 Traceback (most recent call last)",
      "Cell \u001b[1;32mIn[9], line 4\u001b[0m\n\u001b[0;32m      2\u001b[0m     a\u001b[38;5;241m=\u001b[39mn3\u001b[38;5;241m+\u001b[39mn4 \u001b[38;5;66;03m#n1=localvarable\u001b[39;00m\n\u001b[0;32m      3\u001b[0m     \u001b[38;5;28mprint\u001b[39m(a)\n\u001b[1;32m----> 4\u001b[0m addition(\u001b[38;5;241m8\u001b[39m)\n\u001b[0;32m      5\u001b[0m n4\u001b[38;5;241m=\u001b[39m\u001b[38;5;241m8\u001b[39m\n",
      "Cell \u001b[1;32mIn[9], line 2\u001b[0m, in \u001b[0;36maddition\u001b[1;34m(n3)\u001b[0m\n\u001b[0;32m      1\u001b[0m \u001b[38;5;28;01mdef\u001b[39;00m \u001b[38;5;21maddition\u001b[39m(n3):\n\u001b[1;32m----> 2\u001b[0m     a\u001b[38;5;241m=\u001b[39mn3\u001b[38;5;241m+\u001b[39mn4 \u001b[38;5;66;03m#n1=localvarable\u001b[39;00m\n\u001b[0;32m      3\u001b[0m     \u001b[38;5;28mprint\u001b[39m(a)\n",
      "\u001b[1;31mNameError\u001b[0m: name 'n4' is not defined"
     ]
    }
   ],
   "source": [
    "def addition(n3):\n",
    "    a=n3+n4 #n1=localvarable\n",
    "    print(a)\n",
    "addition(8)\n",
    "n4=8 #global varable"
   ]
  },
  {
   "cell_type": "markdown",
   "id": "fdb759b1",
   "metadata": {},
   "source": [
    "- so here varables which are inside function are called as local varables \n",
    "- functions which are outside function are called as global varables\n",
    "- if we want to use globalvarable inside the function then (that global var must be intilaize before calling the function)"
   ]
  },
  {
   "cell_type": "code",
   "execution_count": 20,
   "id": "1147a7d7",
   "metadata": {},
   "outputs": [
    {
     "name": "stdout",
     "output_type": "stream",
     "text": [
      "1000\n",
      "1100.0\n",
      "10\n"
     ]
    }
   ],
   "source": [
    "# if we want to use local varables without using \"return\" then use global keyword just after function\n",
    "#example\n",
    "\n",
    "def resto_tip():\n",
    "    global total_bill,tip\n",
    "    totalbill=1000\n",
    "    tip=10\n",
    "    totaltip=totalbill*tip/100\n",
    "    total_bill=totalbill+totaltip\n",
    "    print(totalbill)\n",
    "resto_tip()\n",
    "print(total_bill)\n",
    "print(tip)\n",
    "# also when when we declear a global keyword we no need to call the calling part with object\n",
    "#directly we can print"
   ]
  },
  {
   "cell_type": "code",
   "execution_count": 32,
   "id": "349b75af",
   "metadata": {},
   "outputs": [
    {
     "name": "stdout",
     "output_type": "stream",
     "text": [
      "12\n",
      "9\n",
      "12\n",
      "8.666666666666666\n"
     ]
    }
   ],
   "source": [
    "# wap ask take three numbers as arguments\n",
    "# create add and avg variables inside the func\n",
    "# calculate that add and avg\n",
    "# print outside the function with out uisng return\n",
    "def add_avg(a,b,c):\n",
    "    global add,avg\n",
    "    add=a+b+c\n",
    "    print(add)\n",
    "    avg=a+b+c/3\n",
    "    print(round(avg))\n",
    "add_avg(3,4,5)\n",
    "print(add)\n",
    "print(avg)"
   ]
  },
  {
   "cell_type": "markdown",
   "id": "02a1630d",
   "metadata": {},
   "source": [
    "# FUNCTIONS IN FUNCTIONS"
   ]
  },
  {
   "cell_type": "code",
   "execution_count": 35,
   "id": "7e0c599a",
   "metadata": {},
   "outputs": [
    {
     "name": "stdout",
     "output_type": "stream",
     "text": [
      "iam first\n",
      "iam second\n"
     ]
    }
   ],
   "source": [
    "#lets take two functions\n",
    "# case1\n",
    "def hello():\n",
    "    print(\"iam first\")\n",
    "def bye():\n",
    "    print(\"iam second\")\n",
    "hello()\n",
    "bye()"
   ]
  },
  {
   "cell_type": "code",
   "execution_count": 36,
   "id": "7ab89ee4",
   "metadata": {},
   "outputs": [
    {
     "name": "stdout",
     "output_type": "stream",
     "text": [
      "iam first\n",
      "iam second\n"
     ]
    }
   ],
   "source": [
    "# case-2\n",
    "def hello():\n",
    "    print(\"iam first\")\n",
    "def bye():\n",
    "    hello()\n",
    "    print(\"iam second\")\n",
    "\n",
    "bye()"
   ]
  },
  {
   "cell_type": "code",
   "execution_count": 38,
   "id": "16273fe0",
   "metadata": {},
   "outputs": [
    {
     "name": "stdout",
     "output_type": "stream",
     "text": [
      "iam second\n",
      "iam first\n",
      "iam second\n"
     ]
    }
   ],
   "source": [
    "# case-3\n",
    "def hello():\n",
    "    bye()\n",
    "    print(\"iam first\")\n",
    "def bye():\n",
    "    print(\"iam second\")\n",
    "hello()"
   ]
  },
  {
   "cell_type": "code",
   "execution_count": 39,
   "id": "2c2d1703",
   "metadata": {},
   "outputs": [
    {
     "ename": "RecursionError",
     "evalue": "maximum recursion depth exceeded",
     "output_type": "error",
     "traceback": [
      "\u001b[1;31m---------------------------------------------------------------------------\u001b[0m",
      "\u001b[1;31mRecursionError\u001b[0m                            Traceback (most recent call last)",
      "Cell \u001b[1;32mIn[39], line 8\u001b[0m\n\u001b[0;32m      6\u001b[0m     hello()\n\u001b[0;32m      7\u001b[0m     \u001b[38;5;28mprint\u001b[39m(\u001b[38;5;124m\"\u001b[39m\u001b[38;5;124miam second\u001b[39m\u001b[38;5;124m\"\u001b[39m)\n\u001b[1;32m----> 8\u001b[0m hello()\n",
      "Cell \u001b[1;32mIn[39], line 3\u001b[0m, in \u001b[0;36mhello\u001b[1;34m()\u001b[0m\n\u001b[0;32m      2\u001b[0m \u001b[38;5;28;01mdef\u001b[39;00m \u001b[38;5;21mhello\u001b[39m():\n\u001b[1;32m----> 3\u001b[0m     bye()\n\u001b[0;32m      4\u001b[0m     \u001b[38;5;28mprint\u001b[39m(\u001b[38;5;124m\"\u001b[39m\u001b[38;5;124miam first\u001b[39m\u001b[38;5;124m\"\u001b[39m)\n",
      "Cell \u001b[1;32mIn[39], line 6\u001b[0m, in \u001b[0;36mbye\u001b[1;34m()\u001b[0m\n\u001b[0;32m      5\u001b[0m \u001b[38;5;28;01mdef\u001b[39;00m \u001b[38;5;21mbye\u001b[39m():\n\u001b[1;32m----> 6\u001b[0m     hello()\n\u001b[0;32m      7\u001b[0m     \u001b[38;5;28mprint\u001b[39m(\u001b[38;5;124m\"\u001b[39m\u001b[38;5;124miam second\u001b[39m\u001b[38;5;124m\"\u001b[39m)\n",
      "Cell \u001b[1;32mIn[39], line 3\u001b[0m, in \u001b[0;36mhello\u001b[1;34m()\u001b[0m\n\u001b[0;32m      2\u001b[0m \u001b[38;5;28;01mdef\u001b[39;00m \u001b[38;5;21mhello\u001b[39m():\n\u001b[1;32m----> 3\u001b[0m     bye()\n\u001b[0;32m      4\u001b[0m     \u001b[38;5;28mprint\u001b[39m(\u001b[38;5;124m\"\u001b[39m\u001b[38;5;124miam first\u001b[39m\u001b[38;5;124m\"\u001b[39m)\n",
      "Cell \u001b[1;32mIn[39], line 6\u001b[0m, in \u001b[0;36mbye\u001b[1;34m()\u001b[0m\n\u001b[0;32m      5\u001b[0m \u001b[38;5;28;01mdef\u001b[39;00m \u001b[38;5;21mbye\u001b[39m():\n\u001b[1;32m----> 6\u001b[0m     hello()\n\u001b[0;32m      7\u001b[0m     \u001b[38;5;28mprint\u001b[39m(\u001b[38;5;124m\"\u001b[39m\u001b[38;5;124miam second\u001b[39m\u001b[38;5;124m\"\u001b[39m)\n",
      "    \u001b[1;31m[... skipping similar frames: bye at line 6 (1484 times), hello at line 3 (1484 times)]\u001b[0m\n",
      "Cell \u001b[1;32mIn[39], line 3\u001b[0m, in \u001b[0;36mhello\u001b[1;34m()\u001b[0m\n\u001b[0;32m      2\u001b[0m \u001b[38;5;28;01mdef\u001b[39;00m \u001b[38;5;21mhello\u001b[39m():\n\u001b[1;32m----> 3\u001b[0m     bye()\n\u001b[0;32m      4\u001b[0m     \u001b[38;5;28mprint\u001b[39m(\u001b[38;5;124m\"\u001b[39m\u001b[38;5;124miam first\u001b[39m\u001b[38;5;124m\"\u001b[39m)\n",
      "Cell \u001b[1;32mIn[39], line 6\u001b[0m, in \u001b[0;36mbye\u001b[1;34m()\u001b[0m\n\u001b[0;32m      5\u001b[0m \u001b[38;5;28;01mdef\u001b[39;00m \u001b[38;5;21mbye\u001b[39m():\n\u001b[1;32m----> 6\u001b[0m     hello()\n\u001b[0;32m      7\u001b[0m     \u001b[38;5;28mprint\u001b[39m(\u001b[38;5;124m\"\u001b[39m\u001b[38;5;124miam second\u001b[39m\u001b[38;5;124m\"\u001b[39m)\n",
      "\u001b[1;31mRecursionError\u001b[0m: maximum recursion depth exceeded"
     ]
    }
   ],
   "source": [
    "#case-4\n",
    "def hello():\n",
    "    bye()\n",
    "    print(\"iam first\")\n",
    "def bye():\n",
    "    hello()\n",
    "    print(\"iam second\")\n",
    "hello()\n",
    "# function calling itself is called as recurssevie function\n",
    "    "
   ]
  },
  {
   "cell_type": "code",
   "execution_count": null,
   "id": "f67bd652",
   "metadata": {},
   "outputs": [],
   "source": [
    "# calcultor program\n",
    "# create 4 functions with arguments\n",
    "# fun1: add\n",
    "# fun2: sub\n",
    "# fun3: mul\n",
    "# fun4: div\n",
    "# print(\"if you want use add opertion pls enter 1\")\n",
    "# print(\"if you want use sub opertion pls enter 2\")\n",
    "# print(\"if you want use mul opertion pls enter 3\")\n",
    "# print(\"if you want use div opertion pls enter 4\")\n",
    "# option=eval(input(\"choose option 1,2,3,4\"))\n",
    "# if option==1:\n",
    "# n1=\n",
    "# n2=\n",
    "# add(n1,n2)\n",
    "# elif option==2:\n",
    "# sub()"
   ]
  },
  {
   "cell_type": "code",
   "execution_count": 42,
   "id": "24730f54",
   "metadata": {},
   "outputs": [
    {
     "name": "stdout",
     "output_type": "stream",
     "text": [
      "if u need add click1\n",
      "if u need sub click1\n",
      "if u need mul click1\n",
      "if u need div click1\n",
      "enter the option:3\n",
      "enter a number:2\n",
      "entera number:9\n",
      "18\n"
     ]
    }
   ],
   "source": [
    "#calculator program by using function,if else statements\n",
    "def addition(a,b):\n",
    "    add=(a+b)\n",
    "    print(add)\n",
    "    \n",
    "def suntraction(a,b):\n",
    "    sub=(a-b)\n",
    "    print(sub) \n",
    "    \n",
    "def multiplication(a,b):\n",
    "    mul=(a*b)\n",
    "    print(mul)\n",
    "    \n",
    "def division(a,b):\n",
    "    mul=(a/b)\n",
    "    print(mul)\n",
    "\n",
    "print(\"if u need add click1\")\n",
    "print(\"if u need sub click1\")\n",
    "print(\"if u need mul click1\")\n",
    "print(\"if u need div click1\")\n",
    "\n",
    "option=eval(input(\"enter the option:\"))\n",
    "if option==1:\n",
    "    addition(eval(input(\"enter a number:\")),\n",
    "            eval(input(\"entera number:\")))\n",
    "elif option==2:\n",
    "    suntraction(eval(input(\"enter a number:\")),\n",
    "               eval(input(\"entera number:\")))\n",
    "elif option==3:\n",
    "    multiplication(eval(input(\"enter a number:\")),\n",
    "                   eval(input(\"entera number:\")))\n",
    "elif option==4:\n",
    "    division(eval(input(\"enter a number:\")),\n",
    "            eval(input(\"entera number:\")))\n",
    "else:\n",
    "    print(\"choose correct option>>>>>>>>>>\")"
   ]
  },
  {
   "cell_type": "markdown",
   "id": "790ec311",
   "metadata": {},
   "source": [
    "# Hakerrank Question\n",
    "An extra day is added to the calendar almost every four years as February 29, and the day is called a leap day. It corrects the calendar for the fact that our planet takes approximately 365.25 days to orbit the sun. A leap year contains a leap day.\n",
    "\n",
    "In the Gregorian calendar, three conditions are used to identify leap years:\n",
    "\n",
    "The year can be evenly divided by 4, is a leap year, unless:\n",
    "The year can be evenly divided by 100, it is NOT a leap year, unless:\n",
    "The year is also evenly divisible by 400. Then it is a leap year.\n",
    "This means that in the Gregorian calendar, the years 2000 and 2400 are leap years, while 1800, 1900, 2100, 2200, 2300 and 2500 are NOT leap years. Source\n",
    "\n",
    "Task\n",
    "\n",
    "Given a year, determine whether it is a leap year. If it is a leap year, return the Boolean True, otherwise return False.\n",
    "\n",
    "Note that the code stub provided reads from STDIN and passes arguments to the is_leap function. It is only necessary to complete the is_leap function."
   ]
  },
  {
   "cell_type": "code",
   "execution_count": 3,
   "id": "552ba77a",
   "metadata": {},
   "outputs": [
    {
     "name": "stdout",
     "output_type": "stream",
     "text": [
      "2001\n",
      "False\n"
     ]
    }
   ],
   "source": [
    "#correct answer\n",
    "def is_leap(year):\n",
    "    leap = False\n",
    "    if (year%4==0 and year%100 !=0) or (year%400==0):\n",
    "        leaf = True\n",
    "        return leaf\n",
    "    else:\n",
    "        return leap\n",
    "year = int(input())\n",
    "print(is_leap(year))"
   ]
  },
  {
   "cell_type": "code",
   "execution_count": 6,
   "id": "0cb1742f",
   "metadata": {},
   "outputs": [
    {
     "name": "stdout",
     "output_type": "stream",
     "text": [
      "enter year2001\n",
      "False\n"
     ]
    }
   ],
   "source": [
    "#correct but some what wrong\n",
    "#written by me\n",
    "def is_leap(year):\n",
    "    leap = False\n",
    "    if year%4==0:\n",
    "        return True\n",
    "    elif year%400==0:\n",
    "        return True\n",
    "    elif year%100!=0:\n",
    "        return leap\n",
    "    # Write your logic here\n",
    "    else:\n",
    "        return leap\n",
    "    \n",
    "leap=is_leap(eval(input(\"enter year\")))\n",
    "print(leap)"
   ]
  },
  {
   "cell_type": "markdown",
   "id": "ed5298d5",
   "metadata": {},
   "source": [
    "- question 2"
   ]
  },
  {
   "cell_type": "code",
   "execution_count": null,
   "id": "51172252",
   "metadata": {},
   "outputs": [],
   "source": [
    "if __name__ == '__main__':\n",
    "    def fun(n):\n",
    "        \n",
    "        if n==1:\n",
    "            print(1)\n",
    "        elif n==2:\n",
    "            print(12)\n",
    "        elif n==3:\n",
    "            print(123)\n",
    "        elif n==4:\n",
    "            print(1234)\n",
    "        elif n==5:\n",
    "            print(12345)\n",
    "        elif n==10:\n",
    "            print(12345678910)\n",
    "        else:\n",
    "            pass\n",
    "    fun(int(input()))   \n",
    "    "
   ]
  }
 ],
 "metadata": {
  "kernelspec": {
   "display_name": "Python 3 (ipykernel)",
   "language": "python",
   "name": "python3"
  },
  "language_info": {
   "codemirror_mode": {
    "name": "ipython",
    "version": 3
   },
   "file_extension": ".py",
   "mimetype": "text/x-python",
   "name": "python",
   "nbconvert_exporter": "python",
   "pygments_lexer": "ipython3",
   "version": "3.11.5"
  }
 },
 "nbformat": 4,
 "nbformat_minor": 5
}

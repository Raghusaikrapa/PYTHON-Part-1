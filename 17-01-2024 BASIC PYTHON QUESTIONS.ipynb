{
 "cells": [
  {
   "cell_type": "code",
   "execution_count": null,
   "id": "841c229f",
   "metadata": {},
   "outputs": [],
   "source": [
    "print('conservation b/w father and son')\n",
    "input(\"son:\")\n",
    "input(\"father:\")\n",
    "input(\"son:\")\n",
    "input(\"father:\")\n",
    "input(\"son:\")\n",
    "input(\"father:\")\n",
    "print(\"afrer reaching the bus stand\")\n",
    "input('conductor:')\n",
    "input(\"father:\")\n",
    "input(\"conductor:\")\n",
    "input(\"father:\")\n",
    "input(\"conductor:\")\n",
    "km=int(input(\"enter the kilometers:\"))\n",
    "cost=int(input('enter the cost per km:'))\n",
    "charge=km*cost\n",
    "print(f\"total charge is {charge}\")"
   ]
  },
  {
   "cell_type": "code",
   "execution_count": null,
   "id": "bcad343c",
   "metadata": {},
   "outputs": [],
   "source": [
    "print(\"conservation b/w custmer and barowner\")\n",
    "input(\"cust:\")\n",
    "input(\"bar:\")\n",
    "input(\"cust:\")\n",
    "input(\"bar:\")\n",
    "input(\"cust:\")\n",
    "input(\"bar:\")\n",
    "input('cust:')\n",
    "input(\"bar:\")\n",
    "inr=int(input(\"enter the cost:\"))\n",
    "dollers=int(input(\"enter the 1rs equto how many dollers:\"))\n",
    "total=inr/dollers\n",
    "print(f\"total u have to pay {total}\")"
   ]
  },
  {
   "cell_type": "code",
   "execution_count": null,
   "id": "6a5d5b5c",
   "metadata": {},
   "outputs": [],
   "source": [
    "num=int(input(\"enter the number:\"))\n",
    "if num%2==0:\n",
    "    print(\"its even\")\n",
    "else:\n",
    "    print(\"odd\")"
   ]
  },
  {
   "cell_type": "code",
   "execution_count": null,
   "id": "ac68acfd",
   "metadata": {},
   "outputs": [],
   "source": []
  },
  {
   "cell_type": "code",
   "execution_count": null,
   "id": "84af2b29",
   "metadata": {},
   "outputs": [],
   "source": [
    "num1=eval(input(\"enter a num:\"))\n",
    "num2=eval(input(\"enter a num:\"))\n",
    "num3=eval(input(\"enter a num:\"))\n",
    "average=(num1+num2+num3/3)\n",
    "round(average)\n"
   ]
  },
  {
   "cell_type": "code",
   "execution_count": null,
   "id": "e50c7e99",
   "metadata": {},
   "outputs": [],
   "source": [
    "bill=eval(input('enter the bill:'))\n",
    "tax=eval(input('enter the tax in percentage:'))\n",
    "totaltax=bill/tax*100\n",
    "print(totaltax)"
   ]
  },
  {
   "cell_type": "code",
   "execution_count": null,
   "id": "b78560a7",
   "metadata": {},
   "outputs": [],
   "source": [
    "import random\n",
    "num=random.randint(10,50)\n",
    "if num%2==0:\n",
    "    print(f\"{num} its even\")\n",
    "else:\n",
    "    print(f\"{num} its odd\")\n",
    "    "
   ]
  },
  {
   "cell_type": "code",
   "execution_count": null,
   "id": "047b15ac",
   "metadata": {},
   "outputs": [],
   "source": []
  },
  {
   "cell_type": "code",
   "execution_count": null,
   "id": "970f3a66",
   "metadata": {},
   "outputs": [],
   "source": [
    "import random\n",
    "num=random.randint(1,100)\n",
    "if num>50:\n",
    "    print(f\"{num} its greater than 50\")\n",
    "else:\n",
    "    print(f\"{num} its less than 50\")"
   ]
  },
  {
   "cell_type": "code",
   "execution_count": null,
   "id": "ad7ace3d",
   "metadata": {},
   "outputs": [],
   "source": [
    "num1=random.randint(1,10)\n",
    "num2=eval(input(\"enter a num b/w 1 to 10:\"))\n",
    "if num1==num2:\n",
    "    print(f\" {num1} u won\")\n",
    "else:\n",
    "    print(f\"{num1} u lost\")"
   ]
  },
  {
   "cell_type": "code",
   "execution_count": null,
   "id": "246c537d",
   "metadata": {},
   "outputs": [],
   "source": [
    "input(\"conductor:\")\n",
    "var1=input(\"mother:\")\n",
    "if var1==\"yes\":\n",
    "    print(\"enjoy the free bus\")\n",
    "else:\n",
    "    "
   ]
  },
  {
   "cell_type": "code",
   "execution_count": 4,
   "id": "b56321f1",
   "metadata": {},
   "outputs": [
    {
     "name": "stdout",
     "output_type": "stream",
     "text": [
      "enter anumber:3\n",
      "its greaterthan 2\n"
     ]
    }
   ],
   "source": [
    "number=eval(input(\"enter anumber:\"))\n",
    "if number==0:\n",
    "    print(\"zero\")\n",
    "elif number==1:\n",
    "    print(\"one\")\n",
    "elif number==2:\n",
    "    print(\"two\")\n",
    "else:\n",
    "    print(\"its greaterthan 2\")\n"
   ]
  },
  {
   "cell_type": "code",
   "execution_count": null,
   "id": "92b8f9b9",
   "metadata": {},
   "outputs": [],
   "source": []
  }
 ],
 "metadata": {
  "kernelspec": {
   "display_name": "Python 3 (ipykernel)",
   "language": "python",
   "name": "python3"
  },
  "language_info": {
   "codemirror_mode": {
    "name": "ipython",
    "version": 3
   },
   "file_extension": ".py",
   "mimetype": "text/x-python",
   "name": "python",
   "nbconvert_exporter": "python",
   "pygments_lexer": "ipython3",
   "version": "3.11.5"
  }
 },
 "nbformat": 4,
 "nbformat_minor": 5
}

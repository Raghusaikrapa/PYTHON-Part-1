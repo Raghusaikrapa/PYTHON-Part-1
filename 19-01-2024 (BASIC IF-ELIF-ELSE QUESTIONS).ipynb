{
 "cells": [
  {
   "cell_type": "markdown",
   "id": "9c46b65f",
   "metadata": {},
   "source": [
    "# QUS-1"
   ]
  },
  {
   "cell_type": "code",
   "execution_count": null,
   "id": "e66b4e09",
   "metadata": {},
   "outputs": [],
   "source": [
    "# MARKS CALCULATION"
   ]
  },
  {
   "cell_type": "code",
   "execution_count": null,
   "id": "3d19ccc0",
   "metadata": {},
   "outputs": [],
   "source": [
    "num=eval(input(\"enter your percentage:\"))\n",
    "if num>=90:\n",
    "    print(\"A+ garde\")\n",
    "elif num>=75:\n",
    "    print(\"B+ grade\")\n",
    "elif num>=50:\n",
    "    print(\"c grade\")\n",
    "elif num>=30:\n",
    "    print(\"B grade\")\n",
    "else:\n",
    "    print(\"fail\")"
   ]
  },
  {
   "cell_type": "markdown",
   "id": "fcd27348",
   "metadata": {},
   "source": [
    "# QUS 2\n",
    "**AGE CALCULATION**"
   ]
  },
  {
   "cell_type": "code",
   "execution_count": null,
   "id": "79554a70",
   "metadata": {},
   "outputs": [],
   "source": [
    "Age=eval(input(\"enter the age:\"))\n",
    "if Age>=80:\n",
    "    print(\"oldage\")\n",
    "elif Age>=50:\n",
    "    print(\"middle aged\")\n",
    "elif Age>=20:\n",
    "    print(\"teen aged\")\n",
    "else:\n",
    "    print(\"child\")\n"
   ]
  },
  {
   "cell_type": "markdown",
   "id": "ce89867f",
   "metadata": {},
   "source": [
    "# QUS 3\n",
    "**DISTANCE CALCULATION**\n",
    "- TAKE THE USER INPUT AND ENTER THE DISTANCE\n",
    "- IS DISTANCE >50 \n",
    "- ASK THE USER TO ENTER THE CHARGE\n",
    "- AND CALCULATE THE DIS*CHARGE"
   ]
  },
  {
   "cell_type": "code",
   "execution_count": null,
   "id": "344d7bdb",
   "metadata": {},
   "outputs": [],
   "source": [
    "dis=eval(input(\"enter the distance:\"))\n",
    "if dis>=45:\n",
    "    km=eval(input(\"enter the charge:\"))\n",
    "    total=dis*km\n",
    "    print(f\"total charge is {total}\")\n",
    "elif dis>=30:\n",
    "    km1=eval(input('enter the charge:'))\n",
    "    total1=dis*km1\n",
    "    print(f\"total charge is {total}\")\n",
    "elif dis>=10:\n",
    "    km2=eval(input('enter the charge:'))\n",
    "    total2=dis*km2\n",
    "    print(f\"total charge is {total2}\")\n",
    "else:\n",
    "    print('free buss')\n",
    "    \n",
    "    "
   ]
  },
  {
   "cell_type": "markdown",
   "id": "14de987b",
   "metadata": {},
   "source": [
    "# QUS 4\n",
    "**GENDER**\n"
   ]
  },
  {
   "cell_type": "code",
   "execution_count": 21,
   "id": "495e54f4",
   "metadata": {},
   "outputs": [
    {
     "name": "stdout",
     "output_type": "stream",
     "text": [
      "enter the gender:female\n",
      "enter the age:65\n",
      "middle aged women\n"
     ]
    }
   ],
   "source": [
    "\n",
    "gender=input(\"enter the gender:\")\n",
    "if gender==\"male\":\n",
    "    age=eval(input(\"enter the age:\"))\n",
    "    if age>=50:\n",
    "        print(\"middle aged man\")\n",
    "    elif age>=30:\n",
    "        print('young aged man')\n",
    "    elif age>=30:\n",
    "        print('boy')\n",
    "    else:\n",
    "        print(\"boy kid\")\n",
    "        \n",
    "elif gender==\"female\":\n",
    "    age1=eval(input(\"enter the age:\"))\n",
    "    if age1>=50:\n",
    "        print(\"middle aged women\")\n",
    "    elif age1>=30:\n",
    "        print('young aged women')\n",
    "    elif age1>=30:\n",
    "        print('girl')\n",
    "    else:\n",
    "        print(\"girl kid\")\n",
    "else:\n",
    "    print(\"enter correct gender\")\n",
    "    \n"
   ]
  },
  {
   "cell_type": "markdown",
   "id": "bb822ef0",
   "metadata": {},
   "source": [
    "# QUS 5\n",
    "**NUMBERS**"
   ]
  },
  {
   "cell_type": "code",
   "execution_count": 14,
   "id": "847158d6",
   "metadata": {},
   "outputs": [
    {
     "name": "stdout",
     "output_type": "stream",
     "text": [
      "enter the number:-12\n",
      "its negative number\n"
     ]
    }
   ],
   "source": [
    "num=eval(input('enter the number:'))\n",
    "if num>=0:\n",
    "    if num==0:\n",
    "        print(\"zero\")\n",
    "    else:\n",
    "        print('positive number')\n",
    "else:\n",
    "    print(\"its negative number\")"
   ]
  },
  {
   "cell_type": "markdown",
   "id": "8d63e730",
   "metadata": {},
   "source": [
    "# INTERVIEW QUESTION\n",
    "WAP TO FIND BIGGEST NUMBER ex 10,20,30"
   ]
  },
  {
   "cell_type": "code",
   "execution_count": 30,
   "id": "44eb71f4",
   "metadata": {},
   "outputs": [
    {
     "name": "stdout",
     "output_type": "stream",
     "text": [
      "enter the number1:10\n",
      "enter the number2:30\n",
      "enter the number3:20\n",
      "30 is biggest number\n"
     ]
    }
   ],
   "source": [
    "var1=eval(input(\"enter the number1:\"))\n",
    "var2=eval(input(\"enter the number2:\"))\n",
    "var3=eval(input(\"enter the number3:\"))\n",
    "if var1>var2>var3:\n",
    "    print(f\"{var1} is biggest number\")\n",
    "elif var1<var2<var3:\n",
    "    print(f\"{var3} is biggest number\")\n",
    "else:\n",
    "    print(f\"{var2} is biggest number\")"
   ]
  },
  {
   "cell_type": "code",
   "execution_count": null,
   "id": "6e970362",
   "metadata": {},
   "outputs": [],
   "source": []
  }
 ],
 "metadata": {
  "kernelspec": {
   "display_name": "Python 3 (ipykernel)",
   "language": "python",
   "name": "python3"
  },
  "language_info": {
   "codemirror_mode": {
    "name": "ipython",
    "version": 3
   },
   "file_extension": ".py",
   "mimetype": "text/x-python",
   "name": "python",
   "nbconvert_exporter": "python",
   "pygments_lexer": "ipython3",
   "version": "3.11.5"
  }
 },
 "nbformat": 4,
 "nbformat_minor": 5
}
